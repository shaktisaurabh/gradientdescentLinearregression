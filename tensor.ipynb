{
  "nbformat": 4,
  "nbformat_minor": 0,
  "metadata": {
    "colab": {
      "provenance": [],
      "gpuType": "T4"
    },
    "kernelspec": {
      "name": "python3",
      "display_name": "Python 3"
    },
    "language_info": {
      "name": "python"
    },
    "gpuClass": "standard"
  },
  "cells": [
    {
      "cell_type": "code",
      "execution_count": null,
      "metadata": {
        "id": "Hg_skbJto5vb",
        "outputId": "d522ff35-98ef-4d94-c4c3-bd18469366a8",
        "colab": {
          "base_uri": "https://localhost:8080/"
        }
      },
      "outputs": [
        {
          "output_type": "stream",
          "name": "stdout",
          "text": [
            "2.12.0\n"
          ]
        }
      ],
      "source": [
        "import tensorflow as tf\n",
        "print(tf.__version__)"
      ]
    },
    {
      "cell_type": "code",
      "source": [
        "import tensorflow as tf\n",
        "tf.config.list_physical_devices()"
      ],
      "metadata": {
        "colab": {
          "base_uri": "https://localhost:8080/"
        },
        "id": "3bPP_xC3wzYb",
        "outputId": "7096aa32-cd67-47e7-b5a5-a876b01ed8b3"
      },
      "execution_count": null,
      "outputs": [
        {
          "output_type": "execute_result",
          "data": {
            "text/plain": [
              "[PhysicalDevice(name='/physical_device:CPU:0', device_type='CPU'),\n",
              " PhysicalDevice(name='/physical_device:GPU:0', device_type='GPU')]"
            ]
          },
          "metadata": {},
          "execution_count": 3
        }
      ]
    },
    {
      "cell_type": "code",
      "source": [
        "!nvidia-smi\n",
        "#If you have access to CUDA-enabled GPU, tensorflow will automatically use it whenever possible"
      ],
      "metadata": {
        "id": "pxg_bhrp1CCo",
        "colab": {
          "base_uri": "https://localhost:8080/"
        },
        "outputId": "c6acf02f-554f-4644-b153-60e663a18b6e"
      },
      "execution_count": null,
      "outputs": [
        {
          "output_type": "stream",
          "name": "stdout",
          "text": [
            "Thu May 11 12:54:45 2023       \n",
            "+-----------------------------------------------------------------------------+\n",
            "| NVIDIA-SMI 525.85.12    Driver Version: 525.85.12    CUDA Version: 12.0     |\n",
            "|-------------------------------+----------------------+----------------------+\n",
            "| GPU  Name        Persistence-M| Bus-Id        Disp.A | Volatile Uncorr. ECC |\n",
            "| Fan  Temp  Perf  Pwr:Usage/Cap|         Memory-Usage | GPU-Util  Compute M. |\n",
            "|                               |                      |               MIG M. |\n",
            "|===============================+======================+======================|\n",
            "|   0  Tesla T4            Off  | 00000000:00:04.0 Off |                    0 |\n",
            "| N/A   34C    P8    10W /  70W |      3MiB / 15360MiB |      0%      Default |\n",
            "|                               |                      |                  N/A |\n",
            "+-------------------------------+----------------------+----------------------+\n",
            "                                                                               \n",
            "+-----------------------------------------------------------------------------+\n",
            "| Processes:                                                                  |\n",
            "|  GPU   GI   CI        PID   Type   Process name                  GPU Memory |\n",
            "|        ID   ID                                                   Usage      |\n",
            "|=============================================================================|\n",
            "|  No running processes found                                                 |\n",
            "+-----------------------------------------------------------------------------+\n"
          ]
        }
      ]
    },
    {
      "cell_type": "code",
      "source": [
        "#In machine learning continuous numerical output are those which take continuous numerical values in a given range. They are also called continuous variables or quantitative variables.\n",
        "#Example of continuous numerical output variable include the price of a house, the weight of a person, temperature of a room. In regression problem the goal is to predict the value of a\n",
        "#a continuous numerical output variables. For example, in predicting the price of a house, the input variables could be number of bedrooms, the size of house, the price, location etc.\n",
        "#They are different from categorical variables who have a finite set of possible values(such as yes/no, red/green/blue)\n",
        "#Linear regression is a popular algorithm for predicting continuous numerical output variables while logistic regression is commonly used for categorical variables."
      ],
      "metadata": {
        "id": "j2g6nPp4OyKs"
      },
      "execution_count": null,
      "outputs": []
    },
    {
      "cell_type": "code",
      "source": [
        "#In case we are doing a regression problem on predicting the house price then there will be 3 inputs [bedroom,bathroom,garage] possibly in shape [[0,0,0,1],[0,1,0,0],[0,0,1,0]]\n",
        "#having shape (3,4) possibly if we have 3 independent variables(having been encoded into 4 numbers) and the output will have a shape of (1,)"
      ],
      "metadata": {
        "id": "lHokke6UHKdO"
      },
      "execution_count": null,
      "outputs": []
    },
    {
      "cell_type": "code",
      "source": [
        "import tensorflow as tf\n",
        "a=tf.constant([[0,0,0,1],[0,1,0,0],[0,0,1,0]])\n",
        "a.shape"
      ],
      "metadata": {
        "colab": {
          "base_uri": "https://localhost:8080/"
        },
        "id": "5LnjiqokTplO",
        "outputId": "d0e435cc-4c26-46e3-99ad-1e385ecf48af"
      },
      "execution_count": null,
      "outputs": [
        {
          "output_type": "execute_result",
          "data": {
            "text/plain": [
              "TensorShape([3, 4])"
            ]
          },
          "metadata": {},
          "execution_count": 3
        }
      ]
    },
    {
      "cell_type": "code",
      "source": [
        "import tensorflow as tf\n",
        "a1=tf.constant([12])\n",
        "a1.shape"
      ],
      "metadata": {
        "colab": {
          "base_uri": "https://localhost:8080/"
        },
        "id": "l4MjoauoUXQB",
        "outputId": "1d67e134-7ae9-401c-9956-6333dccdbda8"
      },
      "execution_count": null,
      "outputs": [
        {
          "output_type": "execute_result",
          "data": {
            "text/plain": [
              "TensorShape([1])"
            ]
          },
          "metadata": {},
          "execution_count": 4
        }
      ]
    },
    {
      "cell_type": "code",
      "source": [
        "import numpy as np\n",
        "np.random.seed(2)\n",
        "training_input=np.array([[0,0,1],\n",
        "                         [1,1,1],\n",
        "                         [1,0,1],\n",
        "                         [0,1,1]])\n",
        "print(np.random.random((3,1)))\n",
        "print(2*np.random.random((3,1)))\n",
        "weights=2*np.random.random((3,1))\n",
        "print(np.dot(training_input,weights))\n"
      ],
      "metadata": {
        "colab": {
          "base_uri": "https://localhost:8080/"
        },
        "id": "NUP-iXy4Covg",
        "outputId": "c8961874-4704-4197-83b3-b0e4bf5ac4fb"
      },
      "execution_count": null,
      "outputs": [
        {
          "output_type": "stream",
          "name": "stdout",
          "text": [
            "[[0.4359949 ]\n",
            " [0.02592623]\n",
            " [0.54966248]]\n",
            "[[0.87064479]\n",
            " [0.8407356 ]\n",
            " [0.66066964]]\n",
            "[[0.59930935]\n",
            " [2.24714855]\n",
            " [1.00860662]\n",
            " [1.83785128]]\n"
          ]
        }
      ]
    },
    {
      "cell_type": "code",
      "source": [
        "#Suppose there are 2 inputs cgpa and iq for finding lpa , edges(connecting input to neurons or neurons to other neurons) have weights while neurons have biases , backpropagation algorithm\n",
        "#is to reset biases and weights till the error can be minimized. Neurons are also called perceptrons and layer is where all the perceptrons are aligned, all the layers aprt from input and output layer is the \n",
        "#hidden layer. CNN works great on images, RNN works great on texts/speeches and GNN generates texts, images.  Deep learning algorithm uses multiple layers to progressively extract higher level features from raw input. For\n",
        "#example in image processing, lower layers may identify edges and higher layers may identify concept rel\n",
        "#Machine learning performs good on low amount of data ans so does deep learning but after a threshold, the performance of machine learning stagnates, on the other hand performance of deep learning models improves with more data.\n",
        "#Feature selection happens automatically in deep learning\n",
        "#in make_regression n_samples represent number of samples, n_features=1, n_targets=1 means the target array will have a shape of 1-Dimensional array, noise applies standard deviation to the data,n_informative means number of features in dataset\n",
        "#that are informative for predicting output"
      ],
      "metadata": {
        "id": "4tuDmc6GER1s"
      },
      "execution_count": null,
      "outputs": []
    },
    {
      "cell_type": "code",
      "source": [
        "import tensorflow as tf\n",
        "t=tf.constant([[[3,4]],[[3,4]]])\n",
        "x_num=t.numpy()\n",
        "print(x_num.ravel())"
      ],
      "metadata": {
        "colab": {
          "base_uri": "https://localhost:8080/"
        },
        "id": "y0eoyJ7RYsyW",
        "outputId": "0bdba617-778f-4c26-8343-78eb21bf4e2f"
      },
      "execution_count": null,
      "outputs": [
        {
          "output_type": "stream",
          "name": "stdout",
          "text": [
            "[3 4 3 4]\n"
          ]
        }
      ]
    },
    {
      "cell_type": "code",
      "source": [
        "import tensorflow as tf\n",
        "t1=tf.constant([[3,2],[3,1]])\n",
        "x_num1=t1.numpy()\n",
        "print(x_num1.ravel())\n",
        "#ravel() is used to flatten multi-dimensional numpy array to a 1-Dimensional numpy array"
      ],
      "metadata": {
        "colab": {
          "base_uri": "https://localhost:8080/"
        },
        "id": "V0wRfQqWdA5y",
        "outputId": "db1983c6-ebaf-416a-c695-aff22c49855e"
      },
      "execution_count": null,
      "outputs": [
        {
          "output_type": "stream",
          "name": "stdout",
          "text": [
            "[3 2 3 1]\n"
          ]
        }
      ]
    },
    {
      "cell_type": "code",
      "source": [
        "from sklearn.datasets import make_regression"
      ],
      "metadata": {
        "id": "bwObOCd7eSsv"
      },
      "execution_count": null,
      "outputs": []
    },
    {
      "cell_type": "code",
      "source": [
        "x,y=make_regression(n_samples=4,n_features=1)"
      ],
      "metadata": {
        "id": "n-BxZwn-fck_"
      },
      "execution_count": null,
      "outputs": []
    },
    {
      "cell_type": "code",
      "source": [
        "x.shape"
      ],
      "metadata": {
        "colab": {
          "base_uri": "https://localhost:8080/"
        },
        "id": "GG0-o1vwfskI",
        "outputId": "921f15ba-a804-4466-e2a3-c60cfd432622"
      },
      "execution_count": null,
      "outputs": [
        {
          "output_type": "execute_result",
          "data": {
            "text/plain": [
              "(4, 1)"
            ]
          },
          "metadata": {},
          "execution_count": 4
        }
      ]
    },
    {
      "cell_type": "code",
      "source": [
        "y.shape"
      ],
      "metadata": {
        "colab": {
          "base_uri": "https://localhost:8080/"
        },
        "id": "26Qu_jLkfx5z",
        "outputId": "4358e47d-299b-4f5a-f901-01eddea04953"
      },
      "execution_count": null,
      "outputs": [
        {
          "output_type": "execute_result",
          "data": {
            "text/plain": [
              "(4,)"
            ]
          },
          "metadata": {},
          "execution_count": 5
        }
      ]
    },
    {
      "cell_type": "code",
      "source": [
        "x[:4]"
      ],
      "metadata": {
        "colab": {
          "base_uri": "https://localhost:8080/"
        },
        "id": "Qjp5dDKlf2mS",
        "outputId": "b819616a-35e2-432a-d536-80fba057f986"
      },
      "execution_count": null,
      "outputs": [
        {
          "output_type": "execute_result",
          "data": {
            "text/plain": [
              "array([[ 0.22062526],\n",
              "       [-0.41020105],\n",
              "       [-0.17453829],\n",
              "       [-0.47127999]])"
            ]
          },
          "metadata": {},
          "execution_count": 6
        }
      ]
    },
    {
      "cell_type": "code",
      "source": [
        "y[:4]"
      ],
      "metadata": {
        "colab": {
          "base_uri": "https://localhost:8080/"
        },
        "id": "tto378FyhL1c",
        "outputId": "40ae6a7d-1f9b-486c-df6e-e9782127c8c9"
      },
      "execution_count": null,
      "outputs": [
        {
          "output_type": "execute_result",
          "data": {
            "text/plain": [
              "array([ 14.88111806, -27.6679564 , -11.77256359, -31.78771589])"
            ]
          },
          "metadata": {},
          "execution_count": 7
        }
      ]
    },
    {
      "cell_type": "code",
      "source": [
        "x"
      ],
      "metadata": {
        "colab": {
          "base_uri": "https://localhost:8080/"
        },
        "id": "pmImH7pJhUsM",
        "outputId": "8967a8ac-0c85-4111-8d72-ed48504bb497"
      },
      "execution_count": null,
      "outputs": [
        {
          "output_type": "execute_result",
          "data": {
            "text/plain": [
              "array([[-0.63273499],\n",
              "       [ 0.8318939 ],\n",
              "       [-0.99880537],\n",
              "       [ 1.1307439 ]])"
            ]
          },
          "metadata": {},
          "execution_count": 10
        }
      ]
    },
    {
      "cell_type": "code",
      "source": [
        "y"
      ],
      "metadata": {
        "colab": {
          "base_uri": "https://localhost:8080/"
        },
        "id": "2CfiAJUJjyOy",
        "outputId": "f16136a6-6935-45a7-f27d-e580e14f7c15"
      },
      "execution_count": null,
      "outputs": [
        {
          "output_type": "execute_result",
          "data": {
            "text/plain": [
              "array([-58.28406625,  76.62948899, -92.00445484, 104.15790656])"
            ]
          },
          "metadata": {},
          "execution_count": 11
        }
      ]
    },
    {
      "cell_type": "code",
      "source": [
        "import matplotlib.pyplot as plt"
      ],
      "metadata": {
        "id": "r3OUOlDDj0na"
      },
      "execution_count": null,
      "outputs": []
    },
    {
      "cell_type": "code",
      "source": [
        "plt.scatter(x,y)"
      ],
      "metadata": {
        "colab": {
          "base_uri": "https://localhost:8080/",
          "height": 447
        },
        "id": "cbPZpCZnj5Y1",
        "outputId": "c490b445-eb03-4220-dd79-b0905f3ef85e"
      },
      "execution_count": null,
      "outputs": [
        {
          "output_type": "execute_result",
          "data": {
            "text/plain": [
              "<matplotlib.collections.PathCollection at 0x7f25bf4075b0>"
            ]
          },
          "metadata": {},
          "execution_count": 13
        },
        {
          "output_type": "display_data",
          "data": {
            "text/plain": [
              "<Figure size 640x480 with 1 Axes>"
            ],
            "image/png": "[encoded data removed]"
          },
          "metadata": {}
        }
      ]
    },
    {
      "cell_type": "code",
      "source": [
        "from sklearn.datasets import make_regression\n",
        "import numpy as np"
      ],
      "metadata": {
        "id": "QXHs8EwOLQNB"
      },
      "execution_count": null,
      "outputs": []
    },
    {
      "cell_type": "code",
      "source": [
        "x,y=make_regression(n_samples=4,n_features=1,n_informative=1,n_targets=1,noise=80,random_state=13)"
      ],
      "metadata": {
        "id": "XKlJ1U3lN47n"
      },
      "execution_count": null,
      "outputs": []
    },
    {
      "cell_type": "code",
      "source": [
        "import matplotlib.pyplot as plt\n",
        "plt.scatter(x,y)\n",
        "plt.plot(x,reg.predict(x))"
      ],
      "metadata": {
        "colab": {
          "base_uri": "https://localhost:8080/",
          "height": 447
        },
        "id": "9c0ZOGwOP7Br",
        "outputId": "e1cb66ae-aff6-4e7b-ad5b-b8e885894335"
      },
      "execution_count": null,
      "outputs": [
        {
          "output_type": "execute_result",
          "data": {
            "text/plain": [
              "[<matplotlib.lines.Line2D at 0x7f2e92535090>]"
            ]
          },
          "metadata": {},
          "execution_count": 42
        },
        {
          "output_type": "display_data",
          "data": {
            "text/plain": [
              "<Figure size 640x480 with 1 Axes>"
            ],
            "image/png": "[encoded data removed]"
          },
          "metadata": {}
        }
      ]
    },
    {
      "cell_type": "code",
      "source": [
        "from sklearn.linear_model import LinearRegression"
      ],
      "metadata": {
        "id": "to3zMcsrRZPv"
      },
      "execution_count": null,
      "outputs": []
    },
    {
      "cell_type": "code",
      "source": [
        "reg=LinearRegression()\n",
        "reg.fit(x,y)"
      ],
      "metadata": {
        "colab": {
          "base_uri": "https://localhost:8080/",
          "height": 74
        },
        "id": "ouohjUvmSYH-",
        "outputId": "40fab989-fe74-4b81-9e79-ed285bc87aad"
      },
      "execution_count": null,
      "outputs": [
        {
          "output_type": "execute_result",
          "data": {
            "text/plain": [
              "LinearRegression()"
            ],
            "text/html": [
              "<style>#sk-container-id-1 {color: black;background-color: white;}#sk-container-id-1 pre{padding: 0;}#sk-container-id-1 div.sk-toggleable {background-color: white;}#sk-container-id-1 label.sk-toggleable__label {cursor: pointer;display: block;width: 100%;margin-bottom: 0;padding: 0.3em;box-sizing: border-box;text-align: center;}#sk-container-id-1 label.sk-toggleable__label-arrow:before {content: \"▸\";float: left;margin-right: 0.25em;color: #696969;}#sk-container-id-1 label.sk-toggleable__label-arrow:hover:before {color: black;}#sk-container-id-1 div.sk-estimator:hover label.sk-toggleable__label-arrow:before {color: black;}#sk-container-id-1 div.sk-toggleable__content {max-height: 0;max-width: 0;overflow: hidden;text-align: left;background-color: #f0f8ff;}#sk-container-id-1 div.sk-toggleable__content pre {margin: 0.2em;color: black;border-radius: 0.25em;background-color: #f0f8ff;}#sk-container-id-1 input.sk-toggleable__control:checked~div.sk-toggleable__content {max-height: 200px;max-width: 100%;overflow: auto;}#sk-container-id-1 input.sk-toggleable__control:checked~label.sk-toggleable__label-arrow:before {content: \"▾\";}#sk-container-id-1 div.sk-estimator input.sk-toggleable__control:checked~label.sk-toggleable__label {background-color: #d4ebff;}#sk-container-id-1 div.sk-label input.sk-toggleable__control:checked~label.sk-toggleable__label {background-color: #d4ebff;}#sk-container-id-1 input.sk-hidden--visually {border: 0;clip: rect(1px 1px 1px 1px);clip: rect(1px, 1px, 1px, 1px);height: 1px;margin: -1px;overflow: hidden;padding: 0;position: absolute;width: 1px;}#sk-container-id-1 div.sk-estimator {font-family: monospace;background-color: #f0f8ff;border: 1px dotted black;border-radius: 0.25em;box-sizing: border-box;margin-bottom: 0.5em;}#sk-container-id-1 div.sk-estimator:hover {background-color: #d4ebff;}#sk-container-id-1 div.sk-parallel-item::after {content: \"\";width: 100%;border-bottom: 1px solid gray;flex-grow: 1;}#sk-container-id-1 div.sk-label:hover label.sk-toggleable__label {background-color: #d4ebff;}#sk-container-id-1 div.sk-serial::before {content: \"\";position: absolute;border-left: 1px solid gray;box-sizing: border-box;top: 0;bottom: 0;left: 50%;z-index: 0;}#sk-container-id-1 div.sk-serial {display: flex;flex-direction: column;align-items: center;background-color: white;padding-right: 0.2em;padding-left: 0.2em;position: relative;}#sk-container-id-1 div.sk-item {position: relative;z-index: 1;}#sk-container-id-1 div.sk-parallel {display: flex;align-items: stretch;justify-content: center;background-color: white;position: relative;}#sk-container-id-1 div.sk-item::before, #sk-container-id-1 div.sk-parallel-item::before {content: \"\";position: absolute;border-left: 1px solid gray;box-sizing: border-box;top: 0;bottom: 0;left: 50%;z-index: -1;}#sk-container-id-1 div.sk-parallel-item {display: flex;flex-direction: column;z-index: 1;position: relative;background-color: white;}#sk-container-id-1 div.sk-parallel-item:first-child::after {align-self: flex-end;width: 50%;}#sk-container-id-1 div.sk-parallel-item:last-child::after {align-self: flex-start;width: 50%;}#sk-container-id-1 div.sk-parallel-item:only-child::after {width: 0;}#sk-container-id-1 div.sk-dashed-wrapped {border: 1px dashed gray;margin: 0 0.4em 0.5em 0.4em;box-sizing: border-box;padding-bottom: 0.4em;background-color: white;}#sk-container-id-1 div.sk-label label {font-family: monospace;font-weight: bold;display: inline-block;line-height: 1.2em;}#sk-container-id-1 div.sk-label-container {text-align: center;}#sk-container-id-1 div.sk-container {/* jupyter's `normalize.less` sets `[hidden] { display: none; }` but bootstrap.min.css set `[hidden] { display: none !important; }` so we also need the `!important` here to be able to override the default hidden behavior on the sphinx rendered scikit-learn.org. See: https://github.com/scikit-learn/scikit-learn/issues/21755 */display: inline-block !important;position: relative;}#sk-container-id-1 div.sk-text-repr-fallback {display: none;}</style><div id=\"sk-container-id-1\" class=\"sk-top-container\"><div class=\"sk-text-repr-fallback\"><pre>LinearRegression()</pre><b>In a Jupyter environment, please rerun this cell to show the HTML representation or trust the notebook. <br />On GitHub, the HTML representation is unable to render, please try loading this page with nbviewer.org.</b></div><div class=\"sk-container\" hidden><div class=\"sk-item\"><div class=\"sk-estimator sk-toggleable\"><input class=\"sk-toggleable__control sk-hidden--visually\" id=\"sk-estimator-id-1\" type=\"checkbox\" checked><label for=\"sk-estimator-id-1\" class=\"sk-toggleable__label sk-toggleable__label-arrow\">LinearRegression</label><div class=\"sk-toggleable__content\"><pre>LinearRegression()</pre></div></div></div></div></div>"
            ]
          },
          "metadata": {},
          "execution_count": 15
        }
      ]
    },
    {
      "cell_type": "code",
      "source": [
        "reg.coef_#slope"
      ],
      "metadata": {
        "colab": {
          "base_uri": "https://localhost:8080/"
        },
        "id": "wXwAMiQdSjQl",
        "outputId": "d79de0f7-7ea4-448d-aa68-8884d24b070c"
      },
      "execution_count": null,
      "outputs": [
        {
          "output_type": "execute_result",
          "data": {
            "text/plain": [
              "array([78.35063668])"
            ]
          },
          "metadata": {},
          "execution_count": 16
        }
      ]
    },
    {
      "cell_type": "code",
      "source": [
        "reg.intercept_#value of b"
      ],
      "metadata": {
        "colab": {
          "base_uri": "https://localhost:8080/"
        },
        "id": "4UuZSNvJSmnp",
        "outputId": "c42a4868-2869-42ce-e330-014a7fa23e9c"
      },
      "execution_count": null,
      "outputs": [
        {
          "output_type": "execute_result",
          "data": {
            "text/plain": [
              "26.15963284313262"
            ]
          },
          "metadata": {},
          "execution_count": 17
        }
      ]
    },
    {
      "cell_type": "code",
      "source": [
        "plt.scatter(x,y)\n",
        "plt.plot(x,reg.predict(x),color='red')"
      ],
      "metadata": {
        "colab": {
          "base_uri": "https://localhost:8080/",
          "height": 447
        },
        "id": "RC7-xu9tSs_C",
        "outputId": "8c514737-3040-4963-9657-002e1d256985"
      },
      "execution_count": null,
      "outputs": [
        {
          "output_type": "execute_result",
          "data": {
            "text/plain": [
              "[<matplotlib.lines.Line2D at 0x7f2e92966770>]"
            ]
          },
          "metadata": {},
          "execution_count": 18
        },
        {
          "output_type": "display_data",
          "data": {
            "text/plain": [
              "<Figure size 640x480 with 1 Axes>"
            ],
            "image/png": "[encoded data removed]"
          },
          "metadata": {}
        }
      ]
    },
    {
      "cell_type": "code",
      "source": [
        "#Lets apply gradient descent assuming slope is constant m=78.35\n",
        "#and let's assume starting value of intercept b is 100 and we have to reach intercept=26.15963284313262\n",
        "y_pred=((78.35*x)+100).reshape(4)\n",
        "#.reshape(4) is used to reshape the array to have shape (4,). Here, (4,) represents 1-dimensional array with 4 elements"
      ],
      "metadata": {
        "id": "PYrsJuiNTja_"
      },
      "execution_count": null,
      "outputs": []
    },
    {
      "cell_type": "code",
      "source": [
        "plt.scatter(x,y)\n",
        "plt.plot(x,reg.predict(x),color='red',label='OLS')\n",
        "plt.plot(x,y_pred,color='magenta',label='b=100')\n",
        "# plt.legend()\n",
        "plt.show()"
      ],
      "metadata": {
        "colab": {
          "base_uri": "https://localhost:8080/",
          "height": 430
        },
        "id": "BO_U1j5NZRHI",
        "outputId": "5b0771d8-f7cf-487a-d3d2-f69868c3c932"
      },
      "execution_count": null,
      "outputs": [
        {
          "output_type": "display_data",
          "data": {
            "text/plain": [
              "<Figure size 640x480 with 1 Axes>"
            ],
            "image/png": "[encoded data removed]"
          },
          "metadata": {}
        }
      ]
    },
    {
      "cell_type": "code",
      "source": [
        "#Color is a parameter that specifies the color of the plotted line or markers, possible values of colors can be 'red','blue','green','magneta','yellow','cyan','black'\n",
        "#You can also specify the color using hexadecimal RGB values ('#RRGGBB' format)\n",
        "#The legend displays different labels for the different elements in the plot, such as lines or markers, and helps identify what each element represents. In the given code, it will display a legend\n",
        "#with labels \"OLS\" and \"b=100\" representing the plotted lines with those labels. "
      ],
      "metadata": {
        "id": "0innE_tbdTA4"
      },
      "execution_count": null,
      "outputs": []
    },
    {
      "cell_type": "code",
      "source": [
        "import matplotlib.pyplot as plt\n",
        "plt.scatter(x,y)\n",
        "plt.plot(x,reg.predict(x),color='red',label='OLS')\n",
        "plt.plot(x,y_pred,color='magenta',label='b=100')\n",
        "plt.legend()\n",
        "plt.show() "
      ],
      "metadata": {
        "colab": {
          "base_uri": "https://localhost:8080/",
          "height": 430
        },
        "id": "N6_q59aihQ9r",
        "outputId": "3f9e86cb-b8d6-4061-b0ac-4ca29e51473b"
      },
      "execution_count": null,
      "outputs": [
        {
          "output_type": "display_data",
          "data": {
            "text/plain": [
              "<Figure size 640x480 with 1 Axes>"
            ],
            "image/png": "[encoded data removed]"
          },
          "metadata": {}
        }
      ]
    },
    {
      "cell_type": "code",
      "source": [
        "m=78.35\n",
        "b=100\n",
        "loss_slope=-2*np.sum(y-78.35*x.ravel()-b)\n",
        "loss_slope"
      ],
      "metadata": {
        "colab": {
          "base_uri": "https://localhost:8080/"
        },
        "id": "2vTx714Wh-o1",
        "outputId": "7e995c23-3578-4331-ad19-35e39e328661"
      },
      "execution_count": null,
      "outputs": [
        {
          "output_type": "execute_result",
          "data": {
            "text/plain": [
              "590.7223659179078"
            ]
          },
          "metadata": {},
          "execution_count": 23
        }
      ]
    },
    {
      "cell_type": "code",
      "source": [
        "#Let's take learning rate=0.1\n",
        "lr=0.1\n",
        "step_size=loss_slope*lr\n",
        "step_size"
      ],
      "metadata": {
        "colab": {
          "base_uri": "https://localhost:8080/"
        },
        "id": "Bk_cKyenjhoN",
        "outputId": "cbad3bcc-4a8f-44a2-eed9-ef7de4aed2c7"
      },
      "execution_count": null,
      "outputs": [
        {
          "output_type": "execute_result",
          "data": {
            "text/plain": [
              "59.072236591790784"
            ]
          },
          "metadata": {},
          "execution_count": 24
        }
      ]
    },
    {
      "cell_type": "code",
      "source": [
        "b=b-step_size\n",
        "b"
      ],
      "metadata": {
        "colab": {
          "base_uri": "https://localhost:8080/"
        },
        "id": "5E9Ni2Q-s5LN",
        "outputId": "d9b4f00d-a453-41c9-a65b-d335a05734cb"
      },
      "execution_count": null,
      "outputs": [
        {
          "output_type": "execute_result",
          "data": {
            "text/plain": [
              "40.927763408209216"
            ]
          },
          "metadata": {},
          "execution_count": 25
        }
      ]
    },
    {
      "cell_type": "code",
      "source": [
        "y_pred1=((78.35*x)+b).reshape(4)\n",
        "plt.scatter(x,y)\n",
        "plt.plot(x,reg.predict(x),color='red',label='OLS')\n",
        "plt.plot(x,y_pred,color='magenta',label='b=100')\n",
        "plt.plot(x,y_pred1,color='cyan',label='b=40.927763408209216')\n",
        "plt.legend()\n",
        "plt.show()"
      ],
      "metadata": {
        "colab": {
          "base_uri": "https://localhost:8080/",
          "height": 430
        },
        "id": "-mO0e_IKtCTR",
        "outputId": "cb728a91-87de-44d6-815f-3930e34454d5"
      },
      "execution_count": null,
      "outputs": [
        {
          "output_type": "display_data",
          "data": {
            "text/plain": [
              "<Figure size 640x480 with 1 Axes>"
            ],
            "image/png": "[encoded data removed]"
          },
          "metadata": {}
        }
      ]
    },
    {
      "cell_type": "code",
      "source": [
        "# Iteration 2\n",
        "loss_slope=-2*np.sum(y-78.35*x.ravel()-b)\n",
        "loss_slope"
      ],
      "metadata": {
        "colab": {
          "base_uri": "https://localhost:8080/"
        },
        "id": "kKUxKcdSwHd8",
        "outputId": "3daeeb74-57bd-4b74-9de3-d345055cd655"
      },
      "execution_count": null,
      "outputs": [
        {
          "output_type": "execute_result",
          "data": {
            "text/plain": [
              "118.14447318358157"
            ]
          },
          "metadata": {},
          "execution_count": 27
        }
      ]
    },
    {
      "cell_type": "code",
      "source": [
        "step_size=loss_slope*lr\n",
        "step_size"
      ],
      "metadata": {
        "colab": {
          "base_uri": "https://localhost:8080/"
        },
        "id": "NbJ3QDNzxJCu",
        "outputId": "92223403-8b26-4109-f8f7-f76952cf1b1e"
      },
      "execution_count": null,
      "outputs": [
        {
          "output_type": "execute_result",
          "data": {
            "text/plain": [
              "11.814447318358157"
            ]
          },
          "metadata": {},
          "execution_count": 28
        }
      ]
    },
    {
      "cell_type": "code",
      "source": [
        "b=b-step_size\n",
        "b"
      ],
      "metadata": {
        "colab": {
          "base_uri": "https://localhost:8080/"
        },
        "id": "6ayH7GcBxV9h",
        "outputId": "f49eac5c-f250-4876-ebaf-3a388da8be51"
      },
      "execution_count": null,
      "outputs": [
        {
          "output_type": "execute_result",
          "data": {
            "text/plain": [
              "29.11331608985106"
            ]
          },
          "metadata": {},
          "execution_count": 29
        }
      ]
    },
    {
      "cell_type": "code",
      "source": [
        "y_pred2=((78.35*x)+b).reshape(4)"
      ],
      "metadata": {
        "id": "cZhjONoHxe-k"
      },
      "execution_count": null,
      "outputs": []
    },
    {
      "cell_type": "code",
      "source": [
        "plt.scatter(x,y)\n",
        "plt.plot(x,reg.predict(x),color='red',label='OLS')\n",
        "plt.plot(x,y_pred,color='magenta',label='b=100')\n",
        "plt.plot(x,y_pred1,color='cyan',label='b=40.927763408209216')\n",
        "plt.plot(x,y_pred2,color='yellow',label='b=29.11331608985106')\n",
        "plt.legend()\n",
        "plt.show()"
      ],
      "metadata": {
        "colab": {
          "base_uri": "https://localhost:8080/",
          "height": 430
        },
        "id": "BLQPlDQ9xzdo",
        "outputId": "3aab02a5-b7b7-4ac6-9283-6d8b12b2a404"
      },
      "execution_count": null,
      "outputs": [
        {
          "output_type": "display_data",
          "data": {
            "text/plain": [
              "<Figure size 640x480 with 1 Axes>"
            ],
            "image/png": "[encoded data removed]"
          },
          "metadata": {}
        }
      ]
    },
    {
      "cell_type": "code",
      "source": [
        "#Iteration 3\n",
        "loss_slope=-2*np.sum(y-78.35*x.ravel()-b)\n",
        "loss_slope"
      ],
      "metadata": {
        "colab": {
          "base_uri": "https://localhost:8080/"
        },
        "id": "0m7HsVAjzK8Z",
        "outputId": "44e805d6-11dc-4c60-e7ad-509053723aaa"
      },
      "execution_count": null,
      "outputs": [
        {
          "output_type": "execute_result",
          "data": {
            "text/plain": [
              "23.62889463671634"
            ]
          },
          "metadata": {},
          "execution_count": 32
        }
      ]
    },
    {
      "cell_type": "code",
      "source": [
        "step_size=loss_slope*lr\n",
        "step_size"
      ],
      "metadata": {
        "colab": {
          "base_uri": "https://localhost:8080/"
        },
        "id": "9Yp0V2ruz2Uh",
        "outputId": "b862b352-647e-4a1f-ec69-66bd786b0ff4"
      },
      "execution_count": null,
      "outputs": [
        {
          "output_type": "execute_result",
          "data": {
            "text/plain": [
              "2.362889463671634"
            ]
          },
          "metadata": {},
          "execution_count": 33
        }
      ]
    },
    {
      "cell_type": "code",
      "source": [
        "b=b-step_size\n",
        "b"
      ],
      "metadata": {
        "colab": {
          "base_uri": "https://localhost:8080/"
        },
        "id": "QRZhrcY-0AwI",
        "outputId": "530fadc0-e352-4ce9-d2a0-f9fba81b3a2c"
      },
      "execution_count": null,
      "outputs": [
        {
          "output_type": "execute_result",
          "data": {
            "text/plain": [
              "26.750426626179426"
            ]
          },
          "metadata": {},
          "execution_count": 34
        }
      ]
    },
    {
      "cell_type": "code",
      "source": [
        "y_pred3=((78.35*x)+b).reshape(4)\n",
        "plt.scatter(x,y)\n",
        "plt.plot(x,reg.predict(x),color='red',label='OLS')\n",
        "plt.plot(x,y_pred,color='magenta',label='b=100')\n",
        "plt.plot(x,y_pred1,color='cyan',label='b=40.927763408209216')\n",
        "plt.plot(x,y_pred2,color='yellow',label='b=29.11331608985106')\n",
        "plt.plot(x,y_pred3,color='green',label='b=26.750426626179426')\n",
        "plt.legend()\n",
        "plt.show()"
      ],
      "metadata": {
        "colab": {
          "base_uri": "https://localhost:8080/",
          "height": 430
        },
        "id": "YtvNV0vl0PtH",
        "outputId": "ba9ff028-3378-4c18-a944-fe264b15b9b6"
      },
      "execution_count": null,
      "outputs": [
        {
          "output_type": "display_data",
          "data": {
            "text/plain": [
              "<Figure size 640x480 with 1 Axes>"
            ],
            "image/png": "[encoded data removed]"
          },
          "metadata": {}
        }
      ]
    },
    {
      "cell_type": "code",
      "source": [
        "import numpy as np\n",
        "import matplotlib.pyplot as plt\n",
        "b=-100\n",
        "m=78.35\n",
        "lr=0.1\n",
        "epoch=100\n",
        "for i in range(epoch):\n",
        "  loss_slope=-2*np.sum(y-m*x.ravel()-b)\n",
        "  b=b-(lr*loss_slope)\n",
        "  y_pred=((m*x)+b).reshape(4)\n",
        "  plt.plot(x,y_pred)\n",
        "plt.scatter(x,y)\n",
        "\n"
      ],
      "metadata": {
        "colab": {
          "base_uri": "https://localhost:8080/",
          "height": 447
        },
        "id": "L6X2L08eYhRa",
        "outputId": "51e70635-de27-4d81-ad99-6abed3628208"
      },
      "execution_count": null,
      "outputs": [
        {
          "output_type": "execute_result",
          "data": {
            "text/plain": [
              "<matplotlib.collections.PathCollection at 0x7f2e9283fd90>"
            ]
          },
          "metadata": {},
          "execution_count": 43
        },
        {
          "output_type": "display_data",
          "data": {
            "text/plain": [
              "<Figure size 640x480 with 1 Axes>"
            ],
            "image/png": "[encoded data removed]"
          },
          "metadata": {}
        }
      ]
    },
    {
      "cell_type": "code",
      "source": [
        "plt.plot(x,reg.predict(x))"
      ],
      "metadata": {
        "colab": {
          "base_uri": "https://localhost:8080/",
          "height": 447
        },
        "id": "opp-GHX4cHrh",
        "outputId": "df73e156-dc04-4a2e-c66d-2113eef624ac"
      },
      "execution_count": null,
      "outputs": [
        {
          "output_type": "execute_result",
          "data": {
            "text/plain": [
              "[<matplotlib.lines.Line2D at 0x7f2e929146d0>]"
            ]
          },
          "metadata": {},
          "execution_count": 44
        },
        {
          "output_type": "display_data",
          "data": {
            "text/plain": [
              "<Figure size 640x480 with 1 Axes>"
            ],
            "image/png": "[encoded data removed]"
          },
          "metadata": {}
        }
      ]
    },
    {
      "cell_type": "code",
      "source": [
        "from sklearn.datasets import make_regression\n",
        "import matplotlib.pyplot as plt\n",
        "import numpy as np"
      ],
      "metadata": {
        "id": "zAd_WXNB0Gri"
      },
      "execution_count": null,
      "outputs": []
    },
    {
      "cell_type": "code",
      "source": [
        "x,y=make_regression(n_samples=100,n_features=1,n_informative=1,n_targets=1,noise=20,random_state=13)"
      ],
      "metadata": {
        "id": "8qisD5rS0V7g"
      },
      "execution_count": null,
      "outputs": []
    },
    {
      "cell_type": "code",
      "source": [
        "plt.scatter(x,y)"
      ],
      "metadata": {
        "colab": {
          "base_uri": "https://localhost:8080/",
          "height": 447
        },
        "id": "TqNXrxm9JuyJ",
        "outputId": "7ce0306c-b91b-43df-caf6-eda2ffefc8b7"
      },
      "execution_count": null,
      "outputs": [
        {
          "output_type": "execute_result",
          "data": {
            "text/plain": [
              "<matplotlib.collections.PathCollection at 0x7ff4fbef0280>"
            ]
          },
          "metadata": {},
          "execution_count": 3
        },
        {
          "output_type": "display_data",
          "data": {
            "text/plain": [
              "<Figure size 640x480 with 1 Axes>"
            ],
            "image/png": "[encoded data removed]"
          },
          "metadata": {}
        }
      ]
    },
    {
      "cell_type": "code",
      "source": [
        "from sklearn.linear_model import LinearRegression"
      ],
      "metadata": {
        "id": "MlE_WoC-KOBJ"
      },
      "execution_count": null,
      "outputs": []
    },
    {
      "cell_type": "code",
      "source": [
        "lr=LinearRegression()"
      ],
      "metadata": {
        "id": "_muGxLMwbtVD"
      },
      "execution_count": null,
      "outputs": []
    },
    {
      "cell_type": "code",
      "source": [
        "lr.fit(x,y)"
      ],
      "metadata": {
        "colab": {
          "base_uri": "https://localhost:8080/",
          "height": 74
        },
        "id": "y6C7jK6Rb3Ov",
        "outputId": "97872dff-0f32-4573-b2ff-843f98f39863"
      },
      "execution_count": null,
      "outputs": [
        {
          "output_type": "execute_result",
          "data": {
            "text/plain": [
              "LinearRegression()"
            ],
            "text/html": [
              "<style>#sk-container-id-1 {color: black;background-color: white;}#sk-container-id-1 pre{padding: 0;}#sk-container-id-1 div.sk-toggleable {background-color: white;}#sk-container-id-1 label.sk-toggleable__label {cursor: pointer;display: block;width: 100%;margin-bottom: 0;padding: 0.3em;box-sizing: border-box;text-align: center;}#sk-container-id-1 label.sk-toggleable__label-arrow:before {content: \"▸\";float: left;margin-right: 0.25em;color: #696969;}#sk-container-id-1 label.sk-toggleable__label-arrow:hover:before {color: black;}#sk-container-id-1 div.sk-estimator:hover label.sk-toggleable__label-arrow:before {color: black;}#sk-container-id-1 div.sk-toggleable__content {max-height: 0;max-width: 0;overflow: hidden;text-align: left;background-color: #f0f8ff;}#sk-container-id-1 div.sk-toggleable__content pre {margin: 0.2em;color: black;border-radius: 0.25em;background-color: #f0f8ff;}#sk-container-id-1 input.sk-toggleable__control:checked~div.sk-toggleable__content {max-height: 200px;max-width: 100%;overflow: auto;}#sk-container-id-1 input.sk-toggleable__control:checked~label.sk-toggleable__label-arrow:before {content: \"▾\";}#sk-container-id-1 div.sk-estimator input.sk-toggleable__control:checked~label.sk-toggleable__label {background-color: #d4ebff;}#sk-container-id-1 div.sk-label input.sk-toggleable__control:checked~label.sk-toggleable__label {background-color: #d4ebff;}#sk-container-id-1 input.sk-hidden--visually {border: 0;clip: rect(1px 1px 1px 1px);clip: rect(1px, 1px, 1px, 1px);height: 1px;margin: -1px;overflow: hidden;padding: 0;position: absolute;width: 1px;}#sk-container-id-1 div.sk-estimator {font-family: monospace;background-color: #f0f8ff;border: 1px dotted black;border-radius: 0.25em;box-sizing: border-box;margin-bottom: 0.5em;}#sk-container-id-1 div.sk-estimator:hover {background-color: #d4ebff;}#sk-container-id-1 div.sk-parallel-item::after {content: \"\";width: 100%;border-bottom: 1px solid gray;flex-grow: 1;}#sk-container-id-1 div.sk-label:hover label.sk-toggleable__label {background-color: #d4ebff;}#sk-container-id-1 div.sk-serial::before {content: \"\";position: absolute;border-left: 1px solid gray;box-sizing: border-box;top: 0;bottom: 0;left: 50%;z-index: 0;}#sk-container-id-1 div.sk-serial {display: flex;flex-direction: column;align-items: center;background-color: white;padding-right: 0.2em;padding-left: 0.2em;position: relative;}#sk-container-id-1 div.sk-item {position: relative;z-index: 1;}#sk-container-id-1 div.sk-parallel {display: flex;align-items: stretch;justify-content: center;background-color: white;position: relative;}#sk-container-id-1 div.sk-item::before, #sk-container-id-1 div.sk-parallel-item::before {content: \"\";position: absolute;border-left: 1px solid gray;box-sizing: border-box;top: 0;bottom: 0;left: 50%;z-index: -1;}#sk-container-id-1 div.sk-parallel-item {display: flex;flex-direction: column;z-index: 1;position: relative;background-color: white;}#sk-container-id-1 div.sk-parallel-item:first-child::after {align-self: flex-end;width: 50%;}#sk-container-id-1 div.sk-parallel-item:last-child::after {align-self: flex-start;width: 50%;}#sk-container-id-1 div.sk-parallel-item:only-child::after {width: 0;}#sk-container-id-1 div.sk-dashed-wrapped {border: 1px dashed gray;margin: 0 0.4em 0.5em 0.4em;box-sizing: border-box;padding-bottom: 0.4em;background-color: white;}#sk-container-id-1 div.sk-label label {font-family: monospace;font-weight: bold;display: inline-block;line-height: 1.2em;}#sk-container-id-1 div.sk-label-container {text-align: center;}#sk-container-id-1 div.sk-container {/* jupyter's `normalize.less` sets `[hidden] { display: none; }` but bootstrap.min.css set `[hidden] { display: none !important; }` so we also need the `!important` here to be able to override the default hidden behavior on the sphinx rendered scikit-learn.org. See: https://github.com/scikit-learn/scikit-learn/issues/21755 */display: inline-block !important;position: relative;}#sk-container-id-1 div.sk-text-repr-fallback {display: none;}</style><div id=\"sk-container-id-1\" class=\"sk-top-container\"><div class=\"sk-text-repr-fallback\"><pre>LinearRegression()</pre><b>In a Jupyter environment, please rerun this cell to show the HTML representation or trust the notebook. <br />On GitHub, the HTML representation is unable to render, please try loading this page with nbviewer.org.</b></div><div class=\"sk-container\" hidden><div class=\"sk-item\"><div class=\"sk-estimator sk-toggleable\"><input class=\"sk-toggleable__control sk-hidden--visually\" id=\"sk-estimator-id-1\" type=\"checkbox\" checked><label for=\"sk-estimator-id-1\" class=\"sk-toggleable__label sk-toggleable__label-arrow\">LinearRegression</label><div class=\"sk-toggleable__content\"><pre>LinearRegression()</pre></div></div></div></div></div>"
            ]
          },
          "metadata": {},
          "execution_count": 6
        }
      ]
    },
    {
      "cell_type": "code",
      "source": [
        "lr.coef_"
      ],
      "metadata": {
        "colab": {
          "base_uri": "https://localhost:8080/"
        },
        "id": "VYiXGQwVb7Nq",
        "outputId": "70e28bb0-d724-45c2-dca0-bebae716488a"
      },
      "execution_count": null,
      "outputs": [
        {
          "output_type": "execute_result",
          "data": {
            "text/plain": [
              "array([27.82809103])"
            ]
          },
          "metadata": {},
          "execution_count": 7
        }
      ]
    },
    {
      "cell_type": "code",
      "source": [
        "lr.intercept_"
      ],
      "metadata": {
        "colab": {
          "base_uri": "https://localhost:8080/"
        },
        "id": "0sbsRz32cCjr",
        "outputId": "595bcfae-b3d9-4d4d-b096-4bb304c77bac"
      },
      "execution_count": null,
      "outputs": [
        {
          "output_type": "execute_result",
          "data": {
            "text/plain": [
              "-2.29474455867698"
            ]
          },
          "metadata": {},
          "execution_count": 8
        }
      ]
    },
    {
      "cell_type": "code",
      "source": [
        "#in class b and m are initialized, take b to -120, and learning rate and epochs are passed as arguments so initialize them as well, create a function fit(having arguments x and y) within \n",
        "#the same class where we would find the best value of b using gradient descent, in that function first calculate the loss slope and the b using b=bold-learning rate*slope"
      ],
      "metadata": {
        "id": "fUwB36Qlccho"
      },
      "execution_count": null,
      "outputs": []
    },
    {
      "cell_type": "code",
      "source": [
        "class GDRegressor:\n",
        "  def __init__(self,learning_rate,epochs):\n",
        "    self.m=27.82809103\n",
        "    self.b=-120\n",
        "    self.lr=learning_rate\n",
        "    self.epochs=epochs\n",
        "  def fit(self,x,y):\n",
        "    for i in range(self.epochs):\n",
        "       loss_slope=-2*np.sum(y-self.m*x.ravel()-self.b)\n",
        "       self.b=self.b-self.lr*loss_slope\n",
        "    print(self.b)"
      ],
      "metadata": {
        "id": "7a4Lv_G1yzAe"
      },
      "execution_count": null,
      "outputs": []
    },
    {
      "cell_type": "code",
      "source": [
        "gd=GDRegressor(0.001,100)\n",
        "gd.fit(x,y)\n",
        "#learning rate should be decreased and number of epochs should be increased if we arenot getting the right results, if learning rate is high then b will keep ziggling in zig-zag\n",
        "#fashion, there is no issue in keeping number of epochs high because the moment slope(d(Loss)/d(b)) becomes zero or close to zero, bnew will almost become equal to bold and no matter how many\n",
        "#iterations you run after that , the intercept(b) will remain the same"
      ],
      "metadata": {
        "colab": {
          "base_uri": "https://localhost:8080/"
        },
        "id": "mGonJHxK2TEr",
        "outputId": "9261fb82-1f88-4660-9fbc-8ec9f038be79"
      },
      "execution_count": null,
      "outputs": [
        {
          "output_type": "stream",
          "name": "stdout",
          "text": [
            "-2.2947445825067696\n"
          ]
        }
      ]
    },
    {
      "cell_type": "code",
      "source": [
        "#In gradient descent, gradient refers to the vector of partial derivatives of the cost function with respect to the model parameters.\n",
        "#Partial derivative are a type of derivative that measures the rate of change of a function with respect to one specific varibale while holding all other variables constant.\n",
        "#The slope of the cost function that we would be finding in case of multivariable(multi-parametered)  "
      ],
      "metadata": {
        "id": "G1TuDmpa5oyW"
      },
      "execution_count": null,
      "outputs": []
    },
    {
      "cell_type": "code",
      "source": [
        "from sklearn.datasets import load_iris\n",
        "import numpy as np"
      ],
      "metadata": {
        "id": "CSwebcXYrMeZ"
      },
      "execution_count": null,
      "outputs": []
    },
    {
      "cell_type": "code",
      "source": [
        "data=load_iris()\n",
        "x=data['data']\n",
        "y=data['target']"
      ],
      "metadata": {
        "id": "U1VTCeaatczz"
      },
      "execution_count": null,
      "outputs": []
    },
    {
      "cell_type": "code",
      "source": [
        "x"
      ],
      "metadata": {
        "colab": {
          "base_uri": "https://localhost:8080/"
        },
        "id": "G6ydQlABw6_C",
        "outputId": "202a2801-5650-4052-bb98-b268c6d83c55"
      },
      "execution_count": null,
      "outputs": [
        {
          "output_type": "execute_result",
          "data": {
            "text/plain": [
              "array([[5.1, 3.5, 1.4, 0.2],\n",
              "       [4.9, 3. , 1.4, 0.2],\n",
              "       [4.7, 3.2, 1.3, 0.2],\n",
              "       [4.6, 3.1, 1.5, 0.2],\n",
              "       [5. , 3.6, 1.4, 0.2],\n",
              "       [5.4, 3.9, 1.7, 0.4],\n",
              "       [4.6, 3.4, 1.4, 0.3],\n",
              "       [5. , 3.4, 1.5, 0.2],\n",
              "       [4.4, 2.9, 1.4, 0.2],\n",
              "       [4.9, 3.1, 1.5, 0.1],\n",
              "       [5.4, 3.7, 1.5, 0.2],\n",
              "       [4.8, 3.4, 1.6, 0.2],\n",
              "       [4.8, 3. , 1.4, 0.1],\n",
              "       [4.3, 3. , 1.1, 0.1],\n",
              "       [5.8, 4. , 1.2, 0.2],\n",
              "       [5.7, 4.4, 1.5, 0.4],\n",
              "       [5.4, 3.9, 1.3, 0.4],\n",
              "       [5.1, 3.5, 1.4, 0.3],\n",
              "       [5.7, 3.8, 1.7, 0.3],\n",
              "       [5.1, 3.8, 1.5, 0.3],\n",
              "       [5.4, 3.4, 1.7, 0.2],\n",
              "       [5.1, 3.7, 1.5, 0.4],\n",
              "       [4.6, 3.6, 1. , 0.2],\n",
              "       [5.1, 3.3, 1.7, 0.5],\n",
              "       [4.8, 3.4, 1.9, 0.2],\n",
              "       [5. , 3. , 1.6, 0.2],\n",
              "       [5. , 3.4, 1.6, 0.4],\n",
              "       [5.2, 3.5, 1.5, 0.2],\n",
              "       [5.2, 3.4, 1.4, 0.2],\n",
              "       [4.7, 3.2, 1.6, 0.2],\n",
              "       [4.8, 3.1, 1.6, 0.2],\n",
              "       [5.4, 3.4, 1.5, 0.4],\n",
              "       [5.2, 4.1, 1.5, 0.1],\n",
              "       [5.5, 4.2, 1.4, 0.2],\n",
              "       [4.9, 3.1, 1.5, 0.2],\n",
              "       [5. , 3.2, 1.2, 0.2],\n",
              "       [5.5, 3.5, 1.3, 0.2],\n",
              "       [4.9, 3.6, 1.4, 0.1],\n",
              "       [4.4, 3. , 1.3, 0.2],\n",
              "       [5.1, 3.4, 1.5, 0.2],\n",
              "       [5. , 3.5, 1.3, 0.3],\n",
              "       [4.5, 2.3, 1.3, 0.3],\n",
              "       [4.4, 3.2, 1.3, 0.2],\n",
              "       [5. , 3.5, 1.6, 0.6],\n",
              "       [5.1, 3.8, 1.9, 0.4],\n",
              "       [4.8, 3. , 1.4, 0.3],\n",
              "       [5.1, 3.8, 1.6, 0.2],\n",
              "       [4.6, 3.2, 1.4, 0.2],\n",
              "       [5.3, 3.7, 1.5, 0.2],\n",
              "       [5. , 3.3, 1.4, 0.2],\n",
              "       [7. , 3.2, 4.7, 1.4],\n",
              "       [6.4, 3.2, 4.5, 1.5],\n",
              "       [6.9, 3.1, 4.9, 1.5],\n",
              "       [5.5, 2.3, 4. , 1.3],\n",
              "       [6.5, 2.8, 4.6, 1.5],\n",
              "       [5.7, 2.8, 4.5, 1.3],\n",
              "       [6.3, 3.3, 4.7, 1.6],\n",
              "       [4.9, 2.4, 3.3, 1. ],\n",
              "       [6.6, 2.9, 4.6, 1.3],\n",
              "       [5.2, 2.7, 3.9, 1.4],\n",
              "       [5. , 2. , 3.5, 1. ],\n",
              "       [5.9, 3. , 4.2, 1.5],\n",
              "       [6. , 2.2, 4. , 1. ],\n",
              "       [6.1, 2.9, 4.7, 1.4],\n",
              "       [5.6, 2.9, 3.6, 1.3],\n",
              "       [6.7, 3.1, 4.4, 1.4],\n",
              "       [5.6, 3. , 4.5, 1.5],\n",
              "       [5.8, 2.7, 4.1, 1. ],\n",
              "       [6.2, 2.2, 4.5, 1.5],\n",
              "       [5.6, 2.5, 3.9, 1.1],\n",
              "       [5.9, 3.2, 4.8, 1.8],\n",
              "       [6.1, 2.8, 4. , 1.3],\n",
              "       [6.3, 2.5, 4.9, 1.5],\n",
              "       [6.1, 2.8, 4.7, 1.2],\n",
              "       [6.4, 2.9, 4.3, 1.3],\n",
              "       [6.6, 3. , 4.4, 1.4],\n",
              "       [6.8, 2.8, 4.8, 1.4],\n",
              "       [6.7, 3. , 5. , 1.7],\n",
              "       [6. , 2.9, 4.5, 1.5],\n",
              "       [5.7, 2.6, 3.5, 1. ],\n",
              "       [5.5, 2.4, 3.8, 1.1],\n",
              "       [5.5, 2.4, 3.7, 1. ],\n",
              "       [5.8, 2.7, 3.9, 1.2],\n",
              "       [6. , 2.7, 5.1, 1.6],\n",
              "       [5.4, 3. , 4.5, 1.5],\n",
              "       [6. , 3.4, 4.5, 1.6],\n",
              "       [6.7, 3.1, 4.7, 1.5],\n",
              "       [6.3, 2.3, 4.4, 1.3],\n",
              "       [5.6, 3. , 4.1, 1.3],\n",
              "       [5.5, 2.5, 4. , 1.3],\n",
              "       [5.5, 2.6, 4.4, 1.2],\n",
              "       [6.1, 3. , 4.6, 1.4],\n",
              "       [5.8, 2.6, 4. , 1.2],\n",
              "       [5. , 2.3, 3.3, 1. ],\n",
              "       [5.6, 2.7, 4.2, 1.3],\n",
              "       [5.7, 3. , 4.2, 1.2],\n",
              "       [5.7, 2.9, 4.2, 1.3],\n",
              "       [6.2, 2.9, 4.3, 1.3],\n",
              "       [5.1, 2.5, 3. , 1.1],\n",
              "       [5.7, 2.8, 4.1, 1.3],\n",
              "       [6.3, 3.3, 6. , 2.5],\n",
              "       [5.8, 2.7, 5.1, 1.9],\n",
              "       [7.1, 3. , 5.9, 2.1],\n",
              "       [6.3, 2.9, 5.6, 1.8],\n",
              "       [6.5, 3. , 5.8, 2.2],\n",
              "       [7.6, 3. , 6.6, 2.1],\n",
              "       [4.9, 2.5, 4.5, 1.7],\n",
              "       [7.3, 2.9, 6.3, 1.8],\n",
              "       [6.7, 2.5, 5.8, 1.8],\n",
              "       [7.2, 3.6, 6.1, 2.5],\n",
              "       [6.5, 3.2, 5.1, 2. ],\n",
              "       [6.4, 2.7, 5.3, 1.9],\n",
              "       [6.8, 3. , 5.5, 2.1],\n",
              "       [5.7, 2.5, 5. , 2. ],\n",
              "       [5.8, 2.8, 5.1, 2.4],\n",
              "       [6.4, 3.2, 5.3, 2.3],\n",
              "       [6.5, 3. , 5.5, 1.8],\n",
              "       [7.7, 3.8, 6.7, 2.2],\n",
              "       [7.7, 2.6, 6.9, 2.3],\n",
              "       [6. , 2.2, 5. , 1.5],\n",
              "       [6.9, 3.2, 5.7, 2.3],\n",
              "       [5.6, 2.8, 4.9, 2. ],\n",
              "       [7.7, 2.8, 6.7, 2. ],\n",
              "       [6.3, 2.7, 4.9, 1.8],\n",
              "       [6.7, 3.3, 5.7, 2.1],\n",
              "       [7.2, 3.2, 6. , 1.8],\n",
              "       [6.2, 2.8, 4.8, 1.8],\n",
              "       [6.1, 3. , 4.9, 1.8],\n",
              "       [6.4, 2.8, 5.6, 2.1],\n",
              "       [7.2, 3. , 5.8, 1.6],\n",
              "       [7.4, 2.8, 6.1, 1.9],\n",
              "       [7.9, 3.8, 6.4, 2. ],\n",
              "       [6.4, 2.8, 5.6, 2.2],\n",
              "       [6.3, 2.8, 5.1, 1.5],\n",
              "       [6.1, 2.6, 5.6, 1.4],\n",
              "       [7.7, 3. , 6.1, 2.3],\n",
              "       [6.3, 3.4, 5.6, 2.4],\n",
              "       [6.4, 3.1, 5.5, 1.8],\n",
              "       [6. , 3. , 4.8, 1.8],\n",
              "       [6.9, 3.1, 5.4, 2.1],\n",
              "       [6.7, 3.1, 5.6, 2.4],\n",
              "       [6.9, 3.1, 5.1, 2.3],\n",
              "       [5.8, 2.7, 5.1, 1.9],\n",
              "       [6.8, 3.2, 5.9, 2.3],\n",
              "       [6.7, 3.3, 5.7, 2.5],\n",
              "       [6.7, 3. , 5.2, 2.3],\n",
              "       [6.3, 2.5, 5. , 1.9],\n",
              "       [6.5, 3. , 5.2, 2. ],\n",
              "       [6.2, 3.4, 5.4, 2.3],\n",
              "       [5.9, 3. , 5.1, 1.8]])"
            ]
          },
          "metadata": {},
          "execution_count": 3
        }
      ]
    },
    {
      "cell_type": "code",
      "source": [
        "y"
      ],
      "metadata": {
        "colab": {
          "base_uri": "https://localhost:8080/"
        },
        "id": "tGcBzKN0yPo9",
        "outputId": "eddd29ca-a149-4508-a8a3-323c203244d0"
      },
      "execution_count": null,
      "outputs": [
        {
          "output_type": "execute_result",
          "data": {
            "text/plain": [
              "array([0, 0, 0, 0, 0, 0, 0, 0, 0, 0, 0, 0, 0, 0, 0, 0, 0, 0, 0, 0, 0, 0,\n",
              "       0, 0, 0, 0, 0, 0, 0, 0, 0, 0, 0, 0, 0, 0, 0, 0, 0, 0, 0, 0, 0, 0,\n",
              "       0, 0, 0, 0, 0, 0, 1, 1, 1, 1, 1, 1, 1, 1, 1, 1, 1, 1, 1, 1, 1, 1,\n",
              "       1, 1, 1, 1, 1, 1, 1, 1, 1, 1, 1, 1, 1, 1, 1, 1, 1, 1, 1, 1, 1, 1,\n",
              "       1, 1, 1, 1, 1, 1, 1, 1, 1, 1, 1, 1, 2, 2, 2, 2, 2, 2, 2, 2, 2, 2,\n",
              "       2, 2, 2, 2, 2, 2, 2, 2, 2, 2, 2, 2, 2, 2, 2, 2, 2, 2, 2, 2, 2, 2,\n",
              "       2, 2, 2, 2, 2, 2, 2, 2, 2, 2, 2, 2, 2, 2, 2, 2, 2, 2])"
            ]
          },
          "metadata": {},
          "execution_count": 4
        }
      ]
    },
    {
      "cell_type": "code",
      "source": [
        "from sklearn.model_selection import train_test_split\n",
        "from sklearn.neighbors import KNeighborsClassifier\n",
        "from sklearn.metrics import accuracy_score"
      ],
      "metadata": {
        "id": "iVU6wdn_yTp5"
      },
      "execution_count": null,
      "outputs": []
    },
    {
      "cell_type": "code",
      "source": [
        "x_train,x_test,y_train,y_test=train_test_split(x,y,test_size=0.3,random_state=4)\n",
        "knn=KNeighborsClassifier(n_neighbors=5)\n",
        "knn.fit(x_train,y_train)\n",
        "y_pred=knn.predict(x_test)\n",
        "accuracy_score(y_test,y_pred)"
      ],
      "metadata": {
        "colab": {
          "base_uri": "https://localhost:8080/"
        },
        "id": "NDnLFH-K9WHF",
        "outputId": "6fdccec8-5387-4f2b-f85c-dc9d0fbff4c4"
      },
      "execution_count": null,
      "outputs": [
        {
          "output_type": "execute_result",
          "data": {
            "text/plain": [
              "0.9777777777777777"
            ]
          },
          "metadata": {},
          "execution_count": 6
        }
      ]
    },
    {
      "cell_type": "code",
      "source": [
        "x_train,x_test,y_train,y_test=train_test_split(x,y,test_size=0.3,random_state=3)\n",
        "knn1=KNeighborsClassifier(n_neighbors=5)\n",
        "knn1.fit(x_train,y_train)\n",
        "y_pred1=knn1.predict(x_test)\n",
        "accuracy_score(y_test,y_pred1)"
      ],
      "metadata": {
        "colab": {
          "base_uri": "https://localhost:8080/"
        },
        "id": "V_CBqINOzYpv",
        "outputId": "643da524-152b-48ac-bf27-3ce04c2cb326"
      },
      "execution_count": null,
      "outputs": [
        {
          "output_type": "execute_result",
          "data": {
            "text/plain": [
              "0.9555555555555556"
            ]
          },
          "metadata": {},
          "execution_count": 7
        }
      ]
    },
    {
      "cell_type": "code",
      "source": [
        "x_train,x_test,y_train,y_test=train_test_split(x,y,test_size=0.3,random_state=2)\n",
        "knn2=KNeighborsClassifier(n_neighbors=5)\n",
        "knn2.fit(x_train,y_train)\n",
        "y_pred2=knn2.predict(x_test)\n",
        "accuracy_score(y_test,y_pred2)"
      ],
      "metadata": {
        "colab": {
          "base_uri": "https://localhost:8080/"
        },
        "id": "RSOTwPIFz_Eo",
        "outputId": "f6f8a5d6-4002-477b-bda0-cfa63ace6e04"
      },
      "execution_count": null,
      "outputs": [
        {
          "output_type": "execute_result",
          "data": {
            "text/plain": [
              "1.0"
            ]
          },
          "metadata": {},
          "execution_count": 8
        }
      ]
    },
    {
      "cell_type": "code",
      "source": [
        "x_train,x_test,y_train,y_test=train_test_split(x,y,test_size=0.3,random_state=1)\n",
        "knn3=KNeighborsClassifier(n_neighbors=5)\n",
        "knn3.fit(x_train,y_train)\n",
        "y_pred4=knn3.predict(x_test)\n",
        "accuracy_score(y_test,y_pred4)\n",
        "#accuracy scores is different for different random states, hence if we want to find the overall accuracy score then we would have to take the mean of all this scores, This is the essence of cross-validation"
      ],
      "metadata": {
        "colab": {
          "base_uri": "https://localhost:8080/"
        },
        "id": "6BMxrop127nJ",
        "outputId": "be3d843c-d4f4-4c71-bcb3-0fcc93d16465"
      },
      "execution_count": null,
      "outputs": [
        {
          "output_type": "execute_result",
          "data": {
            "text/plain": [
              "0.9777777777777777"
            ]
          },
          "metadata": {},
          "execution_count": 9
        }
      ]
    },
    {
      "cell_type": "code",
      "source": [
        "#In k-fold cross validation, data is typically split randomly into k-equal sized folds. Each fold represents a different validation set, while the remaining k-1 folds are used for training the model.\n",
        "#The splitting ensures that each data point has an equal chance of being in any field and hence reduces the bias in the evaluation.\n",
        "#For instance if k=5, The data set is divided into 5 factions, 1 representing test data and rest training data. The training and test happens 5 times and the mean is accuracy score."
      ],
      "metadata": {
        "id": "ENJQIsE59lti"
      },
      "execution_count": null,
      "outputs": []
    },
    {
      "cell_type": "code",
      "source": [
        "from sklearn.model_selection import KFold "
      ],
      "metadata": {
        "id": "3XWHDibEJRJT"
      },
      "execution_count": null,
      "outputs": []
    },
    {
      "cell_type": "code",
      "source": [
        "import numpy as np\n",
        "x=np.random.random(size=(25,5))\n",
        "x"
      ],
      "metadata": {
        "colab": {
          "base_uri": "https://localhost:8080/"
        },
        "id": "O247DehSLhQU",
        "outputId": "75654b88-c64f-4e5d-f906-f617986c4525"
      },
      "execution_count": null,
      "outputs": [
        {
          "output_type": "execute_result",
          "data": {
            "text/plain": [
              "array([[0.69987237, 0.43869947, 0.96192798, 0.54111152, 0.13539093],\n",
              "       [0.72386361, 0.51422853, 0.26327594, 0.28040455, 0.51317806],\n",
              "       [0.25786121, 0.66288566, 0.15933113, 0.0935847 , 0.96993197],\n",
              "       [0.14917593, 0.64475832, 0.94584567, 0.07795342, 0.86796712],\n",
              "       [0.31978168, 0.18348359, 0.09566085, 0.8233718 , 0.74607429],\n",
              "       [0.19687213, 0.53476828, 0.25988771, 0.57045246, 0.39093385],\n",
              "       [0.66744267, 0.15310267, 0.37494069, 0.02460832, 0.10305589],\n",
              "       [0.84235729, 0.44139733, 0.35938414, 0.45557151, 0.80914225],\n",
              "       [0.21249811, 0.33713519, 0.10269627, 0.6506736 , 0.05302708],\n",
              "       [0.25029556, 0.07234196, 0.77727478, 0.22534977, 0.22012986],\n",
              "       [0.76800191, 0.83170295, 0.75141023, 0.74353885, 0.20084257],\n",
              "       [0.08301114, 0.66500951, 0.38915063, 0.40458092, 0.47285761],\n",
              "       [0.91562633, 0.03465862, 0.45715164, 0.43057103, 0.09619064],\n",
              "       [0.96414186, 0.29065045, 0.73166119, 0.89676406, 0.44068826],\n",
              "       [0.46552437, 0.32973294, 0.4004297 , 0.42450234, 0.81798291],\n",
              "       [0.28581641, 0.95450083, 0.79840777, 0.68923861, 0.81260571],\n",
              "       [0.74434367, 0.60177764, 0.49100314, 0.8098982 , 0.13825787],\n",
              "       [0.30446287, 0.02598731, 0.01878647, 0.17838188, 0.53911705],\n",
              "       [0.37361714, 0.78204539, 0.40220001, 0.18479274, 0.55404887],\n",
              "       [0.16786296, 0.69021345, 0.99343292, 0.85674248, 0.55219051],\n",
              "       [0.34300265, 0.8257784 , 0.06408872, 0.26360432, 0.2879547 ],\n",
              "       [0.48065075, 0.70749996, 0.05635746, 0.69399333, 0.13554116],\n",
              "       [0.48938806, 0.60342437, 0.51451498, 0.1934471 , 0.18617809],\n",
              "       [0.24177259, 0.50151245, 0.90343542, 0.3770565 , 0.91726732],\n",
              "       [0.85777939, 0.9456687 , 0.28067656, 0.29179746, 0.37272235]])"
            ]
          },
          "metadata": {},
          "execution_count": 19
        }
      ]
    },
    {
      "cell_type": "code",
      "source": [
        "y=np.random.randint(low=0,high=2,size=25)\n",
        "y"
      ],
      "metadata": {
        "colab": {
          "base_uri": "https://localhost:8080/"
        },
        "id": "u93CAwJWMIY-",
        "outputId": "054c39c8-1878-497f-efaa-c712bb1750b9"
      },
      "execution_count": null,
      "outputs": [
        {
          "output_type": "execute_result",
          "data": {
            "text/plain": [
              "array([0, 1, 1, 0, 1, 1, 1, 1, 0, 0, 0, 1, 0, 1, 0, 1, 1, 0, 0, 0, 1, 1,\n",
              "       0, 1, 1])"
            ]
          },
          "metadata": {},
          "execution_count": 20
        }
      ]
    },
    {
      "cell_type": "code",
      "source": [
        "kf=KFold(n_splits=6)\n",
        "for train_index,test_index in kf.split(x):\n",
        "  print(train_index,test_index)\n",
        "#Here data is split into 6 parts and here, "
      ],
      "metadata": {
        "colab": {
          "base_uri": "https://localhost:8080/"
        },
        "id": "7LAoAeCaM9O4",
        "outputId": "286803ae-4d83-4406-aec6-32e85ce682c0"
      },
      "execution_count": null,
      "outputs": [
        {
          "output_type": "stream",
          "name": "stdout",
          "text": [
            "[ 5  6  7  8  9 10 11 12 13 14 15 16 17 18 19 20 21 22 23 24] [0 1 2 3 4]\n",
            "[ 0  1  2  3  4  9 10 11 12 13 14 15 16 17 18 19 20 21 22 23 24] [5 6 7 8]\n",
            "[ 0  1  2  3  4  5  6  7  8 13 14 15 16 17 18 19 20 21 22 23 24] [ 9 10 11 12]\n",
            "[ 0  1  2  3  4  5  6  7  8  9 10 11 12 17 18 19 20 21 22 23 24] [13 14 15 16]\n",
            "[ 0  1  2  3  4  5  6  7  8  9 10 11 12 13 14 15 16 21 22 23 24] [17 18 19 20]\n",
            "[ 0  1  2  3  4  5  6  7  8  9 10 11 12 13 14 15 16 17 18 19 20] [21 22 23 24]\n"
          ]
        }
      ]
    },
    {
      "cell_type": "code",
      "source": [
        "#stratified sampling is a sampling technique that ensures that the distribution of classes or categories in the dataset is preserved in the training and validation set. It is particularly useful\n",
        "#when presented with imbalanced datasets when one particular class may be particularly underrepresented as compared to the others. \n",
        "#so if propotion of classes a and b in overall dataset is 3:2 then the propotion of classes in Training dataset will be 3:2 and propotion of class in validation dataset too would be 3:2, validation dataset\n",
        "#is basically the testing fold(testing dataset)"
      ],
      "metadata": {
        "id": "P8d9-ImEYMQg"
      },
      "execution_count": null,
      "outputs": []
    },
    {
      "cell_type": "code",
      "source": [
        "from sklearn.model_selection import cross_val_score"
      ],
      "metadata": {
        "id": "Izh5aXK9c8ID"
      },
      "execution_count": null,
      "outputs": []
    },
    {
      "cell_type": "code",
      "source": [
        "data=load_iris()\n",
        "x=data['data']\n",
        "y=data['target']"
      ],
      "metadata": {
        "id": "Khcad7t5f9RX"
      },
      "execution_count": null,
      "outputs": []
    },
    {
      "cell_type": "code",
      "source": [
        "knn=KNeighborsClassifier(n_neighbors=5)\n",
        "scores=cross_val_score(knn,x,y,cv=10,scoring='accuracy')\n",
        "scores\n",
        "#cv=10 specifies that the dataset will be split into 10 equal-sized folds, and the evaluation will be performed using a 10-fold cross validation, As you can see below, the testing has been done\n",
        "#10 times as well such that kth fold is taken as testing fold and rest is taken as training fold, the model is first fitted with xtest and ytest and then y_prediction is done from x_test after which accuracy\n"
      ],
      "metadata": {
        "colab": {
          "base_uri": "https://localhost:8080/"
        },
        "id": "L6Xb2cb9gIyy",
        "outputId": "ccc5a8f8-9461-4fe8-dae9-34578cb18e0a"
      },
      "execution_count": null,
      "outputs": [
        {
          "output_type": "execute_result",
          "data": {
            "text/plain": [
              "array([1.        , 0.93333333, 1.        , 1.        , 0.86666667,\n",
              "       0.93333333, 0.93333333, 1.        , 1.        , 1.        ])"
            ]
          },
          "metadata": {},
          "execution_count": 24
        }
      ]
    },
    {
      "cell_type": "code",
      "source": [
        "scores.mean()"
      ],
      "metadata": {
        "colab": {
          "base_uri": "https://localhost:8080/"
        },
        "id": "l96fEgLwgl13",
        "outputId": "e7a6c5b6-29e7-464c-eb6e-c5ff5e1263a0"
      },
      "execution_count": null,
      "outputs": [
        {
          "output_type": "execute_result",
          "data": {
            "text/plain": [
              "0.9666666666666668"
            ]
          },
          "metadata": {},
          "execution_count": 25
        }
      ]
    },
    {
      "cell_type": "code",
      "source": [
        "#now if we have to find the specific number of neighbors at which mean cross validation accuracy is maximum, then we find that out like below \n",
        "for i in range(1,21):\n",
        "  knn=KNeighborsClassifier(n_neighbors=i)\n",
        "  scores=cross_val_score(knn,x,y,cv=10,scoring='accuracy')\n",
        "  print(i,scores.mean())"
      ],
      "metadata": {
        "colab": {
          "base_uri": "https://localhost:8080/"
        },
        "id": "YPZdj_VYwOaT",
        "outputId": "39a8a7e7-e15e-4c32-bed2-6e7c0d0651a1"
      },
      "execution_count": null,
      "outputs": [
        {
          "output_type": "stream",
          "name": "stdout",
          "text": [
            "1 0.96\n",
            "2 0.9533333333333334\n",
            "3 0.9666666666666666\n",
            "4 0.9666666666666666\n",
            "5 0.9666666666666668\n",
            "6 0.9666666666666668\n",
            "7 0.9666666666666668\n",
            "8 0.9666666666666668\n",
            "9 0.9733333333333334\n",
            "10 0.9666666666666668\n",
            "11 0.9666666666666668\n",
            "12 0.9733333333333334\n",
            "13 0.9800000000000001\n",
            "14 0.9733333333333334\n",
            "15 0.9733333333333334\n",
            "16 0.9733333333333334\n",
            "17 0.9733333333333334\n",
            "18 0.9800000000000001\n",
            "19 0.9733333333333334\n",
            "20 0.9800000000000001\n"
          ]
        }
      ]
    },
    {
      "cell_type": "code",
      "source": [
        "from sklearn.datasets import load_boston\n",
        "from sklearn.linear_model import LinearRegression"
      ],
      "metadata": {
        "colab": {
          "base_uri": "https://localhost:8080/",
          "height": 1000
        },
        "id": "jE-obp2Uyqp0",
        "outputId": "d22c593b-36c9-4dac-c7b4-339f7be78146"
      },
      "execution_count": null,
      "outputs": [
        {
          "output_type": "error",
          "ename": "ImportError",
          "evalue": "ignored",
          "traceback": [
            "\u001b[0;31m---------------------------------------------------------------------------\u001b[0m",
            "\u001b[0;31mImportError\u001b[0m                               Traceback (most recent call last)",
            "\u001b[0;32m<ipython-input-27-1eaaf460a569>\u001b[0m in \u001b[0;36m<cell line: 1>\u001b[0;34m()\u001b[0m\n\u001b[0;32m----> 1\u001b[0;31m \u001b[0;32mfrom\u001b[0m \u001b[0msklearn\u001b[0m\u001b[0;34m.\u001b[0m\u001b[0mdatasets\u001b[0m \u001b[0;32mimport\u001b[0m \u001b[0mload_boston\u001b[0m\u001b[0;34m\u001b[0m\u001b[0;34m\u001b[0m\u001b[0m\n\u001b[0m\u001b[1;32m      2\u001b[0m \u001b[0;32mfrom\u001b[0m \u001b[0msklearn\u001b[0m\u001b[0;34m.\u001b[0m\u001b[0mlinear_model\u001b[0m \u001b[0;32mimport\u001b[0m \u001b[0mLinearRegression\u001b[0m\u001b[0;34m\u001b[0m\u001b[0;34m\u001b[0m\u001b[0m\n",
            "\u001b[0;32m/usr/local/lib/python3.10/dist-packages/sklearn/datasets/__init__.py\u001b[0m in \u001b[0;36m__getattr__\u001b[0;34m(name)\u001b[0m\n\u001b[1;32m    154\u001b[0m             \"\"\"\n\u001b[1;32m    155\u001b[0m         )\n\u001b[0;32m--> 156\u001b[0;31m         \u001b[0;32mraise\u001b[0m \u001b[0mImportError\u001b[0m\u001b[0;34m(\u001b[0m\u001b[0mmsg\u001b[0m\u001b[0;34m)\u001b[0m\u001b[0;34m\u001b[0m\u001b[0;34m\u001b[0m\u001b[0m\n\u001b[0m\u001b[1;32m    157\u001b[0m     \u001b[0;32mtry\u001b[0m\u001b[0;34m:\u001b[0m\u001b[0;34m\u001b[0m\u001b[0;34m\u001b[0m\u001b[0m\n\u001b[1;32m    158\u001b[0m         \u001b[0;32mreturn\u001b[0m \u001b[0mglobals\u001b[0m\u001b[0;34m(\u001b[0m\u001b[0;34m)\u001b[0m\u001b[0;34m[\u001b[0m\u001b[0mname\u001b[0m\u001b[0;34m]\u001b[0m\u001b[0;34m\u001b[0m\u001b[0;34m\u001b[0m\u001b[0m\n",
            "\u001b[0;31mImportError\u001b[0m: \n`load_boston` has been removed from scikit-learn since version 1.2.\n\nThe Boston housing prices dataset has an ethical problem: as\ninvestigated in [1], the authors of this dataset engineered a\nnon-invertible variable \"B\" assuming that racial self-segregation had a\npositive impact on house prices [2]. Furthermore the goal of the\nresearch that led to the creation of this dataset was to study the\nimpact of air quality but it did not give adequate demonstration of the\nvalidity of this assumption.\n\nThe scikit-learn maintainers therefore strongly discourage the use of\nthis dataset unless the purpose of the code is to study and educate\nabout ethical issues in data science and machine learning.\n\nIn this special case, you can fetch the dataset from the original\nsource::\n\n    import pandas as pd\n    import numpy as np\n\n    data_url = \"http://lib.stat.cmu.edu/datasets/boston\"\n    raw_df = pd.read_csv(data_url, sep=\"\\s+\", skiprows=22, header=None)\n    data = np.hstack([raw_df.values[::2, :], raw_df.values[1::2, :2]])\n    target = raw_df.values[1::2, 2]\n\nAlternative datasets include the California housing dataset and the\nAmes housing dataset. You can load the datasets as follows::\n\n    from sklearn.datasets import fetch_california_housing\n    housing = fetch_california_housing()\n\nfor the California housing dataset and::\n\n    from sklearn.datasets import fetch_openml\n    housing = fetch_openml(name=\"house_prices\", as_frame=True)\n\nfor the Ames housing dataset.\n\n[1] M Carlisle.\n\"Racist data destruction?\"\n<https://medium.com/@docintangible/racist-data-destruction-113e3eff54a8>\n\n[2] Harrison Jr, David, and Daniel L. Rubinfeld.\n\"Hedonic housing prices and the demand for clean air.\"\nJournal of environmental economics and management 5.1 (1978): 81-102.\n<https://www.researchgate.net/publication/4974606_Hedonic_housing_prices_and_the_demand_for_clean_air>\n",
            "",
            "\u001b[0;31m---------------------------------------------------------------------------\u001b[0;32m\nNOTE: If your import is failing due to a missing package, you can\nmanually install dependencies using either !pip or !apt.\n\nTo view examples of installing some common dependencies, click the\n\"Open Examples\" button below.\n\u001b[0;31m---------------------------------------------------------------------------\u001b[0m\n"
          ],
          "errorDetails": {
            "actions": [
              {
                "action": "open_url",
                "actionText": "Open Examples",
                "url": "/notebooks/snippets/importing_libraries.ipynb"
              }
            ]
          }
        }
      ]
    },
    {
      "cell_type": "code",
      "source": [
        "#Loading the california housing dataset\n",
        "data=fetch_california_housing()"
      ],
      "metadata": {
        "colab": {
          "base_uri": "https://localhost:8080/"
        },
        "id": "ecNKcBGf0nT9",
        "outputId": "4c09430a-b858-461b-b9cb-d966dfbe694e"
      },
      "execution_count": null,
      "outputs": [
        {
          "output_type": "execute_result",
          "data": {
            "text/plain": [
              "{'data': array([[   8.3252    ,   41.        ,    6.98412698, ...,    2.55555556,\n",
              "           37.88      , -122.23      ],\n",
              "        [   8.3014    ,   21.        ,    6.23813708, ...,    2.10984183,\n",
              "           37.86      , -122.22      ],\n",
              "        [   7.2574    ,   52.        ,    8.28813559, ...,    2.80225989,\n",
              "           37.85      , -122.24      ],\n",
              "        ...,\n",
              "        [   1.7       ,   17.        ,    5.20554273, ...,    2.3256351 ,\n",
              "           39.43      , -121.22      ],\n",
              "        [   1.8672    ,   18.        ,    5.32951289, ...,    2.12320917,\n",
              "           39.43      , -121.32      ],\n",
              "        [   2.3886    ,   16.        ,    5.25471698, ...,    2.61698113,\n",
              "           39.37      , -121.24      ]]),\n",
              " 'target': array([4.526, 3.585, 3.521, ..., 0.923, 0.847, 0.894]),\n",
              " 'frame': None,\n",
              " 'target_names': ['MedHouseVal'],\n",
              " 'feature_names': ['MedInc',\n",
              "  'HouseAge',\n",
              "  'AveRooms',\n",
              "  'AveBedrms',\n",
              "  'Population',\n",
              "  'AveOccup',\n",
              "  'Latitude',\n",
              "  'Longitude'],\n",
              " 'DESCR': '.. _california_housing_dataset:\\n\\nCalifornia Housing dataset\\n--------------------------\\n\\n**Data Set Characteristics:**\\n\\n    :Number of Instances: 20640\\n\\n    :Number of Attributes: 8 numeric, predictive attributes and the target\\n\\n    :Attribute Information:\\n        - MedInc        median income in block group\\n        - HouseAge      median house age in block group\\n        - AveRooms      average number of rooms per household\\n        - AveBedrms     average number of bedrooms per household\\n        - Population    block group population\\n        - AveOccup      average number of household members\\n        - Latitude      block group latitude\\n        - Longitude     block group longitude\\n\\n    :Missing Attribute Values: None\\n\\nThis dataset was obtained from the StatLib repository.\\nhttps://www.dcc.fc.up.pt/~ltorgo/Regression/cal_housing.html\\n\\nThe target variable is the median house value for California districts,\\nexpressed in hundreds of thousands of dollars ($100,000).\\n\\nThis dataset was derived from the 1990 U.S. census, using one row per census\\nblock group. A block group is the smallest geographical unit for which the U.S.\\nCensus Bureau publishes sample data (a block group typically has a population\\nof 600 to 3,000 people).\\n\\nA household is a group of people residing within a home. Since the average\\nnumber of rooms and bedrooms in this dataset are provided per household, these\\ncolumns may take surprisingly large values for block groups with few households\\nand many empty houses, such as vacation resorts.\\n\\nIt can be downloaded/loaded using the\\n:func:`sklearn.datasets.fetch_california_housing` function.\\n\\n.. topic:: References\\n\\n    - Pace, R. Kelley and Ronald Barry, Sparse Spatial Autoregressions,\\n      Statistics and Probability Letters, 33 (1997) 291-297\\n'}"
            ]
          },
          "metadata": {},
          "execution_count": 30
        }
      ]
    },
    {
      "cell_type": "code",
      "source": [
        "from sklearn.datasets import fetch_california_housing\n",
        "from sklearn.linear_model import LinearRegression\n",
        "from sklearn.model_selection import cross_val_score"
      ],
      "metadata": {
        "id": "rWOrv-rf6yxr"
      },
      "execution_count": null,
      "outputs": []
    },
    {
      "cell_type": "code",
      "source": [
        "#load the california housing dataset\n",
        "data=fetch_california_housing()\n",
        "#split the dataset into features(x) and target variable(y)\n",
        "x=data.data\n",
        "y=data.target"
      ],
      "metadata": {
        "id": "C-AU81N9YIhx"
      },
      "execution_count": null,
      "outputs": []
    },
    {
      "cell_type": "code",
      "source": [
        "#create a linear regression model\n",
        "model=LinearRegression()\n",
        "#perform the cross-validation and calculate the r2 scores\n",
        "scores=cross_val_score(model,x,y,cv=10,scoring='r2')\n",
        "scores"
      ],
      "metadata": {
        "colab": {
          "base_uri": "https://localhost:8080/"
        },
        "id": "FS2HZf1AYoJt",
        "outputId": "ecba2992-30f6-4b62-e88b-fd5f1ecc2683"
      },
      "execution_count": null,
      "outputs": [
        {
          "output_type": "execute_result",
          "data": {
            "text/plain": [
              "array([0.48254494, 0.61416063, 0.42274892, 0.48178521, 0.55705986,\n",
              "       0.5412919 , 0.47496038, 0.45844938, 0.48177943, 0.59528796])"
            ]
          },
          "metadata": {},
          "execution_count": 3
        }
      ]
    },
    {
      "cell_type": "code",
      "source": [
        "scores.mean()\n",
        "#From different train test splits using cross validation we get an idea about the results of different splitting process and how bad the results can be, we take an overall average of the accuracies to gauge\n",
        "#performance of the model and decide if the given model is accurate for that set of data or not"
      ],
      "metadata": {
        "colab": {
          "base_uri": "https://localhost:8080/"
        },
        "id": "xPRZ-VWgbO_2",
        "outputId": "c6f31de1-fffe-499e-85e6-3cd15a83d1d4"
      },
      "execution_count": null,
      "outputs": [
        {
          "output_type": "execute_result",
          "data": {
            "text/plain": [
              "0.5110068610523775"
            ]
          },
          "metadata": {},
          "execution_count": 4
        }
      ]
    },
    {
      "cell_type": "code",
      "source": [
        "#now we come back to the code and calculate the gradient descent with respect to both b(intercept) and m(slope) for a given dataset having a bit of noise on a linear regression model"
      ],
      "metadata": {
        "id": "jvUEUELudMlk"
      },
      "execution_count": null,
      "outputs": []
    },
    {
      "cell_type": "code",
      "source": [
        "from sklearn.datasets import make_regression\n",
        "import matplotlib.pyplot as plt\n",
        "import numpy as np"
      ],
      "metadata": {
        "id": "MCJI0PqSdZt0"
      },
      "execution_count": null,
      "outputs": []
    },
    {
      "cell_type": "code",
      "source": [
        "x,y=make_regression(n_samples=100,n_features=1,n_informative=1,n_targets=1,noise=20,random_state=13)"
      ],
      "metadata": {
        "id": "yJ8L7z4Cd25D"
      },
      "execution_count": null,
      "outputs": []
    },
    {
      "cell_type": "code",
      "source": [
        "plt.scatter(x,y)"
      ],
      "metadata": {
        "colab": {
          "base_uri": "https://localhost:8080/",
          "height": 447
        },
        "id": "eY4Jiz1xeduI",
        "outputId": "a867265e-8116-48f2-8d2e-22c1db857735"
      },
      "execution_count": null,
      "outputs": [
        {
          "output_type": "execute_result",
          "data": {
            "text/plain": [
              "<matplotlib.collections.PathCollection at 0x7fb211180220>"
            ]
          },
          "metadata": {},
          "execution_count": 3
        },
        {
          "output_type": "display_data",
          "data": {
            "text/plain": [
              "<Figure size 640x480 with 1 Axes>"
            ],
            "image/png": "[encoded data removed]"
          },
          "metadata": {}
        }
      ]
    },
    {
      "cell_type": "code",
      "source": [
        "from sklearn.linear_model import LinearRegression"
      ],
      "metadata": {
        "id": "enFGJSHoem_u"
      },
      "execution_count": null,
      "outputs": []
    },
    {
      "cell_type": "code",
      "source": [
        "lr=LinearRegression()"
      ],
      "metadata": {
        "id": "TfLJFIovrWZg"
      },
      "execution_count": null,
      "outputs": []
    },
    {
      "cell_type": "code",
      "source": [
        "lr.fit(x,y)\n",
        "print(lr.coef_)\n",
        "print(lr.intercept_)"
      ],
      "metadata": {
        "colab": {
          "base_uri": "https://localhost:8080/"
        },
        "id": "tky8EKJkrhss",
        "outputId": "022fad97-4cfa-4114-c861-6abcfd63a0a1"
      },
      "execution_count": null,
      "outputs": [
        {
          "output_type": "stream",
          "name": "stdout",
          "text": [
            "[27.82809103]\n",
            "-2.29474455867698\n"
          ]
        }
      ]
    },
    {
      "cell_type": "code",
      "source": [
        "from sklearn.model_selection import cross_val_score"
      ],
      "metadata": {
        "id": "j5oPw99Fu7aE"
      },
      "execution_count": null,
      "outputs": []
    },
    {
      "cell_type": "code",
      "source": [
        "np.mean(cross_val_score(lr,x,y,scoring='r2',cv=10))"
      ],
      "metadata": {
        "colab": {
          "base_uri": "https://localhost:8080/"
        },
        "id": "CjKdR12sve1C",
        "outputId": "526730c7-05b5-46dc-c565-6c105931ab0b"
      },
      "execution_count": null,
      "outputs": [
        {
          "output_type": "execute_result",
          "data": {
            "text/plain": [
              "0.6375011587464419"
            ]
          },
          "metadata": {},
          "execution_count": 8
        }
      ]
    },
    {
      "cell_type": "code",
      "source": [
        "#In a class m and b are initialized and learning rate and number of epochs are initialized in the constructor and then a function is created within the class which takes x and y\n",
        "#as input, calculates the slope with respect to both m and b and then recalibarates m and b accordingly "
      ],
      "metadata": {
        "id": "Ry6uNkTnyY8I"
      },
      "execution_count": null,
      "outputs": []
    },
    {
      "cell_type": "code",
      "source": [
        "class Rgenerator:\n",
        "  def __init__(self,lr,epochs):\n",
        "    self.m=-120\n",
        "    self.b=-100\n",
        "    self.learning=lr\n",
        "    self.epochs=epochs\n",
        "  def fit(self,x,y):\n",
        "    for i in range(self.epochs):\n",
        "      slope_b=-2*np.sum(y-self.m*x.ravel()-self.b)\n",
        "      slope_m=-2*np.sum((y-self.m*x.ravel()-self.b)*x.ravel())\n",
        "      self.b=self.b-self.learning*slope_b\n",
        "      self.m=self.m-self.learning*slope_m\n",
        "    print(self.b,self.m)\n",
        "  def predict(self,x):\n",
        "    return self.m*x+self.b"
      ],
      "metadata": {
        "id": "o5p1MtmhC9wl"
      },
      "execution_count": null,
      "outputs": []
    },
    {
      "cell_type": "code",
      "source": [
        "s=Rgenerator(0.001,100)"
      ],
      "metadata": {
        "id": "cJ9Eh82qH5_H"
      },
      "execution_count": null,
      "outputs": []
    },
    {
      "cell_type": "code",
      "source": [],
      "metadata": {
        "id": "lbIgT_4KyfuD"
      },
      "execution_count": null,
      "outputs": []
    },
    {
      "cell_type": "code",
      "source": [
        "s.fit(x,y)#so b and m will be printed only when all the epochs have been run, only then will it come out of the for loop and execute the print statement"
      ],
      "metadata": {
        "colab": {
          "base_uri": "https://localhost:8080/"
        },
        "id": "g8KPIz3cICFD",
        "outputId": "43a379ed-f0f6-4c59-95c5-f7c7b31eb67d"
      },
      "execution_count": null,
      "outputs": [
        {
          "output_type": "stream",
          "name": "stdout",
          "text": [
            "-2.2947442690650224 27.8280902387458\n"
          ]
        }
      ]
    },
    {
      "cell_type": "code",
      "source": [
        "s.predict(x)"
      ],
      "metadata": {
        "colab": {
          "base_uri": "https://localhost:8080/"
        },
        "id": "xgxlZ117L-ob",
        "outputId": "7eae5604-97d1-4c5d-d1f2-9504f78a4f03"
      },
      "execution_count": null,
      "outputs": [
        {
          "output_type": "execute_result",
          "data": {
            "text/plain": [
              "array([[-22.1192159 ],\n",
              "       [-14.45967302],\n",
              "       [-14.92180648],\n",
              "       [ 24.22071196],\n",
              "       [  4.32438512],\n",
              "       [ 21.67112357],\n",
              "       [ -9.06604916],\n",
              "       [  2.85194833],\n",
              "       [-22.35878824],\n",
              "       [-14.25795906],\n",
              "       [ 53.7850027 ],\n",
              "       [  8.75972321],\n",
              "       [  3.48793437],\n",
              "       [ -8.76271241],\n",
              "       [-23.68416636],\n",
              "       [ 10.31579451],\n",
              "       [ 15.51200468],\n",
              "       [  7.71035289],\n",
              "       [-47.24011442],\n",
              "       [ 46.38331411],\n",
              "       [-24.25080205],\n",
              "       [-16.54175511],\n",
              "       [-28.1285407 ],\n",
              "       [ 57.546307  ],\n",
              "       [ -8.06489038],\n",
              "       [-47.90758363],\n",
              "       [-11.7178436 ],\n",
              "       [-11.25883046],\n",
              "       [-15.69039147],\n",
              "       [-16.85340525],\n",
              "       [ 17.7961645 ],\n",
              "       [ 19.01909752],\n",
              "       [ 10.32476704],\n",
              "       [-37.40282836],\n",
              "       [-63.15798546],\n",
              "       [-35.28268586],\n",
              "       [  3.75652013],\n",
              "       [ 34.72543513],\n",
              "       [-32.54893168],\n",
              "       [ 13.35192522],\n",
              "       [-44.39433465],\n",
              "       [ -2.36122629],\n",
              "       [-10.03469669],\n",
              "       [ 10.27833026],\n",
              "       [ 30.8403095 ],\n",
              "       [ 23.37233192],\n",
              "       [ 20.38502246],\n",
              "       [-19.57542346],\n",
              "       [ 23.13291452],\n",
              "       [ 29.3828905 ],\n",
              "       [ 38.85425587],\n",
              "       [-20.41240272],\n",
              "       [-12.75587887],\n",
              "       [-23.85205358],\n",
              "       [ 11.6509496 ],\n",
              "       [ 35.27840644],\n",
              "       [ 17.99653825],\n",
              "       [ -4.56695114],\n",
              "       [-26.06391145],\n",
              "       [ 10.6636278 ],\n",
              "       [ -3.53317995],\n",
              "       [ -3.89576075],\n",
              "       [ 50.37665699],\n",
              "       [-31.38559339],\n",
              "       [ 13.41850621],\n",
              "       [-55.84042705],\n",
              "       [-23.55635052],\n",
              "       [  1.2478629 ],\n",
              "       [ -3.03974816],\n",
              "       [ -6.33569834],\n",
              "       [ 13.36820686],\n",
              "       [  6.53652585],\n",
              "       [ 17.49032648],\n",
              "       [ 18.68113454],\n",
              "       [-12.59436789],\n",
              "       [ 35.13686745],\n",
              "       [ 12.51920252],\n",
              "       [-29.68205931],\n",
              "       [ 35.28169284],\n",
              "       [-11.94014923],\n",
              "       [ 12.01804552],\n",
              "       [  0.52340046],\n",
              "       [-20.59219413],\n",
              "       [ 20.82777336],\n",
              "       [-11.12365034],\n",
              "       [-29.57390646],\n",
              "       [ 36.64338875],\n",
              "       [ 12.95277589],\n",
              "       [-17.05274322],\n",
              "       [ 11.36528138],\n",
              "       [  7.41031873],\n",
              "       [ 54.85561643],\n",
              "       [ 14.57711119],\n",
              "       [-12.99346742],\n",
              "       [-56.4312517 ],\n",
              "       [-11.05664322],\n",
              "       [ 49.17644113],\n",
              "       [-33.4763106 ],\n",
              "       [-11.55247576],\n",
              "       [-23.37322098]])"
            ]
          },
          "metadata": {},
          "execution_count": 21
        }
      ]
    },
    {
      "cell_type": "code",
      "source": [
        "np.mean(cross_val_score(s,x,y,cv=10,scoring='r2'))\n",
        "#get_params method is not present in the class that we have defined, so we are getting this error, hence we can use train_test_split to determine the r2 score"
      ],
      "metadata": {
        "colab": {
          "base_uri": "https://localhost:8080/",
          "height": 449
        },
        "id": "ClKRnpIjTyxX",
        "outputId": "e0a05c2c-68dc-4a9b-93c6-4a79c54b954c"
      },
      "execution_count": null,
      "outputs": [
        {
          "output_type": "error",
          "ename": "TypeError",
          "evalue": "ignored",
          "traceback": [
            "\u001b[0;31m---------------------------------------------------------------------------\u001b[0m",
            "\u001b[0;31mEmpty\u001b[0m                                     Traceback (most recent call last)",
            "\u001b[0;32m/usr/local/lib/python3.10/dist-packages/joblib/parallel.py\u001b[0m in \u001b[0;36mdispatch_one_batch\u001b[0;34m(self, iterator)\u001b[0m\n\u001b[1;32m    861\u001b[0m             \u001b[0;32mtry\u001b[0m\u001b[0;34m:\u001b[0m\u001b[0;34m\u001b[0m\u001b[0;34m\u001b[0m\u001b[0m\n\u001b[0;32m--> 862\u001b[0;31m                 \u001b[0mtasks\u001b[0m \u001b[0;34m=\u001b[0m \u001b[0mself\u001b[0m\u001b[0;34m.\u001b[0m\u001b[0m_ready_batches\u001b[0m\u001b[0;34m.\u001b[0m\u001b[0mget\u001b[0m\u001b[0;34m(\u001b[0m\u001b[0mblock\u001b[0m\u001b[0;34m=\u001b[0m\u001b[0;32mFalse\u001b[0m\u001b[0;34m)\u001b[0m\u001b[0;34m\u001b[0m\u001b[0;34m\u001b[0m\u001b[0m\n\u001b[0m\u001b[1;32m    863\u001b[0m             \u001b[0;32mexcept\u001b[0m \u001b[0mqueue\u001b[0m\u001b[0;34m.\u001b[0m\u001b[0mEmpty\u001b[0m\u001b[0;34m:\u001b[0m\u001b[0;34m\u001b[0m\u001b[0;34m\u001b[0m\u001b[0m\n",
            "\u001b[0;32m/usr/lib/python3.10/queue.py\u001b[0m in \u001b[0;36mget\u001b[0;34m(self, block, timeout)\u001b[0m\n\u001b[1;32m    167\u001b[0m                 \u001b[0;32mif\u001b[0m \u001b[0;32mnot\u001b[0m \u001b[0mself\u001b[0m\u001b[0;34m.\u001b[0m\u001b[0m_qsize\u001b[0m\u001b[0;34m(\u001b[0m\u001b[0;34m)\u001b[0m\u001b[0;34m:\u001b[0m\u001b[0;34m\u001b[0m\u001b[0;34m\u001b[0m\u001b[0m\n\u001b[0;32m--> 168\u001b[0;31m                     \u001b[0;32mraise\u001b[0m \u001b[0mEmpty\u001b[0m\u001b[0;34m\u001b[0m\u001b[0;34m\u001b[0m\u001b[0m\n\u001b[0m\u001b[1;32m    169\u001b[0m             \u001b[0;32melif\u001b[0m \u001b[0mtimeout\u001b[0m \u001b[0;32mis\u001b[0m \u001b[0;32mNone\u001b[0m\u001b[0;34m:\u001b[0m\u001b[0;34m\u001b[0m\u001b[0;34m\u001b[0m\u001b[0m\n",
            "\u001b[0;31mEmpty\u001b[0m: ",
            "\nDuring handling of the above exception, another exception occurred:\n",
            "\u001b[0;31mTypeError\u001b[0m                                 Traceback (most recent call last)",
            "\u001b[0;32m<ipython-input-22-f290497d5d33>\u001b[0m in \u001b[0;36m<cell line: 1>\u001b[0;34m()\u001b[0m\n\u001b[0;32m----> 1\u001b[0;31m \u001b[0mnp\u001b[0m\u001b[0;34m.\u001b[0m\u001b[0mmean\u001b[0m\u001b[0;34m(\u001b[0m\u001b[0mcross_val_score\u001b[0m\u001b[0;34m(\u001b[0m\u001b[0ms\u001b[0m\u001b[0;34m,\u001b[0m\u001b[0mx\u001b[0m\u001b[0;34m,\u001b[0m\u001b[0my\u001b[0m\u001b[0;34m,\u001b[0m\u001b[0mcv\u001b[0m\u001b[0;34m=\u001b[0m\u001b[0;36m10\u001b[0m\u001b[0;34m,\u001b[0m\u001b[0mscoring\u001b[0m\u001b[0;34m=\u001b[0m\u001b[0;34m'r2'\u001b[0m\u001b[0;34m)\u001b[0m\u001b[0;34m)\u001b[0m\u001b[0;34m\u001b[0m\u001b[0;34m\u001b[0m\u001b[0m\n\u001b[0m",
            "\u001b[0;32m/usr/local/lib/python3.10/dist-packages/sklearn/model_selection/_validation.py\u001b[0m in \u001b[0;36mcross_val_score\u001b[0;34m(estimator, X, y, groups, scoring, cv, n_jobs, verbose, fit_params, pre_dispatch, error_score)\u001b[0m\n\u001b[1;32m    513\u001b[0m     \u001b[0mscorer\u001b[0m \u001b[0;34m=\u001b[0m \u001b[0mcheck_scoring\u001b[0m\u001b[0;34m(\u001b[0m\u001b[0mestimator\u001b[0m\u001b[0;34m,\u001b[0m \u001b[0mscoring\u001b[0m\u001b[0;34m=\u001b[0m\u001b[0mscoring\u001b[0m\u001b[0;34m)\u001b[0m\u001b[0;34m\u001b[0m\u001b[0;34m\u001b[0m\u001b[0m\n\u001b[1;32m    514\u001b[0m \u001b[0;34m\u001b[0m\u001b[0m\n\u001b[0;32m--> 515\u001b[0;31m     cv_results = cross_validate(\n\u001b[0m\u001b[1;32m    516\u001b[0m         \u001b[0mestimator\u001b[0m\u001b[0;34m=\u001b[0m\u001b[0mestimator\u001b[0m\u001b[0;34m,\u001b[0m\u001b[0;34m\u001b[0m\u001b[0;34m\u001b[0m\u001b[0m\n\u001b[1;32m    517\u001b[0m         \u001b[0mX\u001b[0m\u001b[0;34m=\u001b[0m\u001b[0mX\u001b[0m\u001b[0;34m,\u001b[0m\u001b[0;34m\u001b[0m\u001b[0;34m\u001b[0m\u001b[0m\n",
            "\u001b[0;32m/usr/local/lib/python3.10/dist-packages/sklearn/model_selection/_validation.py\u001b[0m in \u001b[0;36mcross_validate\u001b[0;34m(estimator, X, y, groups, scoring, cv, n_jobs, verbose, fit_params, pre_dispatch, return_train_score, return_estimator, error_score)\u001b[0m\n\u001b[1;32m    264\u001b[0m     \u001b[0;31m# independent, and that it is pickle-able.\u001b[0m\u001b[0;34m\u001b[0m\u001b[0;34m\u001b[0m\u001b[0m\n\u001b[1;32m    265\u001b[0m     \u001b[0mparallel\u001b[0m \u001b[0;34m=\u001b[0m \u001b[0mParallel\u001b[0m\u001b[0;34m(\u001b[0m\u001b[0mn_jobs\u001b[0m\u001b[0;34m=\u001b[0m\u001b[0mn_jobs\u001b[0m\u001b[0;34m,\u001b[0m \u001b[0mverbose\u001b[0m\u001b[0;34m=\u001b[0m\u001b[0mverbose\u001b[0m\u001b[0;34m,\u001b[0m \u001b[0mpre_dispatch\u001b[0m\u001b[0;34m=\u001b[0m\u001b[0mpre_dispatch\u001b[0m\u001b[0;34m)\u001b[0m\u001b[0;34m\u001b[0m\u001b[0;34m\u001b[0m\u001b[0m\n\u001b[0;32m--> 266\u001b[0;31m     results = parallel(\n\u001b[0m\u001b[1;32m    267\u001b[0m         delayed(_fit_and_score)(\n\u001b[1;32m    268\u001b[0m             \u001b[0mclone\u001b[0m\u001b[0;34m(\u001b[0m\u001b[0mestimator\u001b[0m\u001b[0;34m)\u001b[0m\u001b[0;34m,\u001b[0m\u001b[0;34m\u001b[0m\u001b[0;34m\u001b[0m\u001b[0m\n",
            "\u001b[0;32m/usr/local/lib/python3.10/dist-packages/sklearn/utils/parallel.py\u001b[0m in \u001b[0;36m__call__\u001b[0;34m(self, iterable)\u001b[0m\n\u001b[1;32m     61\u001b[0m             \u001b[0;32mfor\u001b[0m \u001b[0mdelayed_func\u001b[0m\u001b[0;34m,\u001b[0m \u001b[0margs\u001b[0m\u001b[0;34m,\u001b[0m \u001b[0mkwargs\u001b[0m \u001b[0;32min\u001b[0m \u001b[0miterable\u001b[0m\u001b[0;34m\u001b[0m\u001b[0;34m\u001b[0m\u001b[0m\n\u001b[1;32m     62\u001b[0m         )\n\u001b[0;32m---> 63\u001b[0;31m         \u001b[0;32mreturn\u001b[0m \u001b[0msuper\u001b[0m\u001b[0;34m(\u001b[0m\u001b[0;34m)\u001b[0m\u001b[0;34m.\u001b[0m\u001b[0m__call__\u001b[0m\u001b[0;34m(\u001b[0m\u001b[0miterable_with_config\u001b[0m\u001b[0;34m)\u001b[0m\u001b[0;34m\u001b[0m\u001b[0;34m\u001b[0m\u001b[0m\n\u001b[0m\u001b[1;32m     64\u001b[0m \u001b[0;34m\u001b[0m\u001b[0m\n\u001b[1;32m     65\u001b[0m \u001b[0;34m\u001b[0m\u001b[0m\n",
            "\u001b[0;32m/usr/local/lib/python3.10/dist-packages/joblib/parallel.py\u001b[0m in \u001b[0;36m__call__\u001b[0;34m(self, iterable)\u001b[0m\n\u001b[1;32m   1083\u001b[0m             \u001b[0;31m# remaining jobs.\u001b[0m\u001b[0;34m\u001b[0m\u001b[0;34m\u001b[0m\u001b[0m\n\u001b[1;32m   1084\u001b[0m             \u001b[0mself\u001b[0m\u001b[0;34m.\u001b[0m\u001b[0m_iterating\u001b[0m \u001b[0;34m=\u001b[0m \u001b[0;32mFalse\u001b[0m\u001b[0;34m\u001b[0m\u001b[0;34m\u001b[0m\u001b[0m\n\u001b[0;32m-> 1085\u001b[0;31m             \u001b[0;32mif\u001b[0m \u001b[0mself\u001b[0m\u001b[0;34m.\u001b[0m\u001b[0mdispatch_one_batch\u001b[0m\u001b[0;34m(\u001b[0m\u001b[0miterator\u001b[0m\u001b[0;34m)\u001b[0m\u001b[0;34m:\u001b[0m\u001b[0;34m\u001b[0m\u001b[0;34m\u001b[0m\u001b[0m\n\u001b[0m\u001b[1;32m   1086\u001b[0m                 \u001b[0mself\u001b[0m\u001b[0;34m.\u001b[0m\u001b[0m_iterating\u001b[0m \u001b[0;34m=\u001b[0m \u001b[0mself\u001b[0m\u001b[0;34m.\u001b[0m\u001b[0m_original_iterator\u001b[0m \u001b[0;32mis\u001b[0m \u001b[0;32mnot\u001b[0m \u001b[0;32mNone\u001b[0m\u001b[0;34m\u001b[0m\u001b[0;34m\u001b[0m\u001b[0m\n\u001b[1;32m   1087\u001b[0m \u001b[0;34m\u001b[0m\u001b[0m\n",
            "\u001b[0;32m/usr/local/lib/python3.10/dist-packages/joblib/parallel.py\u001b[0m in \u001b[0;36mdispatch_one_batch\u001b[0;34m(self, iterator)\u001b[0m\n\u001b[1;32m    871\u001b[0m                 \u001b[0mbig_batch_size\u001b[0m \u001b[0;34m=\u001b[0m \u001b[0mbatch_size\u001b[0m \u001b[0;34m*\u001b[0m \u001b[0mn_jobs\u001b[0m\u001b[0;34m\u001b[0m\u001b[0;34m\u001b[0m\u001b[0m\n\u001b[1;32m    872\u001b[0m \u001b[0;34m\u001b[0m\u001b[0m\n\u001b[0;32m--> 873\u001b[0;31m                 \u001b[0mislice\u001b[0m \u001b[0;34m=\u001b[0m \u001b[0mlist\u001b[0m\u001b[0;34m(\u001b[0m\u001b[0mitertools\u001b[0m\u001b[0;34m.\u001b[0m\u001b[0mislice\u001b[0m\u001b[0;34m(\u001b[0m\u001b[0miterator\u001b[0m\u001b[0;34m,\u001b[0m \u001b[0mbig_batch_size\u001b[0m\u001b[0;34m)\u001b[0m\u001b[0;34m)\u001b[0m\u001b[0;34m\u001b[0m\u001b[0;34m\u001b[0m\u001b[0m\n\u001b[0m\u001b[1;32m    874\u001b[0m                 \u001b[0;32mif\u001b[0m \u001b[0mlen\u001b[0m\u001b[0;34m(\u001b[0m\u001b[0mislice\u001b[0m\u001b[0;34m)\u001b[0m \u001b[0;34m==\u001b[0m \u001b[0;36m0\u001b[0m\u001b[0;34m:\u001b[0m\u001b[0;34m\u001b[0m\u001b[0;34m\u001b[0m\u001b[0m\n\u001b[1;32m    875\u001b[0m                     \u001b[0;32mreturn\u001b[0m \u001b[0;32mFalse\u001b[0m\u001b[0;34m\u001b[0m\u001b[0;34m\u001b[0m\u001b[0m\n",
            "\u001b[0;32m/usr/local/lib/python3.10/dist-packages/sklearn/utils/parallel.py\u001b[0m in \u001b[0;36m<genexpr>\u001b[0;34m(.0)\u001b[0m\n\u001b[1;32m     57\u001b[0m         \u001b[0;31m# pre_dispatch and n_jobs.\u001b[0m\u001b[0;34m\u001b[0m\u001b[0;34m\u001b[0m\u001b[0m\n\u001b[1;32m     58\u001b[0m         \u001b[0mconfig\u001b[0m \u001b[0;34m=\u001b[0m \u001b[0mget_config\u001b[0m\u001b[0;34m(\u001b[0m\u001b[0;34m)\u001b[0m\u001b[0;34m\u001b[0m\u001b[0;34m\u001b[0m\u001b[0m\n\u001b[0;32m---> 59\u001b[0;31m         iterable_with_config = (\n\u001b[0m\u001b[1;32m     60\u001b[0m             \u001b[0;34m(\u001b[0m\u001b[0m_with_config\u001b[0m\u001b[0;34m(\u001b[0m\u001b[0mdelayed_func\u001b[0m\u001b[0;34m,\u001b[0m \u001b[0mconfig\u001b[0m\u001b[0;34m)\u001b[0m\u001b[0;34m,\u001b[0m \u001b[0margs\u001b[0m\u001b[0;34m,\u001b[0m \u001b[0mkwargs\u001b[0m\u001b[0;34m)\u001b[0m\u001b[0;34m\u001b[0m\u001b[0;34m\u001b[0m\u001b[0m\n\u001b[1;32m     61\u001b[0m             \u001b[0;32mfor\u001b[0m \u001b[0mdelayed_func\u001b[0m\u001b[0;34m,\u001b[0m \u001b[0margs\u001b[0m\u001b[0;34m,\u001b[0m \u001b[0mkwargs\u001b[0m \u001b[0;32min\u001b[0m \u001b[0miterable\u001b[0m\u001b[0;34m\u001b[0m\u001b[0;34m\u001b[0m\u001b[0m\n",
            "\u001b[0;32m/usr/local/lib/python3.10/dist-packages/sklearn/model_selection/_validation.py\u001b[0m in \u001b[0;36m<genexpr>\u001b[0;34m(.0)\u001b[0m\n\u001b[1;32m    266\u001b[0m     results = parallel(\n\u001b[1;32m    267\u001b[0m         delayed(_fit_and_score)(\n\u001b[0;32m--> 268\u001b[0;31m             \u001b[0mclone\u001b[0m\u001b[0;34m(\u001b[0m\u001b[0mestimator\u001b[0m\u001b[0;34m)\u001b[0m\u001b[0;34m,\u001b[0m\u001b[0;34m\u001b[0m\u001b[0;34m\u001b[0m\u001b[0m\n\u001b[0m\u001b[1;32m    269\u001b[0m             \u001b[0mX\u001b[0m\u001b[0;34m,\u001b[0m\u001b[0;34m\u001b[0m\u001b[0;34m\u001b[0m\u001b[0m\n\u001b[1;32m    270\u001b[0m             \u001b[0my\u001b[0m\u001b[0;34m,\u001b[0m\u001b[0;34m\u001b[0m\u001b[0;34m\u001b[0m\u001b[0m\n",
            "\u001b[0;32m/usr/local/lib/python3.10/dist-packages/sklearn/base.py\u001b[0m in \u001b[0;36mclone\u001b[0;34m(estimator, safe)\u001b[0m\n\u001b[1;32m     77\u001b[0m                 )\n\u001b[1;32m     78\u001b[0m             \u001b[0;32melse\u001b[0m\u001b[0;34m:\u001b[0m\u001b[0;34m\u001b[0m\u001b[0;34m\u001b[0m\u001b[0m\n\u001b[0;32m---> 79\u001b[0;31m                 raise TypeError(\n\u001b[0m\u001b[1;32m     80\u001b[0m                     \u001b[0;34m\"Cannot clone object '%s' (type %s): \"\u001b[0m\u001b[0;34m\u001b[0m\u001b[0;34m\u001b[0m\u001b[0m\n\u001b[1;32m     81\u001b[0m                     \u001b[0;34m\"it does not seem to be a scikit-learn \"\u001b[0m\u001b[0;34m\u001b[0m\u001b[0;34m\u001b[0m\u001b[0m\n",
            "\u001b[0;31mTypeError\u001b[0m: Cannot clone object '<__main__.Rgenerator object at 0x7fb204a9d240>' (type <class '__main__.Rgenerator'>): it does not seem to be a scikit-learn estimator as it does not implement a 'get_params' method."
          ]
        }
      ]
    },
    {
      "cell_type": "code",
      "source": [],
      "metadata": {
        "id": "NzZuJNSbm9zT"
      },
      "execution_count": null,
      "outputs": []
    },
    {
      "cell_type": "code",
      "source": [
        "import numpy as np\n",
        "from sklearn.model_selection import cross_val_score\n",
        "from sklearn.datasets import make_regression\n",
        "import matplotlib.pyplot as plt"
      ],
      "metadata": {
        "id": "8qBUC621Xyz8"
      },
      "execution_count": null,
      "outputs": []
    },
    {
      "cell_type": "code",
      "source": [
        "x,y=make_regression(n_samples=100,n_features=1,n_informative=1,n_targets=1,noise=20,random_state=13)"
      ],
      "metadata": {
        "id": "VwjHMOmEYOll"
      },
      "execution_count": null,
      "outputs": []
    },
    {
      "cell_type": "code",
      "source": [
        "plt.scatter(x,y)"
      ],
      "metadata": {
        "colab": {
          "base_uri": "https://localhost:8080/",
          "height": 447
        },
        "id": "6oDY8XLcbD_w",
        "outputId": "f1514cd8-c033-4469-e03c-8046bfbb65a9"
      },
      "execution_count": null,
      "outputs": [
        {
          "output_type": "execute_result",
          "data": {
            "text/plain": [
              "<matplotlib.collections.PathCollection at 0x7f5dc8ae9570>"
            ]
          },
          "metadata": {},
          "execution_count": 11
        },
        {
          "output_type": "display_data",
          "data": {
            "text/plain": [
              "<Figure size 640x480 with 1 Axes>"
            ],
            "image/png": "[encoded data removed]"
          },
          "metadata": {}
        }
      ]
    },
    {
      "cell_type": "code",
      "source": [
        "from sklearn.model_selection import train_test_split\n",
        "x_train,x_test,y_train,y_test=train_test_split(x,y,test_size=0.2,random_state=2)"
      ],
      "metadata": {
        "id": "74mHSc0SbaFI"
      },
      "execution_count": null,
      "outputs": []
    },
    {
      "cell_type": "code",
      "source": [
        "from sklearn.linear_model import LinearRegression"
      ],
      "metadata": {
        "id": "IEvLceN6oMyD"
      },
      "execution_count": null,
      "outputs": []
    },
    {
      "cell_type": "code",
      "source": [
        "lr=LinearRegression()"
      ],
      "metadata": {
        "id": "xdLwdCIbpGDl"
      },
      "execution_count": null,
      "outputs": []
    },
    {
      "cell_type": "code",
      "source": [
        "lr.fit(x_train,y_train)\n",
        "print(lr.coef_)\n",
        "print(lr.intercept_)"
      ],
      "metadata": {
        "colab": {
          "base_uri": "https://localhost:8080/"
        },
        "id": "lJn0McFnr4eN",
        "outputId": "527e463b-6d5b-4c14-f6fb-dbc7eea78454"
      },
      "execution_count": null,
      "outputs": [
        {
          "output_type": "stream",
          "name": "stdout",
          "text": [
            "[28.12597332]\n",
            "-2.2710144261783825\n"
          ]
        }
      ]
    },
    {
      "cell_type": "code",
      "source": [
        "y_pred=lr.predict(x_test)\n",
        "from sklearn.metrics import r2_score\n",
        "r2_score(y_test,y_pred)"
      ],
      "metadata": {
        "colab": {
          "base_uri": "https://localhost:8080/"
        },
        "id": "D0lbZnuIxLLW",
        "outputId": "539ac5a1-c30f-4055-f848-f0f6d7d599aa"
      },
      "execution_count": null,
      "outputs": [
        {
          "output_type": "execute_result",
          "data": {
            "text/plain": [
              "0.6345158782661012"
            ]
          },
          "metadata": {},
          "execution_count": 16
        }
      ]
    },
    {
      "cell_type": "code",
      "source": [
        "s1=Rgenerator(0.001,100)"
      ],
      "metadata": {
        "id": "qAcHVnrByhYH"
      },
      "execution_count": null,
      "outputs": []
    },
    {
      "cell_type": "code",
      "source": [
        "s1.fit(x_train,y_train)"
      ],
      "metadata": {
        "colab": {
          "base_uri": "https://localhost:8080/"
        },
        "id": "nLC-lD_oykag",
        "outputId": "3b763eef-a668-4eaf-8c82-8024974dfe22"
      },
      "execution_count": null,
      "outputs": [
        {
          "output_type": "stream",
          "name": "stdout",
          "text": [
            "-2.2710114421583003 28.125963902006667\n"
          ]
        }
      ]
    },
    {
      "cell_type": "code",
      "source": [
        "y_pred=s1.predict(x_test)\n",
        "from sklearn.metrics import r2_score\n",
        "r2_score(y_test,y_pred)"
      ],
      "metadata": {
        "colab": {
          "base_uri": "https://localhost:8080/"
        },
        "id": "1xH2WSCwypMR",
        "outputId": "62b52023-dfa0-4f05-f469-37671a635c29"
      },
      "execution_count": null,
      "outputs": [
        {
          "output_type": "execute_result",
          "data": {
            "text/plain": [
              "0.634515918483815"
            ]
          },
          "metadata": {},
          "execution_count": 21
        }
      ]
    },
    {
      "cell_type": "code",
      "source": [
        "#A minimum loss square function signified by l=summation(yi-yline)^2 is convex function as it has only one global minima, a non-convex function on the other hand can have a lot\n",
        "#of minimas, Loss function is the difference between actual value and predicted value in an attempt to achieve more accuracy, "
      ],
      "metadata": {
        "id": "6xg6BTxyOdhU"
      },
      "execution_count": null,
      "outputs": []
    },
    {
      "cell_type": "code",
      "source": [
        "#bnew=bold-learning_rate*slope at b =bold\n",
        "#slope(dL/db)=-2*summation(yi-m*xi-b), mnew=mold-learning_rate*slope at m=mold slope(dL/dm)=-2*summation(y-m*x-b)*xi in batch gradient descentfor computing each new update for new b and m values\n",
        "# we have to go through entire dataset. Batch gradient descent is an optimization algorithm commonly used in machine learning to minimize the cost or loss function of a model. It is iterative algorithm \n",
        "#that updates the model's parameters by computing the gradient of cost function with respect to the parameters using entire training dataset. Batch gradient can be slow in case of large dataset,\n",
        "#stochastic gradient descent on the other hand can be used to update m and b values using just one row, making it faster, in case of mini batch gradient descent if batch size is set to 30 then\n",
        "#m and b are updated only after doing analysis over 30 rows.....so if we have a table of 300 rows then batch gradient descent involves 1 analysis and 1 update after going through 300 rows, in stochastic gradient descent\n",
        "#update is performed after every row, in case of mini batch size the update is done after a set batch size followed by other mini batch size updates, stochastic gradient descent will have as many updates as the number of\n",
        "#rows available, Batch gradient is used mostly for convex functions that too when the number of rows available is not that huge"
      ],
      "metadata": {
        "id": "qhz9yik7eTkQ"
      },
      "execution_count": null,
      "outputs": []
    },
    {
      "cell_type": "code",
      "source": [
        "#In the earlier problem, we were considering just 2 rows, 1 the input row and other other output say cgpa and lpa....these will have 1 coefficient at the max and the mathematical\n",
        "#equation representing input and output equation will be like y=mx+c, but if number of inputs are increased then number of coefficients are also increased for instance y=m1+m2.x2+m3.x3+m4.x4+m5.x5\n",
        "#In case of n-dimensional dataset, we will have n+1 coefficients, n-dimensional dataset means those having n  inputs or n independent variables affecting output "
      ],
      "metadata": {
        "id": "GZPMCXBvHohs"
      },
      "execution_count": null,
      "outputs": []
    },
    {
      "cell_type": "code",
      "source": [
        "#handling multiple coefficients\n",
        "from sklearn.datasets import load_diabetes\n",
        "import numpy as np\n",
        "from sklearn.linear_model import LinearRegression\n",
        "from sklearn.metrics import r2_score\n",
        "from sklearn.model_selection import train_test_split"
      ],
      "metadata": {
        "id": "Ksz5-2Q6EZde"
      },
      "execution_count": null,
      "outputs": []
    },
    {
      "cell_type": "code",
      "source": [
        "x,y=load_diabetes(return_X_y=True)"
      ],
      "metadata": {
        "id": "yPY8g3-oFM8-"
      },
      "execution_count": null,
      "outputs": []
    },
    {
      "cell_type": "code",
      "source": [
        "print(x.shape)\n",
        "print(y.shape)\n",
        "#input has 10 columns and out has 442 rows"
      ],
      "metadata": {
        "colab": {
          "base_uri": "https://localhost:8080/"
        },
        "id": "4-i4YTR4Fact",
        "outputId": "6994a596-87fc-43fb-ed1d-a264516aa55a"
      },
      "execution_count": null,
      "outputs": [
        {
          "output_type": "stream",
          "name": "stdout",
          "text": [
            "(442, 10)\n",
            "(442,)\n"
          ]
        }
      ]
    },
    {
      "cell_type": "code",
      "source": [
        "x_train,x_test,y_train,y_test=train_test_split(x,y,test_size=0.2,random_state=2)"
      ],
      "metadata": {
        "id": "y3SOKkP-IEhA"
      },
      "execution_count": null,
      "outputs": []
    },
    {
      "cell_type": "code",
      "source": [
        "reg=LinearRegression()\n",
        "reg.fit(x_train,y_train)"
      ],
      "metadata": {
        "colab": {
          "base_uri": "https://localhost:8080/",
          "height": 74
        },
        "id": "PISiWG-6IZkm",
        "outputId": "f9d4377e-8915-48d0-929c-61bacbcadf11"
      },
      "execution_count": null,
      "outputs": [
        {
          "output_type": "execute_result",
          "data": {
            "text/plain": [
              "LinearRegression()"
            ],
            "text/html": [
              "<style>#sk-container-id-2 {color: black;background-color: white;}#sk-container-id-2 pre{padding: 0;}#sk-container-id-2 div.sk-toggleable {background-color: white;}#sk-container-id-2 label.sk-toggleable__label {cursor: pointer;display: block;width: 100%;margin-bottom: 0;padding: 0.3em;box-sizing: border-box;text-align: center;}#sk-container-id-2 label.sk-toggleable__label-arrow:before {content: \"▸\";float: left;margin-right: 0.25em;color: #696969;}#sk-container-id-2 label.sk-toggleable__label-arrow:hover:before {color: black;}#sk-container-id-2 div.sk-estimator:hover label.sk-toggleable__label-arrow:before {color: black;}#sk-container-id-2 div.sk-toggleable__content {max-height: 0;max-width: 0;overflow: hidden;text-align: left;background-color: #f0f8ff;}#sk-container-id-2 div.sk-toggleable__content pre {margin: 0.2em;color: black;border-radius: 0.25em;background-color: #f0f8ff;}#sk-container-id-2 input.sk-toggleable__control:checked~div.sk-toggleable__content {max-height: 200px;max-width: 100%;overflow: auto;}#sk-container-id-2 input.sk-toggleable__control:checked~label.sk-toggleable__label-arrow:before {content: \"▾\";}#sk-container-id-2 div.sk-estimator input.sk-toggleable__control:checked~label.sk-toggleable__label {background-color: #d4ebff;}#sk-container-id-2 div.sk-label input.sk-toggleable__control:checked~label.sk-toggleable__label {background-color: #d4ebff;}#sk-container-id-2 input.sk-hidden--visually {border: 0;clip: rect(1px 1px 1px 1px);clip: rect(1px, 1px, 1px, 1px);height: 1px;margin: -1px;overflow: hidden;padding: 0;position: absolute;width: 1px;}#sk-container-id-2 div.sk-estimator {font-family: monospace;background-color: #f0f8ff;border: 1px dotted black;border-radius: 0.25em;box-sizing: border-box;margin-bottom: 0.5em;}#sk-container-id-2 div.sk-estimator:hover {background-color: #d4ebff;}#sk-container-id-2 div.sk-parallel-item::after {content: \"\";width: 100%;border-bottom: 1px solid gray;flex-grow: 1;}#sk-container-id-2 div.sk-label:hover label.sk-toggleable__label {background-color: #d4ebff;}#sk-container-id-2 div.sk-serial::before {content: \"\";position: absolute;border-left: 1px solid gray;box-sizing: border-box;top: 0;bottom: 0;left: 50%;z-index: 0;}#sk-container-id-2 div.sk-serial {display: flex;flex-direction: column;align-items: center;background-color: white;padding-right: 0.2em;padding-left: 0.2em;position: relative;}#sk-container-id-2 div.sk-item {position: relative;z-index: 1;}#sk-container-id-2 div.sk-parallel {display: flex;align-items: stretch;justify-content: center;background-color: white;position: relative;}#sk-container-id-2 div.sk-item::before, #sk-container-id-2 div.sk-parallel-item::before {content: \"\";position: absolute;border-left: 1px solid gray;box-sizing: border-box;top: 0;bottom: 0;left: 50%;z-index: -1;}#sk-container-id-2 div.sk-parallel-item {display: flex;flex-direction: column;z-index: 1;position: relative;background-color: white;}#sk-container-id-2 div.sk-parallel-item:first-child::after {align-self: flex-end;width: 50%;}#sk-container-id-2 div.sk-parallel-item:last-child::after {align-self: flex-start;width: 50%;}#sk-container-id-2 div.sk-parallel-item:only-child::after {width: 0;}#sk-container-id-2 div.sk-dashed-wrapped {border: 1px dashed gray;margin: 0 0.4em 0.5em 0.4em;box-sizing: border-box;padding-bottom: 0.4em;background-color: white;}#sk-container-id-2 div.sk-label label {font-family: monospace;font-weight: bold;display: inline-block;line-height: 1.2em;}#sk-container-id-2 div.sk-label-container {text-align: center;}#sk-container-id-2 div.sk-container {/* jupyter's `normalize.less` sets `[hidden] { display: none; }` but bootstrap.min.css set `[hidden] { display: none !important; }` so we also need the `!important` here to be able to override the default hidden behavior on the sphinx rendered scikit-learn.org. See: https://github.com/scikit-learn/scikit-learn/issues/21755 */display: inline-block !important;position: relative;}#sk-container-id-2 div.sk-text-repr-fallback {display: none;}</style><div id=\"sk-container-id-2\" class=\"sk-top-container\"><div class=\"sk-text-repr-fallback\"><pre>LinearRegression()</pre><b>In a Jupyter environment, please rerun this cell to show the HTML representation or trust the notebook. <br />On GitHub, the HTML representation is unable to render, please try loading this page with nbviewer.org.</b></div><div class=\"sk-container\" hidden><div class=\"sk-item\"><div class=\"sk-estimator sk-toggleable\"><input class=\"sk-toggleable__control sk-hidden--visually\" id=\"sk-estimator-id-2\" type=\"checkbox\" checked><label for=\"sk-estimator-id-2\" class=\"sk-toggleable__label sk-toggleable__label-arrow\">LinearRegression</label><div class=\"sk-toggleable__content\"><pre>LinearRegression()</pre></div></div></div></div></div>"
            ]
          },
          "metadata": {},
          "execution_count": 12
        }
      ]
    },
    {
      "cell_type": "code",
      "source": [
        "print(reg.coef_)\n",
        "print(reg.intercept_)\n",
        "#as input columns are 10 so each column will have 1 coefficient each, hence we will have all those 10 coefficient shown below in a list"
      ],
      "metadata": {
        "colab": {
          "base_uri": "https://localhost:8080/"
        },
        "id": "W-p5sy2xMPVD",
        "outputId": "3a4a9a5a-5391-4527-f7fe-cd1854999029"
      },
      "execution_count": null,
      "outputs": [
        {
          "output_type": "stream",
          "name": "stdout",
          "text": [
            "[  -9.15865318 -205.45432163  516.69374454  340.61999905 -895.5520019\n",
            "  561.22067904  153.89310954  126.73139688  861.12700152   52.42112238]\n",
            "151.88331005254167\n"
          ]
        }
      ]
    },
    {
      "cell_type": "code",
      "source": [
        "y_pred=reg.predict(x_test)\n",
        "r2_score(y_test,y_pred)"
      ],
      "metadata": {
        "colab": {
          "base_uri": "https://localhost:8080/"
        },
        "id": "vkgXpfZ4Nbrh",
        "outputId": "0fcec97d-5c0f-491a-b6a7-b5bedc3e61db"
      },
      "execution_count": null,
      "outputs": [
        {
          "output_type": "execute_result",
          "data": {
            "text/plain": [
              "0.4399338661568968"
            ]
          },
          "metadata": {},
          "execution_count": 14
        }
      ]
    },
    {
      "cell_type": "code",
      "source": [
        "class gdregressor1:\n",
        "  def __init__(self,learning_rate=0.01,epoch=100):\n",
        "    self.learning_rate=learning_rate\n",
        "    self.epoch=epoch\n",
        "    self.coef_=None\n",
        "    self.intercept_=None\n",
        "  def fit(self,x_train,y_train):\n",
        "    self.intercept_=0\n",
        "    self.coef_=np.ones(x_train.shape[1])\n",
        "    for i in range(self.epoch):\n",
        "      y_hat=self.intercept_+np.dot(x_train,self.coef_)\n",
        "      intercept_der=-2*np.mean(y_train-y_hat)\n",
        "      self.intercept_=self.intercept_-(self.learning_rate*intercept_der)\n",
        "      coef_der=-2*np.dot((y_train-y_hat),x_train)/x_train.shape[0]\n",
        "      self.coef_=self.coef_-(self.learning_rate*coef_der)\n",
        "    print(self.intercept_,self.coef_)\n",
        "  def predict(self,x_test):\n",
        "    return np.dot(self.coef_,x_test)+self.intercept_\n",
        "  #In case of batch gradient descent you take a single update on your coefficients after going through entire data in each epoch, in case of stochastic gradient descent , in case of\n",
        "  #stochastic gradient descent, update of the coefficient happens at every row, hence we possibly converge to the minima earlier also as the entire data doesnot get loaded at once while updating\n",
        "  #, the hardware requirement is less\n"
      ],
      "metadata": {
        "id": "ikT_wcOSO6qR"
      },
      "execution_count": null,
      "outputs": []
    },
    {
      "cell_type": "code",
      "source": [
        "gdr=gdregressor1(epoch=1000,learning_rate=0.5)"
      ],
      "metadata": {
        "id": "M_RJRivIg9iG"
      },
      "execution_count": null,
      "outputs": []
    },
    {
      "cell_type": "code",
      "source": [
        "gdr.fit(x_train,y_train)"
      ],
      "metadata": {
        "colab": {
          "base_uri": "https://localhost:8080/"
        },
        "id": "RBQZseJ7hiWP",
        "outputId": "285b259a-f324-44ca-ca5e-37faab5075d5"
      },
      "execution_count": null,
      "outputs": [
        {
          "output_type": "stream",
          "name": "stdout",
          "text": [
            "150.46744509611483 [ 1.8185073   0.97792742  2.86819871  2.63829996  1.6514228   1.33631755\n",
            " -0.05747848  2.08464246  3.10986813  2.18632166]\n",
            "150.48030335296843 [ 2.6443041   1.16743591  5.03263979  4.31808847  2.43828072  1.96298164\n",
            " -1.45294387  3.56249879  5.2506248   3.50650045]\n",
            "150.4967712091051 [ 3.46114927  1.3511413   7.18349145  5.98621305  3.21435751  2.57893339\n",
            " -2.8372879   5.02556909  7.37622966  4.81446078]\n",
            "150.5130846311669 [ 4.26912619  1.52910809  9.32087016  7.64277118  3.97976544  3.18429086\n",
            " -4.21061415  6.47400032  9.48681324  6.11031462]\n",
            "150.5292451156878 [ 5.06831704  1.7013948  11.44488367  9.28785819  4.7346121   3.77916355\n",
            " -5.5730166   7.90792795 11.58250373  7.39416927]\n",
            "150.5452540522924 [ 5.8588033   1.86805941 13.55563881 10.92156856  5.47900407  4.3636599\n",
            " -6.92458843  9.32748626 13.66342819  8.66613111]\n",
            "150.56111281805101 [ 6.6406657   2.02915937 15.65324147 12.54399592  6.21304694  4.93788736\n",
            " -8.26542196 10.73280826 15.72971257  9.92630553]\n",
            "150.57682277759088 [ 7.41398422  2.18475162 17.73779661 14.15523312  6.93684529  5.50195235\n",
            " -9.59560873 12.12402579 17.78148166 11.17479702]\n",
            "150.59238528320824 [  8.17883814   2.33489256  19.8094083   15.75537217   7.65050276\n",
            "   6.05596032 -10.91523945  13.50126948  19.81885916  12.4117091 ]\n",
            "150.6078016749799 [  8.93530601   2.47963808  21.86817968  17.34450427   8.35412197\n",
            "   6.60001569 -12.22440405  14.86466876  21.84196767  13.63714438]\n",
            "150.62307328087346 [  9.68346566   2.61904358  23.91421299  18.92271984   9.04780461\n",
            "   7.13422192 -13.52319165  16.2143519   23.85092868  14.85120456]\n",
            "150.63820141685653 [ 10.42339424   2.75316392  25.9476096   20.49010849   9.73165141\n",
            "   7.6586815  -14.81169059  17.55044601  25.84586262  16.05399042]\n",
            "150.65318738700535 [ 11.15516818   2.88205347  27.96846998  22.04675906  10.40576216\n",
            "   8.17349595 -16.08998843  18.87307701  27.82688882  17.24560184]\n",
            "150.66803248361185 [ 11.87886324   3.00576612  29.97689374  23.5927596   11.07023568\n",
            "   8.67876582 -17.35817196  20.18236971  29.79412557  18.42613781]\n",
            "150.6827379872902 [ 12.59455445   3.12435525  31.97297962  25.1281974   11.72516992\n",
            "   9.17459075 -18.61632721  21.47844776  31.74769009  19.59569644]\n",
            "150.69730516708225 [ 13.30231622   3.23787374  33.95682548  26.65315897  12.37066186\n",
            "   9.66106941 -19.86453945  22.76143371  33.68769858  20.75437497]\n",
            "150.71173528056195 [ 14.00222224   3.34637402  35.92852835  28.16773007  13.00680759\n",
            "  10.13829956 -21.10289318  24.03144898  35.61426617  21.90226974]\n",
            "150.7260295739389 [ 14.69434555   3.44990802  37.88818443  29.67199572  13.6337023\n",
            "  10.60637801 -22.33147219  25.28861388  37.52750699  23.03947627]\n",
            "150.74018928216097 [ 15.37875853   3.54852718  39.83588904  31.16604018  14.25144029\n",
            "  11.0654007  -23.5503595   26.53304764  39.42753414  24.16608919]\n",
            "150.75421562901593 [ 16.05553291   3.6422825   41.77173672  32.64994699  14.86011496\n",
            "  11.51546263 -24.75963742  27.7648684   41.31445974  25.28220232]\n",
            "150.76810982723234 [ 16.72473974   3.73122448  43.69582116  34.12379894  15.45981884\n",
            "  11.95665792 -25.95938752  28.98419322  43.18839486  26.38790861]\n",
            "150.7818730785792 [ 17.38644947   3.8154032   45.60823525  35.58767811  16.05064358\n",
            "  12.38907981 -27.14969066  30.1911381   45.04944964  27.4833002 ]\n",
            "150.795506573965 [ 18.04073188   3.89486824  47.50907105  37.04166586  16.63267999\n",
            "  12.81282064 -28.330627    31.38581799  46.8977332   28.5684684 ]\n",
            "150.80901149353588 [ 18.68765613   3.96966874  49.39841984  38.48584283  17.206018\n",
            "  13.2279719  -29.50227597  32.56834679  48.7333537   29.6435037 ]\n",
            "150.82238900677257 [ 19.32729075   4.0398534   51.27637212  39.92028896  17.77074673\n",
            "  13.6346242  -30.66471631  33.73883735  50.55641834  30.70849581]\n",
            "150.8356402725868 [ 19.95970365   4.10547046  53.14301758  41.34508351  18.32695441\n",
            "  14.03286731 -31.81802608  34.89740151  52.36703336  31.76353359]\n",
            "150.8487664394168 [ 20.58496213   4.16656773  54.99844515  42.76030502  18.87472849\n",
            "  14.42279014 -32.96228264  36.0441501   54.16530406  32.80870515]\n",
            "150.86176864532172 [ 21.20313288   4.22319257  56.84274297  44.16603135  19.41415556\n",
            "  14.80448076 -34.09756267  37.17919292  55.9513348   33.8440978 ]\n",
            "150.87464801807536 [ 21.81428197   4.27539192  58.67599843  45.56233969  19.94532142\n",
            "  15.17802642 -35.22394217  38.30263877  57.72522902  34.86979805]\n",
            "150.88740567525917 [ 22.4184749    4.32321226  60.49829816  46.94930655  20.46831105\n",
            "  15.54351353 -36.34149649  39.41459549  59.48708923  35.88589167]\n",
            "150.90004272435408 [ 23.01577654   4.36669968  62.30972804  48.32700777  20.98320862\n",
            "  15.90102769 -37.45030031  40.51516991  61.23701703  36.89246365]\n",
            "150.91256026283176 [ 23.60625121   4.40589983  64.1103732   49.69551854  21.49009753\n",
            "  16.2506537  -38.55042764  41.60446789  62.97511312  37.88959821]\n",
            "150.9249593782451 [ 24.18996262   4.44085794  65.90031805  51.05491339  21.98906038\n",
            "  16.59247555 -39.64195186  42.68259434  64.70147729  38.87737885]\n",
            "150.93724114831753 [ 24.76697391   4.47161883  67.67964624  52.40526617  22.48017899\n",
            "  16.92657642 -40.72494568  43.7496532   66.41620847  39.85588828]\n",
            "150.949406641032 [ 25.33734766   4.49822691  69.44844072  53.74665013  22.96353441\n",
            "  17.25303873 -41.7994812   44.80574748  68.11940469  40.82520852]\n",
            "150.9614569147188 [ 25.90114586   4.52072616  71.20678372  55.07913786  23.43920692\n",
            "  17.57194411 -42.86562986  45.85097924  69.8111631   41.78542082]\n",
            "150.97339301814273 [ 26.45842996   4.53916019  72.95475674  56.40280132  23.90727606\n",
            "  17.8833734  -43.9234625   46.88544962  71.49158002  42.73660573]\n",
            "150.9852159905894 [ 27.00926084   4.55357219  74.6924406   57.71771184  24.36782061\n",
            "  18.18740669 -44.97304931  47.90925883  73.16075089  43.67884306]\n",
            "150.99692686195095 [ 27.55369884   4.56400496  76.4199154   59.02394012  24.82091859\n",
            "  18.48412333 -46.01445988  48.92250616  74.8187703   44.61221192]\n",
            "151.0085266528107 [ 28.09180374   4.5705009   78.13726057  60.32155627  25.2666473\n",
            "  18.77360187 -47.04776318  49.92529002  76.465732    45.53679072]\n",
            "151.02001637452736 [ 28.62363478   4.57310203  79.84455482  61.61062977  25.70508332\n",
            "  19.05592015 -48.07302758  50.91770791  78.10172893  46.45265717]\n",
            "151.03139702931816 [ 29.14925068   4.57184997  81.54187622  62.89122949  26.13630249\n",
            "  19.33115528 -49.09032085  51.89985645  79.72685317  47.35988827]\n",
            "151.04266961034145 [ 29.6687096    4.56678597  83.22930214  64.16342372  26.56037992\n",
            "  19.5993836  -50.09971017  52.87183135  81.341196    48.25856034]\n",
            "151.05383510177853 [ 30.1820692    4.5579509   84.90690928  65.42728013  26.97739005\n",
            "  19.86068076 -51.10126211  53.8337275   82.94484789  49.14874904]\n",
            "151.06489447891462 [ 30.68938659   4.54538525  86.57477369  66.68286584  27.38740657\n",
            "  20.11512168 -52.09504268  54.78563888  84.53789851  50.03052933]\n",
            "151.0758487082192 [ 31.19071839   4.52912914  88.23297077  67.93024733  27.79050251\n",
            "  20.36278056 -53.0811173   55.72765863  86.12043672  50.90397551]\n",
            "151.08669874742571 [ 31.68612069   4.5092223   89.88157524  69.16949056  28.1867502\n",
            "  20.60373091 -54.05955081  56.65987905  87.6925506   51.76916123]\n",
            "151.09744554561019 [ 32.17564908   4.48570414  91.52066121  70.40066088  28.57622126\n",
            "  20.83804553 -55.03040749  57.58239159  89.25432745  52.62615945]\n",
            "151.10809004326967 [ 32.65935863   4.45861367  93.15030214  71.62382307  28.95898667\n",
            "  21.06579654 -55.99375107  58.49528687  90.80585379  53.47504251]\n",
            "151.1186331723995 [ 33.13730393   4.42798955  94.77057083  72.83904138  29.33511671\n",
            "  21.28705536 -56.94964468  59.39865468  92.34721538  54.3158821 ]\n",
            "151.1290758565702 [ 33.60953907   4.39387008  96.38153949  74.04637946  29.704681\n",
            "  21.50189273 -57.89815094  60.292584    93.8784972   55.14874927]\n",
            "151.13941901100338 [ 34.07611765   4.35629323  97.9832797   75.24590043  30.06774852\n",
            "  21.71037875 -58.83933189  61.17716299  95.3997835   55.97371443]\n",
            "151.14966354264726 [ 34.53709276   4.31529659  99.5758624   76.43766687  30.42438756\n",
            "  21.9125828  -59.77324905  62.05247901  96.91115777  56.79084736]\n",
            "151.15981035025132 [ 34.99251705   4.27091742 101.15935794  77.6217408   30.7746658\n",
            "  22.10857363 -60.69996339  62.91861863  98.41270275  57.60021723]\n",
            "151.16986032444026 [ 35.44244267   4.22319264 102.73383607  78.7981837   31.11865025\n",
            "  22.29841935 -61.61953534  63.77566762  99.90450047  58.4018926 ]\n",
            "151.17981434778747 [ 35.88692129   4.17215882 104.29936592  79.96705652  31.45640729\n",
            "  22.48218738 -62.5320248   64.62371098 101.38663222  59.19594138]\n",
            "151.18967329488763 [ 36.32600412   4.11785219 105.85601604  81.1284197   31.78800269\n",
            "  22.65994453 -63.43749117  65.46283293 102.85917855  59.98243093]\n",
            "151.19943803242873 [ 36.75974192   4.06030867 107.40385438  82.28233312  32.11350157\n",
            "  22.83175697 -64.3359933   66.29311691 104.32221933  60.76142796]\n",
            "151.20910941926357 [ 37.18818496   3.99956381 108.94294832  83.42885617  32.43296845\n",
            "  22.99769021 -65.22758954  67.11464563 105.77583369  61.53299862]\n",
            "151.2186883064804 [ 37.61138308   3.93565286 110.47336464  84.56804771  32.74646722\n",
            "  23.15780918 -66.11233772  67.92750101 107.2201001   62.29720846]\n",
            "151.22817553747308 [ 38.02938565   3.86861075 111.99516958  85.6999661   33.05406118\n",
            "  23.31217816 -66.99029517  68.73176425 108.65509628  63.05412244]\n",
            "151.23757194801044 [ 38.44224161   3.79847206 113.50842877  86.82466919  33.35581301\n",
            "  23.46086081 -67.86151872  69.5275158  110.08089931  63.80380494]\n",
            "151.24687836630528 [ 38.84999943   3.72527108 115.0132073   87.94221431  33.65178482\n",
            "  23.60392021 -68.7260647   70.31483537 111.49758556  64.54631979]\n",
            "151.25609561308252 [ 39.25270718   3.64904176 116.50956971  89.05265833  33.9420381\n",
            "  23.74141881 -69.58398896  71.09380195 112.90523073  65.28173021]\n",
            "151.2652245016467 [ 39.65041244   3.56981775 117.99757996  90.1560576   34.22663377\n",
            "  23.87341848 -70.43534682  71.86449382 114.30390984  66.0100989 ]\n",
            "151.27426583794926 [ 40.04316241   3.48763238 119.47730148  91.25246799  34.50563218\n",
            "  23.9999805  -71.28019317  72.62698852 115.69369727  66.73148798]\n",
            "151.2832204206545 [ 40.43100384   3.40251869 120.94879715  92.34194488  34.77909308\n",
            "  24.12116555 -72.11858239  73.38136291 117.07466672  67.44595901]\n",
            "151.2920890412058 [ 40.81398304   3.3145094  122.41212932  93.42454319  35.04707567\n",
            "  24.23703373 -72.95056838  74.12769313 118.44689124  68.15357302]\n",
            "151.30087248389054 [ 41.19214593   3.22363692 123.86735979  94.50031734  35.30963859\n",
            "  24.34764458 -73.77620459  74.86605463 119.81044323  68.85439049]\n",
            "151.30957152590486 [ 41.565538     3.12993337 125.31454985  95.56932129  35.5668399\n",
            "  24.45305707 -74.59554398  75.59652218 121.16539448  69.54847136]\n",
            "151.31818693741752 [ 41.93420431   3.03343058 126.75376023  96.63160854  35.81873713\n",
            "  24.55332957 -75.40863907  76.31916987 122.51181609  70.23587503]\n",
            "151.32671948163357 [ 42.29818955   2.93416009 128.18505119  97.68723212  36.06538724\n",
            "  24.64851994 -76.2155419   77.03407109 123.84977858  70.91666038]\n",
            "151.335169914857 [ 42.65753796   2.83215311 129.60848243  98.7362446   36.30684666\n",
            "  24.73868545 -77.01630407  77.74129858 125.17935183  71.59088576]\n",
            "151.3435389865532 [ 43.01229342   2.72744061 131.02411317  99.7786981   36.54317128\n",
            "  24.82388284 -77.81097672  78.44092442 126.50060508  72.25860902]\n",
            "151.3518274394106 [ 43.36249937   2.62005325 132.4320021  100.81464429  36.77441646\n",
            "  24.90416828 -78.59961056  79.13302002 127.81360699  72.91988747]\n",
            "151.36003600940202 [ 43.7081989    2.51002139 133.83220743 101.8441344   37.00063702\n",
            "  24.97959744 -79.38225583  79.81765614 129.11842558  73.57477792]\n",
            "151.368165425845 [ 44.04943467   2.39737514 135.22478685 102.86721919  37.22188726\n",
            "  25.05022543 -80.15896235  80.49490291 130.41512831  74.22333667]\n",
            "151.37621641146228 [ 44.38624898   2.28214432 136.60979758 103.88394902  37.43822097\n",
            "  25.11610682 -80.92977951  81.16482979 131.70378201  74.86561953]\n",
            "151.384189682441 [ 44.71868373   2.16435847 137.98729634 104.89437378  37.64969142\n",
            "  25.17729569 -81.69475626  81.82750563 132.98445293  75.50168181]\n",
            "151.39208594849185 [ 45.04678044   2.04404685 139.35733936 105.89854296  37.85635137\n",
            "  25.23384557 -82.45394111  82.48299865 134.25720673  76.13157832]\n",
            "151.39990591290766 [ 45.37058027   1.92123845 140.71998239 106.89650561  38.05825307\n",
            "  25.28580948 -83.20738218  83.13137644 135.52210849  76.75536339]\n",
            "151.4076502726211 [ 45.69012398   1.79596202 142.07528072 107.88831034  38.25544827\n",
            "  25.33323994 -83.95512713  83.77270597 136.77922272  77.37309086]\n",
            "151.41531971826228 [ 46.00545199   1.668246   143.42328916 108.87400538  38.44798825\n",
            "  25.37618896 -84.69722324  84.4070536  138.02861337  77.98481411]\n",
            "151.42291493421558 [ 46.31660433   1.5381186  144.76406205 109.8536385   38.63592376\n",
            "  25.41470805 -85.43371736  85.0344851  139.27034379  78.59058601]\n",
            "151.43043659867612 [ 46.62362066   1.40560774 146.09765326 110.8272571   38.81930509\n",
            "  25.44884822 -86.16465594  85.65506562 140.50447681  79.190459  ]\n",
            "151.4378853837055 [ 46.92654032   1.27074111 147.42411622 111.79490814  38.99818204\n",
            "  25.47865999 -86.890085    86.26885972 141.73107469  79.78448503]\n",
            "151.4452619552873 [ 47.22540224   1.13354611 148.7435039  112.75663819  39.17260394\n",
            "  25.5041934  -87.6100502   86.87593137 142.95019912  80.37271559]\n",
            "151.45256697338192 [ 47.52024504   0.99404993 150.05586879 113.71249342  39.34261963\n",
            "  25.52549799 -88.32459678  87.47634396 144.16191128  80.95520172]\n",
            "151.45980109198098 [ 47.81110696   0.85227946 151.36126298 114.6625196   39.50827749\n",
            "  25.54262284 -89.03376957  88.0701603  145.36627178  81.531994  ]\n",
            "151.46696495916117 [ 48.09802592   0.70826136 152.65973808 115.60676209  39.66962545\n",
            "  25.55561655 -89.73761305  88.65744263 146.56334072  82.10314256]\n",
            "151.47405921713766 [ 48.38103946   0.56202206 153.95134529 116.5452659   39.82671096\n",
            "  25.56452724 -90.43617127  89.23825261 147.75317766  82.66869709]\n",
            "151.48108450231706 [ 48.66018481   0.41358772 155.23613534 117.47807561  39.97958103\n",
            "  25.56940259 -91.12948792  89.81265133 148.93584161  83.22870683]\n",
            "151.4880414453498 [ 48.93549885   0.26298425 156.51415856 118.40523544  40.12828219\n",
            "  25.57028978 -91.81760632  90.38069936 150.1113911   83.7832206 ]\n",
            "151.49493067118223 [ 4.92070181e+01  1.10237357e-01  1.57785465e+02  1.19326789e+02\n",
            "  4.02728606e+01  2.55672356e+01 -9.25005694e+01  9.09424567e+01\n",
            "  1.51279884e+02  8.43322868e+01]\n",
            "151.50175279910792 [ 4.94747789e+01 -4.46275321e-02  1.59050104e+02  1.20242780e+02\n",
            "  4.04133618e+01  2.55602863e+01 -9.31784197e+01  9.14979827e+01\n",
            "  1.52441378e+02  8.48759533e+01]\n",
            "151.50850844281888 [ 49.73881691  -0.20158521 160.30812404 121.15325213  40.5498311\n",
            "  25.54948771 -93.85119937  92.04733639 153.59593018  85.41426765]\n",
            "151.51519821045605 [ 49.99916785  -0.36061069 161.55957463 122.05824705  40.68231329\n",
            "  25.53488529 -94.51895029  92.59057605 154.74359667  85.94727698]\n",
            "151.52182270465946 [ 50.25586692  -0.52167925 162.80450364 122.95780754  40.81085269\n",
            "  25.51652397 -95.1817139   93.12775953 155.8844336   86.47502794]\n",
            "151.52838252261782 [ 50.50894904  -0.68476638 164.0429589  123.85197557  40.93549324\n",
            "  25.49444829 -95.83953129  93.65894413 157.01849645  86.99756681]\n",
            "151.53487825611782 [ 50.75844879  -0.84984779 165.27498779 124.74079278  41.05627844\n",
            "  25.46870233 -96.49244319  94.18418663 158.14584022  87.51493943]\n",
            "151.5413104915929 [ 51.00440046  -1.01689943 166.50063733 125.62430043  41.17325137\n",
            "  25.43932977 -97.14048999  94.70354327 159.26651941  88.02719125]\n",
            "151.5476798101715 [ 51.24683802  -1.18589747 167.71995412 126.50253944  41.28645471\n",
            "  25.40637384 -97.78371173  95.2170698  160.38058805  88.53436731]\n",
            "151.55398678772505 [ 51.48579514  -1.35681831 168.93298437 127.37555037  41.3959307\n",
            "  25.36987737 -98.42214808  95.72482145 161.4880997   89.03651226]\n",
            "151.56023199491545 [ 51.72130517  -1.52963855 170.1397739  128.24337344  41.5017212\n",
            "  25.32988276 -99.05583838  96.22685294 162.58910744  89.53367035]\n",
            "151.56641599724196 [ 51.95340117  -1.70433504 171.34036815 129.10604852  41.60386766\n",
            "  25.28643202 -99.68482164  96.72321851 163.68366388  90.02588541]\n",
            "151.57253935508797 [  52.18211588   -1.88088481  172.53481216  129.96361514   41.70241111\n",
            "   25.23956672 -100.30913652   97.21397189  164.77182116   90.51320093]\n",
            "151.57860262376713 [  52.40748177   -2.05926513  173.7231506   130.81611249   41.7973922\n",
            "   25.18932805 -100.92882134   97.6991663   165.853631     90.99565998]\n",
            "151.5846063535691 [  52.62953099   -2.23945348  174.90542776  131.66357944   41.88885119\n",
            "   25.13575678 -101.54391409   98.17885451  166.92914461   91.47330526]\n",
            "151.59055108980496 [  52.84829541   -2.42142754  176.08168756  132.50605449   41.97682794\n",
            "   25.0788933  -102.15445244   98.65308878  167.99841278   91.94617908]\n",
            "151.59643737285217 [  53.06380661   -2.60516521  177.25197355  133.34357586   42.06136194\n",
            "   25.01877761 -102.76047372   99.1219209   169.06148586   92.41432339]\n",
            "151.60226573819898 [  53.27609587   -2.79064458  178.4163289   134.1761814    42.14249228\n",
            "   24.95544929 -103.36201494   99.58540218  170.11841373   92.87777976]\n",
            "151.6080367164888 [  53.48519421   -2.97784397  179.57479642  135.00390867   42.22025768\n",
            "   24.88894756 -103.9591128   100.04358348  171.16924586   93.33658939]\n",
            "151.61375083356378 [  53.69113235   -3.16674188  180.72741858  135.82679489   42.29469649\n",
            "   24.81931126 -104.55180367  100.49651517  172.21403127   93.79079312]\n",
            "151.61940861050815 [  53.89394072   -3.35731703  181.87423746  136.64487695   42.36584667\n",
            "   24.74657882 -105.1401236   100.94424718  173.25281855   94.24043141]\n",
            "151.62501056369126 [  54.09364951   -3.54954832  183.01529482  137.45819147   42.43374582\n",
            "   24.67078834 -105.72410835  101.38682896  174.28565586   94.68554439]\n",
            "151.6305572048102 [  54.2902886    -3.74341487  184.15063203  138.2667747    42.4984312\n",
            "   24.59197751 -106.30379334  101.82430953  175.31259094   95.12617182]\n",
            "151.6360490409318 [  54.48388761   -3.93889598  185.28029014  139.07066263   42.55993968\n",
            "   24.51018366 -106.87921372  102.25673745  176.33367111   95.5623531 ]\n",
            "151.6414865745346 [  54.67447589   -4.13597114  186.40430985  139.86989092   42.61830777\n",
            "   24.42544377 -107.45040429  102.68416083  177.34894329   95.9941273 ]\n",
            "151.64687030355026 [  54.86208253   -4.33462004  187.52273151  140.66449492   42.67357164\n",
            "   24.33779444 -108.0173996   103.10662736  178.35845396   96.42153311]\n",
            "151.65220072140448 [  55.04673635   -4.53482258  188.63559513  141.45450969   42.7257671\n",
            "   24.24727192 -108.58023386  103.52418426  179.3622492    96.84460892]\n",
            "151.6574783170579 [  55.2284659    -4.73655881  189.7429404   142.23997      42.77492963\n",
            "   24.15391211 -109.13894099  103.93687835  180.36037471   97.26339275]\n",
            "151.66270357504618 [  55.40729948   -4.939809    190.84480667  143.0209103    42.82109433\n",
            "   24.05775054 -109.69355465  104.344756    181.35287575   97.67792229]\n",
            "151.66787697552016 [  55.58326513   -5.14455358  191.94123294  143.79736476   42.86429599\n",
            "   23.95882241 -110.24410816  104.74786317  182.33979721   98.0882349 ]\n",
            "151.6729989942853 [  55.75639064   -5.3507732   193.0322579   144.56936726   42.90456905\n",
            "   23.85716256 -110.7906346   105.14624538  183.32118357   98.49436761]\n",
            "151.6780701028411 [  55.92670353   -5.55844864  194.11791993  145.3369514    42.94194761\n",
            "   23.7528055  -111.33316671  105.53994776  184.29707894   98.89635711]\n",
            "151.6830907684197 [  56.09423109   -5.76756091  195.19825706  146.10015047   42.97646544\n",
            "   23.64578539 -111.87173701  105.929015    185.26752703   99.29423978]\n",
            "151.68806145402468 [  56.25900035   -5.97809118  196.27330701  146.8589975    43.00815598\n",
            "   23.53613607 -112.40637768  106.31349139  186.23257116   99.68805167]\n",
            "151.69298261846905 [  56.42103809   -6.19002078  197.3431072   147.61352524   43.03705236\n",
            "   23.42389102 -112.93712067  106.69342082  187.19225428  100.07782852]\n",
            "151.69785471641325 [  56.58037085   -6.40333124  198.40769472  148.36376613   43.06318736\n",
            "   23.30908343 -113.46399761  107.06884678  188.14661896  100.46360573]\n",
            "151.7026781984025 [  56.73702495   -6.61800427  199.46710635  149.10975237   43.08659345\n",
            "   23.19174611 -113.9870399   107.43981234  189.0957074   100.84541842]\n",
            "151.7074535109041 [  56.89102643   -6.83402171  200.52137858  149.85151588   43.1073028\n",
            "   23.0719116  -114.50627864  107.80636019  190.03956143  101.22330137]\n",
            "151.712181096344 [  57.04240112   -7.05136563  201.57054757  150.5890883    43.12534724\n",
            "   22.94961209 -115.02174467  108.16853264  190.97822251  101.59728906]\n",
            "151.7168613931437 [  57.19117462   -7.27001821  202.61464919  151.32250099   43.1407583\n",
            "   22.82487945 -115.53346856  108.52637158  191.91173174  101.96741568]\n",
            "151.72149483575595 [  57.33737226   -7.48996185  203.65371901  152.05178507   43.15356721\n",
            "   22.69774525 -116.04148062  108.87991856  192.84012985  102.33371511]\n",
            "151.72608185470094 [  57.48101919   -7.71117909  204.68779232  152.77697139   43.16380487\n",
            "   22.56824074 -116.5458109   109.22921471  193.76345723  102.69622091]\n",
            "151.7306228766016 [  57.62214028   -7.93365263  205.71690408  153.49809053   43.17150191\n",
            "   22.43639687 -117.0464892   109.57430079  194.68175391  103.05496636]\n",
            "151.73511832421892 [  57.76076022   -8.15736534  206.74108899  154.21517281   43.17668862\n",
            "   22.30224425 -117.54354504  109.91521721  195.59505957  103.40998446]\n",
            "151.73956861648668 [  57.89690344   -8.38230027  207.76038144  154.9282483    43.17939504\n",
            "   22.16581324 -118.03700771  110.25200398  196.50341352  103.76130789]\n",
            "151.7439741685462 [  58.03059417   -8.6084406   208.77481555  155.63734682   43.17965087\n",
            "   22.02713386 -118.52690622  110.58470076  197.40685478  104.10896906]\n",
            "151.74833539178042 [  58.1618564    -8.83576969  209.78442514  156.34249792   43.17748556\n",
            "   21.88623585 -119.01326936  110.91334684  198.30542196  104.45300009]\n",
            "151.75265269384784 [  58.29071391   -9.06427104  210.78924376  157.04373091   43.17292823\n",
            "   21.74314864 -119.49612565  111.23798114  199.1991534   104.7934328 ]\n",
            "151.75692647871628 [  58.41719028   -9.29392834  211.78930469  157.74107487   43.16600774\n",
            "   21.59790139 -119.97550338  111.55864225  200.08808705  105.13029875]\n",
            "151.76115714669606 [  58.54130884   -9.52472539  212.7846409   158.4345586    43.15675266\n",
            "   21.45052295 -120.45143058  111.87536839  200.97226057  105.46362922]\n",
            "151.76534509447316 [  58.66309274   -9.75664619  213.77528513  159.12421068   43.14519129\n",
            "   21.30104189 -120.92393506  112.18819741  201.85171125  105.79345519]\n",
            "151.7694907151418 [  58.78256489   -9.98967484  214.76126981  159.81005945   43.13135162\n",
            "   21.14948651 -121.39304437  112.49716683  202.72647609  106.1198074 ]\n",
            "151.77359439823707 [  58.89974803  -10.22379563  215.74262712  160.492133     43.1152614\n",
            "   20.9958848  -121.85878583  112.80231385  203.59659176  106.44271628]\n",
            "151.77765652976677 [  59.01466464  -10.458993    216.71938896  161.17045918   43.09694809\n",
            "   20.84026449 -122.32118653  113.10367528  204.46209459  106.76221203]\n",
            "151.78167749224357 [  59.12733705  -10.69525151  217.691587    161.84506562   43.07643888\n",
            "   20.68265304 -122.78027333  113.40128763  205.3230206   107.07832456]\n",
            "151.78565766471638 [  59.23778734  -10.93255589  218.65925259  162.5159797    43.05376068\n",
            "   20.52307762 -123.23607284  113.69518705  206.17940552  107.39108351]\n",
            "151.78959742280173 [  59.34603743  -11.170891    219.62241688  163.18322859   43.02894017\n",
            "   20.36156514 -123.68861147  113.98540937  207.03128473  107.70051828]\n",
            "151.79349713871468 [  59.45210899  -11.41024187  220.58111073  163.84683921   43.00200372\n",
            "   20.19814224 -124.13791538  114.27199009  207.87869334  108.006658  ]\n",
            "151.79735718129956 [  59.55602355  -11.65059363  221.53536473  164.50683827   42.97297747\n",
            "   20.03283528 -124.58401051  114.55496439  208.72166612  108.30953154]\n",
            "151.80117791606042 [  59.6578024   -11.89193159  222.48520926  165.16325224   42.9418873\n",
            "   19.86567038 -125.02692258  114.83436711  209.56023755  108.60916751]\n",
            "151.8049597051912 [  59.75746664  -12.13424119  223.43067442  165.81610738   42.90875883\n",
            "   19.69667338 -125.4666771   115.11023278  210.39444182  108.90559427]\n",
            "151.80870290760566 [  59.85503721  -12.37750799  224.37179006  166.46542973   42.87361741\n",
            "   19.52586987 -125.90329934  115.38259562  211.22431281  109.19883995]\n",
            "151.81240787896684 [  59.95053482  -12.62171772  225.30858579  167.11124509   42.83648817\n",
            "   19.35328518 -126.33681437  115.65148951  212.04988411  109.48893241]\n",
            "151.8160749717166 [  60.04398001  -12.86685622  226.24109098  167.75357907   42.79739597\n",
            "   19.17894439 -126.76724704  115.91694805  212.87118901  109.77589927]\n",
            "151.8197045351046 [  60.13539313  -13.11290947  227.16933476  168.39245706   42.75636542\n",
            "   19.00287233 -127.19462198  116.17900451  213.68826051  110.05976789]\n",
            "151.82329691521716 [  60.22479435  -13.3598636   228.093346    169.02790422   42.7134209\n",
            "   18.82509357 -127.61896362  116.43769186  214.50113133  110.34056543]\n",
            "151.8268524550058 [  60.31220364  -13.60770484  229.01315336  169.65994551   42.66858654\n",
            "   18.64563245 -128.04029617  116.69304277  215.30983391  110.61831876]\n",
            "151.83037149431556 [  60.3976408   -13.8564196   229.92878524  170.28860568   42.62188624\n",
            "   18.46451304 -128.45864364  116.94508961  216.11440039  110.89305455]\n",
            "151.83385436991313 [  60.48112546  -14.10599437  230.84026983  170.91390928   42.57334364\n",
            "   18.28175919 -128.87402984  117.19386443  216.91486265  111.16479923]\n",
            "151.83730141551447 [  60.56267703  -14.3564158   231.74763506  171.53588064   42.52298217\n",
            "   18.09739451 -129.28647836  117.43939903  217.71125228  111.43357897]\n",
            "151.84071296181253 [  60.64231479  -14.60767066  232.65090865  172.15454389   42.47082501\n",
            "   17.91144236 -129.6960126   117.68172487  218.50360059  111.69941974]\n",
            "151.84408933650445 [  60.72005782  -14.85974585  233.55011808  172.76992297   42.41689511\n",
            "   17.72392588 -130.10265575  117.92087314  219.29193864  111.96234727]\n",
            "151.84743086431865 [  60.79592502  -15.11262838  234.44529063  173.3820416    42.36121521\n",
            "   17.53486795 -130.50643082  118.15687476  220.07629719  112.22238705]\n",
            "151.85073786704163 [  60.86993514  -15.36630542  235.33645332  173.99092332   42.30380781\n",
            "   17.34429124 -130.9073606   118.38976034  220.85670676  112.47956437]\n",
            "151.85401066354453 [  60.94210673  -15.62076421  236.22363298  174.59659147   42.24469517\n",
            "   17.15221819 -131.3054677   118.61956022  221.6331976   112.73390429]\n",
            "151.85724956980945 [  61.0124582   -15.87599217  237.1068562   175.19906918   42.18389936\n",
            "   16.95867101 -131.70077454  118.84630446  222.40579968  112.98543162]\n",
            "151.86045489895557 [  61.08100777  -16.1319768   237.98614936  175.79837939   42.1214422\n",
            "   16.76367169 -132.09330334  119.07002283  223.17454272  113.234171  ]\n",
            "151.86362696126497 [  61.1477735   -16.38870573  238.86153862  176.39454488   42.05734531\n",
            "   16.56724198 -132.48307612  119.29074484  223.93945618  113.48014682]\n",
            "151.8667660642083 [  61.21277328  -16.64616673  239.73304993  176.98758819   41.99163008\n",
            "   16.36940343 -132.87011473  119.50849974  224.70056928  113.72338325]\n",
            "151.86987251247004 [  61.27602485  -16.90434765  240.60070902  177.57753172   41.92431771\n",
            "   16.17017736 -133.25444083  119.72331647  225.45791096  113.96390428]\n",
            "151.87294660797383 [  61.33754577  -17.16323649  241.46454143  178.16439764   41.85542916\n",
            "   15.96958487 -133.6360759   119.93522375  226.21150994  114.20173365]\n",
            "151.87598864990727 [  61.39735346  -17.42282136  242.32457247  178.74820797   41.78498519\n",
            "   15.76764686 -134.01504121  120.14425001  226.96139465  114.43689493]\n",
            "151.87899893474676 [  61.45546517  -17.68309046  243.18082726  179.32898452   41.71300635\n",
            "   15.56438402 -134.39135788  120.35042341  227.70759332  114.66941144]\n",
            "151.88197775628183 [  61.51189798  -17.94403214  244.03333069  179.90674895   41.639513\n",
            "   15.3598168  -134.76504684  120.55377188  228.45013389  114.89930633]\n",
            "151.88492540563945 [  61.56666883  -18.20563484  244.88210747  180.48152269   41.56452527\n",
            "   15.15396546 -135.13612883  120.75432305  229.1890441   115.12660253]\n",
            "151.88784217130814 [  61.6197945   -18.46788711  245.72718211  181.05332705   41.48806311\n",
            "   14.94685007 -135.50462442  120.95210434  229.92435141  115.35132278]\n",
            "151.8907283391618 [  61.67129161  -18.73077762  246.56857891  181.62218313   41.41014625\n",
            "   14.73849047 -135.87055402  121.1471429   230.65608308  115.57348959]\n",
            "151.8935841924832 [  61.72117665  -18.99429515  247.40632197  182.18811184   41.33079424\n",
            "   14.52890631 -136.23393785  121.3394656   231.38426611  115.79312531]\n",
            "151.89641001198748 [  61.76946594  -19.25842859  248.2404352   182.75113396   41.25002641\n",
            "   14.31811703 -136.59479596  121.52909912  232.10892727  116.01025207]\n",
            "151.89920607584534 [  61.81617564  -19.52316693  249.07094231  183.31127006   41.16786193\n",
            "   14.10614189 -136.95314822  121.71606984  232.83009311  116.22489181]\n",
            "151.90197265970596 [  61.86132178  -19.78849926  249.89786684  183.86854055   41.08431973\n",
            "   13.89299992 -137.30901435  121.90040393  233.54778992  116.43706629]\n",
            "151.9047100367198 [  61.90492025  -20.05441481  250.7212321   184.42296568   40.99941859\n",
            "   13.67871    -137.6624139   122.0821273   234.26204381  116.64679705]\n",
            "151.90741847756118 [  61.94698678  -20.32090286  251.54106125  184.97456553   40.91317708\n",
            "   13.46329077 -138.01336623  122.26126563  234.97288062  116.85410546]\n",
            "151.91009825045063 [  61.98753695  -20.58795285  252.35737723  185.52335999   40.82561359\n",
            "   13.2467607  -138.36189057  122.43784436  235.68032599  117.05901271]\n",
            "151.91274962117706 [  62.02658621  -20.85555429  253.17020281  186.06936883   40.73674632\n",
            "   13.02913809 -138.70800596  122.6118887   236.38440533  117.26153978]\n",
            "151.91537285311966 [  62.06414987  -21.1236968   253.97956058  186.61261161   40.64659328\n",
            "   12.81044102 -139.05173128  122.78342361  237.08514384  117.4617075 ]\n",
            "151.91796820726975 [  62.1002431   -21.3923701   254.78547295  187.15310775   40.55517231\n",
            "   12.59068739 -139.39308528  122.95247385  237.7825665   117.65953647]\n",
            "151.92053594225231 [  62.13488091  -21.66156401  255.58796212  187.69087652   40.46250106\n",
            "   12.36989493 -139.73208651  123.11906393  238.47669806  117.85504715]\n",
            "151.9230763143473 [  62.1680782   -21.93126846  256.38705014  188.22593702   40.36859701\n",
            "   12.14808117 -140.06875338  123.28321813  239.16756307  118.0482598 ]\n",
            "151.92558957751092 [  62.19984971  -22.20147345  257.18275888  188.75830817   40.27347745\n",
            "   11.92526348 -140.40310415  123.44496051  239.85518586  118.2391945 ]\n",
            "151.92807598339655 [  62.23021007  -22.47216912  257.97511002  189.28800877   40.1771595\n",
            "   11.70145904 -140.73515692  123.60431493  240.53959057  118.42787118]\n",
            "151.9305357813755 [  62.25917376  -22.74334566  258.76412508  189.81505745   40.07966011\n",
            "   11.47668483 -141.06492963  123.76130498  241.22080111  118.61430956]\n",
            "151.9329692185578 [  62.28675511  -23.01499339  259.54982538  190.33947269   39.98099606\n",
            "   11.2509577  -141.39244008  123.91595408  241.89884119  118.7985292 ]\n",
            "151.93537653981232 [  62.31296837  -23.28710272  260.3322321   190.86127279   39.88118394\n",
            "   11.02429429 -141.71770591  124.06828542  242.57373431  118.9805495 ]\n",
            "151.93775798778734 [  62.3378276   -23.55966414  261.11136624  191.38047595   39.78024018\n",
            "   10.79671107 -142.04074462  124.21832195  243.24550379  119.16038967]\n",
            "151.9401138029304 [  62.36134676  -23.83266824  261.88724862  191.89710018   39.67818107\n",
            "   10.56822435 -142.36157354  124.36608645  243.91417273  119.33806877]\n",
            "151.94244422350815 [  62.3835397   -24.1061057   262.6598999   192.41116336   39.57502269\n",
            "   10.33885028 -142.68020988  124.51160146  244.57976402  119.51360569]\n",
            "151.94474948562623 [  62.4044201   -24.3799673   263.42934058  192.92268321   39.47078098\n",
            "   10.10860482 -142.99667069  124.65488931  245.24230039  119.68701913]\n",
            "151.9470298232486 [  62.42400156  -24.65424391  264.19559099  193.43167732   39.36547171\n",
            "    9.87750378 -143.31097288  124.79597214  245.90180433  119.85832765]\n",
            "151.94928546821703 [  62.44229751  -24.92892648  264.95867129  193.93816312   39.2591105\n",
            "    9.64556279 -143.62313321  124.93487187  246.55829818  120.02754964]\n",
            "151.95151665027012 [  62.45932129  -25.20400605  265.71860149  194.4421579    39.15171279\n",
            "    9.41279732 -143.93316831  125.07161023  247.21180406  120.19470335]\n",
            "151.9537235970624 [  62.4750861   -25.47947376  266.47540143  194.94367883   39.04329387\n",
            "    9.17922271 -144.24109466  125.20620875  247.8623439   120.35980682]\n",
            "151.95590653418316 [  62.48960503  -25.75532083  267.2290908   195.4427429    38.93386889\n",
            "    8.94485408 -144.5469286   125.33868874  248.50993945  120.52287798]\n",
            "151.958065685175 [  62.50289105  -26.03153856  267.97968913  195.939367     38.82345282\n",
            "    8.70970645 -144.85068635  125.46907134  249.15461228  120.68393458]\n",
            "151.96020127155242 [  62.51495699  -26.30811834  268.7272158   196.43356785   38.71206049\n",
            "    8.47379466 -145.15238396  125.59737747  249.79638377  120.84299422]\n",
            "151.96231351282012 [  62.52581559  -26.58505166  269.47169002  196.92536206   38.59970657\n",
            "    8.23713337 -145.45203738  125.72362786  250.4352751   121.00007434]\n",
            "151.96440262649105 [  62.53547946  -26.86233007  270.21313085  197.41476607   38.48640558\n",
            "    7.99973713 -145.7496624   125.84784307  251.07130728  121.15519223]\n",
            "151.96646882810452 [  62.5439611   -27.13994523  270.95155721  197.90179623   38.3721719\n",
            "    7.76162031 -146.04527469  125.97004345  251.70450116  121.30836504]\n",
            "151.96851233124403 [  62.55127287  -27.41788885  271.68698786  198.38646871   38.25701975\n",
            "    7.52279712 -146.33888978  126.09024915  252.33487737  121.45960975]\n",
            "151.9705333475548 [  62.55742705  -27.69615275  272.41944142  198.86879959   38.1409632\n",
            "    7.28328166 -146.63052307  126.20848017  252.96245641  121.60894321]\n",
            "151.97253208676142 [  62.5624358   -27.97472882  273.14893635  199.34880479   38.0240162\n",
            "    7.04308784 -146.92018984  126.32475629  253.58725856  121.7563821 ]\n",
            "151.9745087566851 [  62.56631114  -28.25360903  273.87549096  199.8265001    37.90619252\n",
            "    6.80222945 -147.20790523  126.43909712  254.20930395  121.90194299]\n",
            "151.97646356326098 [  62.56906502  -28.53278544  274.59912343  200.30190121   37.78750581\n",
            "    6.56072011 -147.49368426  126.55152209  254.82861255  122.04564226]\n",
            "151.97839671055496 [  62.57070925  -28.81225017  275.3198518   200.77502364   37.66796958\n",
            "    6.31857333 -147.77754182  126.66205044  255.44520412  122.18749617]\n",
            "151.9803084007808 [  62.57125555  -29.09199543  276.03769394  201.24588282   37.54759718\n",
            "    6.07580243 -148.05949267  126.77070125  256.0590983   122.32752085]\n",
            "151.98219883431676 [  62.57071552  -29.37201352  276.75266759  201.71449404   37.42640185\n",
            "    5.83242064 -148.33955146  126.8774934   256.67031451  122.46573227]\n",
            "151.98406820972212 [  62.56910065  -29.65229679  277.46479037  202.18087246   37.30439667\n",
            "    5.58844101 -148.61773269  126.98244561  257.27887205  122.60214626]\n",
            "151.9859167237537 [  62.56642234  -29.93283769  278.17407973  202.64503312   37.18159458\n",
            "    5.34387648 -148.89405078  127.08557643  257.88479003  122.73677852]\n",
            "151.98774457138208 [  62.56269188  -30.21362872  278.88055301  203.10699095   37.05800842\n",
            "    5.09873982 -149.16851998  127.18690422  258.4880874   122.86964461]\n",
            "151.98955194580782 [  62.55792044  -30.49466249  279.58422739  203.56676074   36.93365085\n",
            "    4.8530437  -149.44115447  127.28644717  259.08878295  123.00075995]\n",
            "151.9913390384773 [  62.55211911  -30.77593166  280.28511992  204.02435717   36.80853443\n",
            "    4.60680064 -149.71196826  127.38422333  259.68689531  123.13013984]\n",
            "151.9931060390987 [  62.54529886  -31.05742896  280.98324752  204.4797948    36.68267158\n",
            "    4.360023   -149.98097529  127.48025056  260.28244296  123.25779942]\n",
            "151.99485313565765 [  62.53747057  -31.33914721  281.67862699  204.93308807   36.55607459\n",
            "    4.11272306 -150.24818936  127.57454654  260.8754442   123.38375372]\n",
            "151.9965805144328 [  62.52864501  -31.62107929  282.37127496  205.38425131   36.42875561\n",
            "    3.86491292 -150.51362414  127.66712881  261.4659172   123.50801764]\n",
            "151.99828836001117 [  62.51883287  -31.90321816  283.06120798  205.83329873   36.30072669\n",
            "    3.61660458 -150.77729321  127.75801475  262.05387995  123.63060592]\n",
            "151.99997685530354 [  62.50804472  -32.18555683  283.74844242  206.28024441   36.17199972\n",
            "    3.36780991 -151.03921002  127.84722155  262.63935031  123.7515332 ]\n",
            "152.00164618155952 [  62.49629103  -32.46808842  284.43299455  206.72510234   36.04258649\n",
            "    3.11854063 -151.29938793  127.93476627  263.22234597  123.870814  ]\n",
            "152.0032965183826 [  62.4835822   -32.75080608  285.1148805   207.16788639   35.91249866\n",
            "    2.86880835 -151.55784016  128.02066579  263.80288449  123.98846268]\n",
            "152.00492804374497 [  62.46992852  -33.03370306  285.7941163   207.6086103    35.78174776\n",
            "    2.61862456 -151.81457984  128.10493684  264.38098325  124.10449349]\n",
            "152.00654093400223 [  62.45534016  -33.31677264  286.47071782  208.04728772   35.65034521\n",
            "    2.36800062 -152.06961998  128.18759601  264.95665951  124.21892056]\n",
            "152.0081353639081 [  62.43982724  -33.60000821  287.14470081  208.48393219   35.51830231\n",
            "    2.11694777 -152.32297348  128.2686597   265.52993037  124.33175791]\n",
            "152.00971150662886 [  62.42339976  -33.88340321  287.81608093  208.91855712   35.38563022\n",
            "    1.86547711 -152.57465313  128.3481442   266.10081279  124.4430194 ]\n",
            "152.01126953375754 [  62.40606763  -34.16695113  288.48487368  209.35117584   35.25234\n",
            "    1.61359965 -152.82467163  128.42606561  266.66932358  124.5527188 ]\n",
            "152.01280961532836 [  62.38784068  -34.45064555  289.15109445  209.78180155   35.11844259\n",
            "    1.36132627 -153.07304156  128.5024399   267.23547942  124.66086975]\n",
            "152.01433191983068 [  62.36872863  -34.73448011  289.81475852  210.21044735   34.98394882\n",
            "    1.10866771 -153.3197754   128.5772829   267.79929682  124.76748577]\n",
            "152.0158366142229 [  62.34874112  -35.0184485   290.47588104  210.63712625   34.84886939\n",
            "    0.85563462 -153.56488552  128.65061026  268.36079219  124.87258027]\n",
            "152.01732386394647 [  62.32788771  -35.30254449  291.13447705  211.06185113   34.7132149\n",
            "    0.60223753 -153.80838418  128.72243752  268.91998177  124.97616652]\n",
            "152.0187938329394 [  62.30617787  -35.58676192  291.79056146  211.48463478   34.57699584\n",
            "    0.34848685 -154.05028356  128.79278005  269.47688167  125.07825771]\n",
            "152.02024668365 [ 6.22836210e+01 -3.58710947e+01  2.92444149e+02  2.11905490e+02\n",
            "  3.44402226e+01  9.43928644e-02 -1.54290596e+02  1.28861653e+02\n",
            "  2.70031508e+02  1.25178867e+02]\n",
            "152.0216825770502 [ 6.22602263e+01 -3.61555367e+01  2.93095255e+02  2.12324429e+02\n",
            "  3.43029054e+01 -1.60034229e-01 -1.54529333e+02  1.28929072e+02\n",
            "  2.70583876e+02  1.25278007e+02]\n",
            "152.02310167264898 [  62.23600302  -36.44008201  293.7438926   212.74146472   34.16505435\n",
            "   -0.41478436 -154.76650617  128.99505095  271.13400239  125.37569084]\n",
            "152.0245041285056 [  62.21096032  -36.72472469  294.39007752  213.15660931   34.02667959\n",
            "   -0.66984757 -155.00212808  129.05960553  271.68190199  125.47193117]\n",
            "152.0258901012426 [  62.18510719  -37.00945889  295.03382372  213.56987509   33.88779103\n",
            "   -0.925214   -155.23621004  129.12275016  272.22759046  125.56674059]\n",
            "152.02725974605883 [  62.1584526   -37.29427879  295.67514544  213.98127425   33.74839847\n",
            "   -1.18087392 -155.46876362  129.18449936  272.77108309  125.66013158]\n",
            "152.02861321674234 [  62.13100541  -37.57917865  296.31405681  214.39081888   33.60851166\n",
            "   -1.43681767 -155.69980031  129.24486756  273.31239508  125.75211654]\n",
            "152.02995066568312 [  62.1027744   -37.8641528   296.95057184  214.79852098   33.46814021\n",
            "   -1.69303573 -155.92933147  129.30386901  273.85154147  125.84270775]\n",
            "152.03127224388564 [  62.07376829  -38.1491956   297.58470444  215.20439242   33.32729364\n",
            "   -1.94951867 -156.1573684   129.36151784  274.3885372   125.93191737]\n",
            "152.03257810098148 [  62.04399568  -38.43430149  298.21646841  215.60844503   33.18598136\n",
            "   -2.20625718 -156.38392229  129.41782807  274.92339706  126.01975748]\n",
            "152.03386838524173 [  62.01346513  -38.71946497  298.84587746  216.0106905    33.04421269\n",
            "   -2.46324203 -156.60900423  129.47281357  275.45613573  126.10624003]\n",
            "152.03514324358915 [  61.9821851   -39.00468057  299.47294517  216.41114045   32.90199684\n",
            "   -2.7204641  -156.83262524  129.52648806  275.98676777  126.19137689]\n",
            "152.0364028216105 [  61.95016398  -39.28994291  300.09768503  216.80980641   32.75934293\n",
            "   -2.97791439 -157.05479623  129.57886518  276.51530759  126.27517981]\n",
            "152.0376472635685 [  61.91741006  -39.57524665  300.72011042  217.20669979   32.61625996\n",
            "   -3.23558397 -157.27552802  129.6299584   277.04176951  126.35766044]\n",
            "152.0388767124139 [  61.8839316   -39.86058649  301.34023462  217.60183194   32.47275686\n",
            "   -3.49346403 -157.49483136  129.67978109  277.56616771  126.43883033]\n",
            "152.04009130979728 [  61.84973673  -40.14595722  301.95807081  217.99521412   32.32884244\n",
            "   -3.75154586 -157.71271688  129.72834647  278.08851626  126.51870094]\n",
            "152.0412911960807 [  61.81483354  -40.43135365  302.57363206  218.38685747   32.18452545\n",
            "   -4.00982083 -157.92919514  129.77566766  278.60882912  126.59728361]\n",
            "152.0424765103495 [  61.77923002  -40.71677067  303.18693136  218.77677307   32.03981449\n",
            "   -4.26828041 -158.14427663  129.82175765  279.12712011  126.67458959]\n",
            "152.04364739042379 [  61.74293413  -41.00220321  303.79798158  219.1649719    31.89471812\n",
            "   -4.52691619 -158.35797171  129.8666293   279.64340295  126.75063005]\n",
            "152.0448039728698 [  61.70595369  -41.28764626  304.40679549  219.55146486   31.74924478\n",
            "   -4.78571983 -158.57029069  129.91029537  280.15769124  126.82541604]\n",
            "152.04594639301126 [  61.66829651  -41.57309485  305.01338579  219.93626277   31.60340281\n",
            "   -5.04468309 -158.78124379  129.95276847  280.66999846  126.89895851]\n",
            "152.04707478494072 [  61.62997029  -41.85854407  305.61776504  220.31937633   31.45720049\n",
            "   -5.30379782 -158.99084113  129.99406111  281.180338    126.97126834]\n",
            "152.04818928153045 [  61.59098266  -42.14398907  306.21994576  220.7008162    31.31064597\n",
            "   -5.56305597 -159.19909275  130.03418569  281.6887231   127.0423563 ]\n",
            "152.04929001444376 [  61.55134121  -42.42942504  306.81994031  221.08059293   31.16374735\n",
            "   -5.82244957 -159.40600862  130.07315448  282.19516692  127.11223307]\n",
            "152.0503771141456 [  61.51105342  -42.71484722  307.41776102  221.45871699   31.01651262\n",
            "   -6.08197076 -159.61159862  130.11097964  282.6996825   127.18090923]\n",
            "152.05145070991364 [  61.47012672  -43.00025091  308.01342007  221.83519877   30.86894967\n",
            "   -6.34161174 -159.81587255  130.14767322  283.20228278  127.24839527]\n",
            "152.0525109298489 [  61.42856847  -43.28563144  308.60692959  222.21004858   30.72106634\n",
            "   -6.60136483 -160.01884012  130.18324714  283.70298056  127.3147016 ]\n",
            "152.05355790088637 [  61.38638597  -43.57098422  309.1983016   222.58327665   30.57287034\n",
            "   -6.8612224  -160.22051097  130.21771323  284.20178857  127.37983853]\n",
            "152.05459174880562 [  61.34358643  -43.85630468  309.78754802  222.95489311   30.42436934\n",
            "   -7.12117696 -160.42089467  130.25108319  284.69871941  127.44381628]\n",
            "152.05561259824108 [  61.30017701  -44.14158831  310.3746807   223.32490805   30.27557089\n",
            "   -7.38122105 -160.62000068  130.28336863  285.19378559  127.50664499]\n",
            "152.0566205726926 [  61.25616479  -44.42683065  310.95971138  223.69333145   30.12648246\n",
            "   -7.64134732 -160.81783842  130.31458104  285.68699951  127.5683347 ]\n",
            "152.05761579453548 [  61.21155681  -44.71202729  311.54265173  224.0601732    29.97711147\n",
            "   -7.90154852 -161.0144172   130.34473179  286.17837346  127.62889538]\n",
            "152.05859838503088 [  61.16636002  -44.99717386  312.12351332  224.42544316   29.82746522\n",
            "   -8.16181746 -161.20974628  130.37383217  286.66791963  127.68833689]\n",
            "152.05956846433563 [  61.1205813   -45.28226603  312.70230764  224.78915107   29.67755095\n",
            "   -8.42214704 -161.40383482  130.40189335  287.15565012  127.74666903]\n",
            "152.06052615151236 [  61.0742275   -45.56729953  313.27904609  225.1513066    29.5273758\n",
            "   -8.68253024 -161.59669192  130.42892638  287.64157691  127.80390149]\n",
            "152.0614715645394 [  61.02730536  -45.85227013  313.85373997  225.51191937   29.37694686\n",
            "   -8.94296012 -161.7883266   130.45494223  288.1257119   127.86004389]\n",
            "152.0624048203205 [  60.9798216   -46.13717365  314.42640053  225.87099889   29.22627111\n",
            "   -9.20342984 -161.97874781  130.47995175  288.60806687  127.91510577]\n",
            "152.06332603469457 [  60.93178285  -46.42200595  314.9970389   226.22855462   29.07535548\n",
            "   -9.4639326  -162.16796443  130.5039657   289.08865351  127.96909659]\n",
            "152.06423532244534 [  60.88319569  -46.70676293  315.56566614  226.58459595   28.9242068\n",
            "   -9.72446172 -162.35598525  130.52699474  289.56748344  128.0220257 ]\n",
            "152.0651327973108 [  60.83406664  -46.99144055  316.13229324  226.93913216   28.77283183\n",
            "   -9.98501058 -162.542819    130.54904941  290.04456813  128.07390241]\n",
            "152.06601857199277 [  60.78440214  -47.27603479  316.69693108  227.29217251   28.62123727\n",
            "  -10.24557262 -162.72847435  130.57014017  290.519919    128.12473592]\n",
            "152.06689275816618 [  60.7342086   -47.56054169  317.25959049  227.64372614   28.46942972\n",
            "  -10.50614139 -162.91295987  130.59027738  290.99354735  128.17453536]\n",
            "152.06775546648836 [  60.68349234  -47.84495734  317.8202822   227.99380215   28.31741573\n",
            "  -10.76671049 -163.09628409  130.60947129  291.46546441  128.22330978]\n",
            "152.06860680660827 [  60.63225965  -48.12927785  318.37901686  228.34240956   28.16520175\n",
            "  -11.02727361 -163.27845544  130.62773207  291.93568128  128.27106815]\n",
            "152.06944688717562 [  60.58051673  -48.41349939  318.93580504  228.68955731   28.01279417\n",
            "  -11.2878245  -163.45948232  130.64506977  292.40420901  128.31781937]\n",
            "152.07027581584978 [  60.52826975  -48.69761816  319.49065724  229.03525429   27.86019932\n",
            "  -11.54835701 -163.63937302  130.66149437  292.87105852  128.36357226]\n",
            "152.0710936993089 [  60.47552482  -48.98163042  320.04358387  229.37950931   27.70742343\n",
            "  -11.80886502 -163.81813579  130.67701575  293.33624067  128.40833555]\n",
            "152.0719006432587 [  60.42228796  -49.26553244  320.59459529  229.72233111   27.5544727\n",
            "  -12.06934253 -163.9957788   130.69164369  293.79976622  128.45211792]\n",
            "152.0726967524412 [  60.36856517  -49.54932056  321.14370174  230.06372836   27.40135321\n",
            "  -12.32978357 -164.17231016  130.70538787  294.26164582  128.49492795]\n",
            "152.07348213064355 [  60.31436238  -49.83299115  321.69091342  230.40370967   27.24807102\n",
            "  -12.59018228 -164.34773792  130.7182579   294.72189007  128.53677416]\n",
            "152.07425688070657 [  60.25968547  -50.11654062  322.23624044  230.74228359   27.09463208\n",
            "  -12.85053283 -164.52207004  130.73026328  295.18050946  128.57766499]\n",
            "152.07502110453333 [  60.20454025  -50.3999654   322.77969283  231.07945858   26.9410423\n",
            "  -13.11082949 -164.69531444  130.74141344  295.63751439  128.61760882]\n",
            "152.07577490309757 [  60.1489325   -50.68326201  323.32128056  231.41524306   26.7873075\n",
            "  -13.37106658 -164.86747896  130.7517177   296.09291519  128.65661394]\n",
            "152.07651837645224 [  60.09286792  -50.96642695  323.86101352  231.74964537   26.63343346\n",
            "  -13.6312385  -165.03857138  130.76118531  296.54672208  128.69468858]\n",
            "152.0772516237377 [  60.03635217  -51.24945679  324.39890152  232.0826738    26.47942587\n",
            "  -13.89133971 -165.20859943  130.76982541  296.99894523  128.73184089]\n",
            "152.07797474318997 [  59.97939086  -51.53234814  324.93495431  232.41433655   26.32529036\n",
            "  -14.15136474 -165.37757076  130.77764707  297.44959469  128.76807897]\n",
            "152.078687832149 [  59.92198954  -51.81509763  325.46918156  232.74464179   26.1710325\n",
            "  -14.41130819 -165.54549297  130.78465928  297.89868045  128.80341081]\n",
            "152.07939098706663 [  59.8641537   -52.09770195  326.00159286  233.0735976    26.0166578\n",
            "  -14.67116472 -165.71237359  130.79087093  298.34621242  128.83784438]\n",
            "152.08008430351475 [  59.80588881  -52.38015781  326.53219776  233.40121201   25.8621717\n",
            "  -14.93092905 -165.87822008  130.79629083  298.79220041  128.87138755]\n",
            "152.08076787619314 [  59.74720025  -52.66246196  327.0610057   233.72749299   25.70757958\n",
            "  -15.19059598 -166.04303986  130.80092772  299.23665417  128.90404813]\n",
            "152.08144179893748 [  59.68809338  -52.94461119  327.58802609  234.05244845   25.55288674\n",
            "  -15.45016035 -166.20684028  130.80479022  299.67958335  128.93583386]\n",
            "152.08210616472704 [  59.62857349  -53.22660233  328.11326825  234.37608624   25.39809844\n",
            "  -15.70961708 -166.36962863  130.80788692  300.12099754  128.96675241]\n",
            "152.08276106569244 [  59.56864582  -53.50843223  328.63674142  234.69841412   25.24321988\n",
            "  -15.96896116 -166.53141214  130.81022629  300.56090623  128.99681141]\n",
            "152.0834065931234 [  59.50831557  -53.79009778  329.1584548   235.01943985   25.08825619\n",
            "  -16.22818762 -166.69219799  130.81181672  300.99931886  129.02601838]\n",
            "152.0840428374763 [  59.4475879   -54.07159593  329.67841751  235.33917107   24.93321243\n",
            "  -16.48729156 -166.85199328  130.81266656  301.43624477  129.05438081]\n",
            "152.08466988838163 [  59.3864679   -54.35292362  330.1966386   235.6576154    24.77809363\n",
            "  -16.74626815 -167.01080509  130.81278403  301.87169323  129.08190612]\n",
            "152.08528783465158 [  59.32496062  -54.63407788  330.71312705  235.97478039   24.62290472\n",
            "  -17.0051126  -167.1686404   130.8121773   302.30567343  129.10860165]\n",
            "152.0858967642874 [  59.26307107  -54.91505572  331.2278918   236.29067353   24.46765062\n",
            "  -17.2638202  -167.32550616  130.81085447  302.73819449  129.1344747 ]\n",
            "152.0864967644867 [  59.20080421  -55.19585421  331.7409417   236.60530226   24.31233614\n",
            "  -17.52238629 -167.48140927  130.80882353  303.16926546  129.15953249]\n",
            "152.08708792165066 [  59.13816494  -55.47647046  332.25228553  236.91867396   24.15696608\n",
            "  -17.78080627 -167.63635654  130.80609242  303.59889532  129.18378218]\n",
            "152.0876703213914 [  59.07515813  -55.7569016   332.76193204  237.23079595   24.00154516\n",
            "  -18.03907558 -167.79035477  130.80266901  304.02709295  129.20723087]\n",
            "152.088244048539 [  59.0117886   -56.03714479  333.26988989  237.5416755    23.84607805\n",
            "  -18.29718975 -167.94341067  130.79856107  304.45386718  129.2298856 ]\n",
            "152.08880918714848 [  58.94806113  -56.31719724  333.77616768  237.85131983   23.69056935\n",
            "  -18.55514434 -168.0955309   130.79377631  304.87922677  129.25175336]\n",
            "152.08936582050703 [  58.88398042  -56.59705617  334.28077396  238.15973608   23.53502362\n",
            "  -18.81293497 -168.2467221   130.78832238  305.3031804   129.27284106]\n",
            "152.08991403114075 [  58.81955118  -56.87671886  334.7837172   238.46693137   23.37944537\n",
            "  -19.07055733 -168.3969908   130.78220683  305.72573667  129.29315556]\n",
            "152.09045390082167 [  58.75477804  -57.15618259  335.28500582  238.77291274   23.22383904\n",
            "  -19.32800716 -168.54634354  130.77543715  306.14690414  129.31270366]\n",
            "152.09098551057443 [  58.6896656   -57.4354447   335.78464819  239.07768719   23.06820904\n",
            "  -19.58528023 -168.69478675  130.76802077  306.56669127  129.33149212]\n",
            "152.09150894068318 [  58.6242184   -57.71450253  336.28265261  239.38126167   22.91255969\n",
            "  -19.84237239 -168.84232685  130.75996503  306.98510646  129.3495276 ]\n",
            "152.09202427069818 [  58.55844095  -57.99335348  336.7790273   239.68364306   22.7568953\n",
            "  -20.09927954 -168.98897019  130.75127722  307.40215805  129.36681675]\n",
            "152.09253157944246 [  58.49233773  -58.27199497  337.27378046  239.98483822   22.6012201\n",
            "  -20.35599763 -169.13472307  130.74196454  307.81785431  129.38336612]\n",
            "152.09303094501843 [  58.42591314  -58.55042445  337.76692021  240.28485392   22.44553827\n",
            "  -20.61252266 -169.27959173  130.73203413  308.23220343  129.39918224]\n",
            "152.0935224448143 [  58.35917159  -58.8286394   338.2584546   240.5836969    22.28985396\n",
            "  -20.86885067 -169.4235824   130.72149307  308.64521356  129.41427157]\n",
            "152.09400615551067 [  58.29211739  -59.10663732  338.74839166  240.88137385   22.13417126\n",
            "  -21.12497778 -169.5667012   130.71034835  309.05689275  129.4286405 ]\n",
            "152.0944821530868 [  58.22475486  -59.38441575  339.23673931  241.17789142   21.97849418\n",
            "  -21.38090013 -169.70895425  130.69860693  309.46724901  129.44229539]\n",
            "152.09495051282707 [  58.15708825  -59.66197227  339.72350547  241.47325617   21.82282673\n",
            "  -21.63661394 -169.8503476   130.68627566  309.87629029  129.45524252]\n",
            "152.0954113093271 [  58.08912178  -59.93930447  340.20869796  241.76747466   21.66717285\n",
            "  -21.89211545 -169.99088726  130.67336136  310.28402444  129.46748815]\n",
            "152.0958646165002 [  58.02085963  -60.21640996  340.69232457  242.06055337   21.51153641\n",
            "  -22.14740096 -170.13057918  130.65987077  310.69045929  129.47903845]\n",
            "152.09631050758333 [  57.95230592  -60.49328642  341.17439302  242.35249873   21.35592127\n",
            "  -22.40246684 -170.26942927  130.64581055  311.09560257  129.48989956]\n",
            "152.09674905514336 [  57.88346478  -60.76993151  341.65491099  242.64331716   21.20033122\n",
            "  -22.65730947 -170.40744339  130.63118733  311.49946198  129.50007756]\n",
            "152.09718033108302 [  57.81434024  -61.04634295  342.13388608  242.93301498   21.04477\n",
            "  -22.9119253  -170.54462736  130.61600766  311.90204513  129.50957848]\n",
            "152.09760440664704 [  57.74493633  -61.32251847  342.61132588  243.22159849   20.88924132\n",
            "  -23.16631084 -170.68098695  130.60027801  312.3033596   129.5184083 ]\n",
            "152.0980213524279 [  57.67525704  -61.59845584  343.08723787  243.50907395   20.73374883\n",
            "  -23.42046261 -170.81652788  130.58400481  312.70341287  129.52657293]\n",
            "152.098431238372 [  57.60530631  -61.87415286  343.56162953  243.79544756   20.57829615\n",
            "  -23.67437722 -170.95125583  130.56719443  313.10221239  129.53407827]\n",
            "152.09883413378518 [  57.53508805  -62.14960732  344.03450826  244.08072548   20.42288684\n",
            "  -23.92805128 -171.08517643  130.54985317  313.49976554  129.54093013]\n",
            "152.0992301073388 [  57.46460613  -62.4248171   344.50588141  244.36491381   20.26752441\n",
            "  -24.18148148 -171.21829526  130.53198726  313.89607963  129.54713429]\n",
            "152.0996192270753 [  57.39386437  -62.69978004  344.97575628  244.64801863   20.11221235\n",
            "  -24.43466454 -171.35061788  130.51360289  314.29116195  129.55269647]\n",
            "152.10000156041403 [  57.32286658  -62.97449405  345.44414011  244.93004596   19.95695408\n",
            "  -24.68759723 -171.48214978  130.49470617  314.68501967  129.55762236]\n",
            "152.10037717415668 [  57.25161652  -63.24895706  345.91104012  245.21100178   19.801753\n",
            "  -24.94027637 -171.61289641  130.47530318  315.07765997  129.56191757]\n",
            "152.10074613449305 [  57.18011791  -63.52316701  346.37646345  245.49089202   19.64661245\n",
            "  -25.1926988  -171.74286319  130.45539991  315.46908991  129.5655877 ]\n",
            "152.1011085070066 [  57.10837444  -63.79712188  346.84041719  245.76972256   19.49153573\n",
            "  -25.44486142 -171.87205548  130.43500231  315.85931654  129.56863827]\n",
            "152.10146435667966 [  57.03638976  -64.07081965  347.30290841  246.04749926   19.33652612\n",
            "  -25.69676118 -172.00047862  130.41411627  316.24834684  129.57107477]\n",
            "152.10181374789926 [  56.96416749  -64.34425837  347.76394409  246.32422791   19.18158682\n",
            "  -25.94839506 -172.12813788  130.39274762  316.63618772  129.57290264]\n",
            "152.10215674446218 [  56.89171122  -64.61743607  348.22353119  246.59991428   19.02672101\n",
            "  -26.19976008 -172.25503851  130.37090214  317.02284604  129.57412727]\n",
            "152.10249340958055 [  56.81902449  -64.89035084  348.68167662  246.87456409   18.87193184\n",
            "  -26.45085331 -172.38118571  130.34858554  317.40832863  129.57475401]\n",
            "152.10282380588686 [  56.74611083  -65.16300075  349.13838723  247.14818301   18.7172224\n",
            "  -26.70167186 -172.50658464  130.3258035   317.79264224  129.57478816]\n",
            "152.10314799543946 [  56.6729737   -65.43538395  349.59366982  247.42077667   18.56259575\n",
            "  -26.95221288 -172.63124042  130.30256162  318.17579356  129.57423497]\n",
            "152.10346603972766 [  56.59961657  -65.70749857  350.04753117  247.69235068   18.40805491\n",
            "  -27.20247354 -172.75515813  130.27886546  318.55778926  129.57309966]\n",
            "152.10377799967677 [  56.52604285  -65.97934278  350.49997798  247.96291057   18.25360285\n",
            "  -27.4524511  -172.8783428   130.25472053  318.93863592  129.57138738]\n",
            "152.10408393565336 [  56.45225591  -66.25091477  350.95101692  248.23246187   18.09924252\n",
            "  -27.7021428  -173.00079944  130.23013226  319.31834009  129.56910327]\n",
            "152.10438390747026 [  56.37825912  -66.52221276  351.40065462  248.50101004   17.94497682\n",
            "  -27.95154595 -173.122533    130.20510607  319.69690827  129.56625241]\n",
            "152.10467797439156 [  56.30405578  -66.79323499  351.84889765  248.76856051   17.79080861\n",
            "  -28.20065791 -173.2435484   130.17964729  320.07434689  129.56283982]\n",
            "152.1049661951375 [  56.22964919  -67.06397971  352.29575254  249.03511869   17.63674072\n",
            "  -28.44947605 -173.36385053  130.15376121  320.45066234  129.5588705 ]\n",
            "152.10524862788958 [  56.15504259  -67.33444521  352.74122579  249.30068991   17.48277594\n",
            "  -28.69799779 -173.48344423  130.12745308  320.82586097  129.55434941]\n",
            "152.1055253302952 [  56.08023922  -67.60462979  353.18532383  249.56527949   17.32891702\n",
            "  -28.9462206  -173.6023343   130.10072809  321.19994907  129.54928144]\n",
            "152.10579635947266 [  56.00524226  -67.87453178  353.62805307  249.82889272   17.17516667\n",
            "  -29.19414196 -173.7205255   130.07359138  321.57293287  129.54367147]\n",
            "152.10606177201595 [  55.93005488  -68.14414954  354.06941985  250.09153481   17.02152757\n",
            "  -29.44175941 -173.83802258  130.04604803  321.94481856  129.53752432]\n",
            "152.1063216239993 [  55.8546802   -68.41348142  354.50943049  250.35321098   16.86800238\n",
            "  -29.68907052 -173.95483023  130.0181031   322.31561229  129.53084477]\n",
            "152.10657597098216 [  55.77912133  -68.68252583  354.94809126  250.61392639   16.71459368\n",
            "  -29.9360729  -174.07095309  129.98976157  322.68532015  129.52363757]\n",
            "152.10682486801366 [  55.70338134  -68.95128117  355.38540839  250.87368615   16.56130407\n",
            "  -30.18276417 -174.18639579  129.96102839  323.05394818  129.51590742]\n",
            "152.10706836963726 [  55.62746327  -69.21974588  355.82138805  251.13249536   16.40813608\n",
            "  -30.42914203 -174.30116291  129.93190845  323.42150239  129.50765899]\n",
            "152.10730652989537 [  55.55137013  -69.48791842  356.2560364   251.39035907   16.25509221\n",
            "  -30.67520416 -174.415259    129.9024066   323.78798872  129.49889689]\n",
            "152.10753940233386 [  55.47510491  -69.75579725  356.68935953  251.64728228   16.10217493\n",
            "  -30.92094834 -174.52868857  129.87252765  324.15341308  129.48962571]\n",
            "152.1077670400066 [  55.39867055  -70.02338089  357.1213635   251.90326998   15.94938668\n",
            "  -31.16637232 -174.64145609  129.84227633  324.51778133  129.47985   ]\n",
            "152.10798949547976 [  55.32206998  -70.29066784  357.55205432  252.15832712   15.79672986\n",
            "  -31.41147392 -174.75356602  129.81165738  324.88109927  129.46957427]\n",
            "152.10820682083644 [  55.24530611  -70.55765664  357.98143799  252.41245858   15.64420684\n",
            "  -31.65625099 -174.86502275  129.78067544  325.24337267  129.45880297]\n",
            "152.10841906768087 [  55.16838179  -70.82434585  358.40952043  252.66566926   15.49181996\n",
            "  -31.9007014  -174.97583066  129.74933513  325.60460726  129.44754055]\n",
            "152.1086262871428 [  55.09129988  -71.09073404  358.83630754  252.91796397   15.33957152\n",
            "  -32.14482308 -175.08599408  129.71764103  325.96480871  129.43579139]\n",
            "152.10882852988186 [  55.01406318  -71.35681981  359.26180518  253.16934753   15.1874638\n",
            "  -32.38861395 -175.19551732  129.68559766  326.32398266  129.42355985]\n",
            "152.1090258460917 [  54.93667448  -71.62260178  359.68601918  253.41982471   15.03549904\n",
            "  -32.632072   -175.30440466  129.65320951  326.68213468  129.41085026]\n",
            "152.1092182855042 [  54.85913653  -71.88807858  360.1089553   253.66940023   14.88367945\n",
            "  -32.87519524 -175.41266032  129.62048101  327.03927034  129.39766688]\n",
            "152.10940589739386 [  54.78145208  -72.15324885  360.5306193   253.91807879   14.7320072\n",
            "  -33.11798171 -175.52028852  129.58741656  327.39539512  129.38401398]\n",
            "152.1095887305816 [  54.70362383  -72.41811129  360.95101687  254.16586507   14.58048445\n",
            "  -33.36042946 -175.62729342  129.55402051  327.75051448  129.36989575]\n",
            "152.10976683343924 [  54.62565445  -72.68266456  361.37015368  254.41276369   14.42911332\n",
            "  -33.60253662 -175.73367917  129.52029717  328.10463385  129.35531637]\n",
            "152.10994025389326 [  54.54754661  -72.9469074   361.78803537  254.65877925   14.27789588\n",
            "  -33.8443013  -175.83944988  129.48625082  328.4577586   129.34027999]\n",
            "152.11010903942892 [  54.46930292  -73.21083851  362.2046675   254.90391633   14.12683421\n",
            "  -34.08572168 -175.94460961  129.45188567  328.80989406  129.3247907 ]\n",
            "152.11027323709436 [  54.39092599  -73.47445665  362.62005566  255.14817945   13.97593032\n",
            "  -34.32679593 -176.04916242  129.41720591  329.16104551  129.30885258]\n",
            "152.11043289350445 [  54.3124184   -73.73776058  363.03420534  255.39157312   13.82518622\n",
            "  -34.56752229 -176.15311231  129.38221569  329.51121822  129.29246966]\n",
            "152.11058805484473 [  54.23378269  -74.00074909  363.44712203  255.63410182   13.67460388\n",
            "  -34.807899   -176.25646327  129.34691911  329.86041739  129.27564593]\n",
            "152.1107387668753 [  54.1550214   -74.26342096  363.85881117  255.87576997   13.52418524\n",
            "  -35.04792435 -176.35921926  129.31132023  330.20864819  129.25838538]\n",
            "152.11088507493466 [  54.07613702  -74.52577502  364.26927817  256.116582     13.37393222\n",
            "  -35.28759664 -176.46138418  129.27542307  330.55591575  129.24069193]\n",
            "152.11102702394356 [  53.99713203  -74.78781011  364.67852841  256.35654227   13.22384669\n",
            "  -35.5269142  -176.56296193  129.23923162  330.90222516  129.22256948]\n",
            "152.11116465840877 [  53.9180089   -75.04952506  365.08656722  256.59565513   13.07393052\n",
            "  -35.76587541 -176.66395638  129.20274982  331.24758147  129.2040219 ]\n",
            "152.11129802242678 [  53.83877003  -75.31091875  365.4933999   256.8339249    12.92418554\n",
            "  -36.00447865 -176.76437134  129.16598157  331.59198969  129.18505302]\n",
            "152.11142715968762 [  53.75941784  -75.57199007  365.89903173  257.07135587   12.77461354\n",
            "  -36.24272235 -176.86421063  129.12893075  331.9354548   129.16566666]\n",
            "152.1115521134784 [  53.67995472  -75.83273792  366.30346793  257.30795228   12.62521632\n",
            "  -36.48060495 -176.96347802  129.09160118  332.27798172  129.14586656]\n",
            "152.11167292668708 [  53.60038301  -76.0931612   366.7067137   257.54371837   12.47599561\n",
            "  -36.71812492 -177.06217724  129.05399666  332.61957537  129.12565649]\n",
            "152.11178964180598 [  53.52070506  -76.35325886  367.10877421  257.77865833   12.32695315\n",
            "  -36.95528077 -177.16031201  129.01612093  332.96024059  129.10504013]\n",
            "152.1119023009355 [  53.44092317  -76.61302985  367.5096546   258.01277633   12.17809062\n",
            "  -37.19207102 -177.25788602  128.97797771  333.29998221  129.08402118]\n",
            "152.11201094578746 [  53.36103964  -76.87247313  367.90935995  258.2460765    12.0294097\n",
            "  -37.42849423 -177.35490292  128.93957069  333.63880502  129.06260327]\n",
            "152.11211561768891 [  53.28105673  -77.13158768  368.30789534  258.47856296   11.88091203\n",
            "  -37.66454897 -177.45136635  128.9009035   333.97671376  129.04079001]\n",
            "152.11221635758525 [  53.20097669  -77.39037251  368.7052658   258.71023978   11.73259925\n",
            "  -37.90023385 -177.5472799   128.86197975  334.31371315  129.018585  ]\n",
            "152.11231320604406 [  53.12080174  -77.64882662  369.10147632  258.94111102   11.58447294\n",
            "  -38.1355475  -177.64264714  128.82280302  334.64980786  128.99599178]\n",
            "152.11240620325825 [  53.04053407  -77.90694904  369.49653188  259.1711807    11.43653467\n",
            "  -38.37048857 -177.73747163  128.78337684  334.98500253  128.97301388]\n",
            "152.1124953890495 [  52.96017587  -78.16473882  369.89043741  259.40045282   11.28878599\n",
            "  -38.60505575 -177.83175689  128.74370472  335.31930178  128.94965479]\n",
            "152.1125808028718 [  52.87972929  -78.42219502  370.28319782  259.62893135   11.14122842\n",
            "  -38.83924773 -177.9255064   128.70379011  335.65271017  128.92591798]\n",
            "152.11266248381452 [  52.79919648  -78.67931671  370.67481798  259.85662022   10.99386347\n",
            "  -39.07306325 -178.01872364  128.66363645  335.98523223  128.90180688]\n",
            "152.11274047060593 [  52.71857954  -78.93610298  371.06530272  260.08352335   10.8466926\n",
            "  -39.30650105 -178.11141203  128.62324715  336.31687248  128.87732489]\n",
            "152.11281480161628 [  52.63788056  -79.19255293  371.45465687  260.30964462   10.69971727\n",
            "  -39.53955991 -178.203575    128.58262556  336.64763537  128.85247541]\n",
            "152.11288551486123 [  52.55710163  -79.44866568  371.8428852   260.53498791   10.5529389\n",
            "  -39.77223864 -178.29521593  128.54177501  336.97752534  128.82726177]\n",
            "152.11295264800495 [  52.47624479  -79.70444037  372.22999246  260.75955703   10.40635891\n",
            "  -40.00453605 -178.38633818  128.5006988   337.30654679  128.8016873 ]\n",
            "152.1130162383633 [  52.39531207  -79.95987614  372.61598337  260.9833558    10.25997867\n",
            "  -40.23645099 -178.47694509  128.4594002   337.63470409  128.7757553 ]\n",
            "152.113076322907 [  52.31430549  -80.21497215  373.00086261  261.20638801   10.11379954\n",
            "  -40.46798232 -178.56703997  128.41788244  337.96200157  128.74946902]\n",
            "152.11313293826484 [  52.23322703  -80.46972757  373.38463485  261.42865739    9.96782286\n",
            "  -40.69912895 -178.65662611  128.37614871  338.28844353  128.7228317 ]\n",
            "152.1131861207266 [  52.15207868  -80.7241416   373.76730472  261.65016769    9.82204995\n",
            "  -40.92988977 -178.74570675  128.3342022   338.61403424  128.69584656]\n",
            "152.11323590624627 [  52.07086238  -80.97821344  374.14887682  261.8709226     9.6764821\n",
            "  -41.16026373 -178.83428515  128.29204603  338.93877794  128.66851679]\n",
            "152.11328233044512 [  51.98958006  -81.2319423   374.52935572  262.09092581    9.53112058\n",
            "  -41.39024979 -178.92236451  128.2496833   339.26267884  128.64084553]\n",
            "152.11332542861447 [  51.90823363  -81.48532742  374.90874596  262.31018097    9.38596664\n",
            "  -41.61984691 -179.00994801  128.2071171   339.5857411   128.61283593]\n",
            "152.11336523571904 [  51.826825    -81.73836804  375.28705205  262.52869171    9.24102152\n",
            "  -41.84905411 -179.09703883  128.16435047  339.90796887  128.58449108]\n",
            "152.11340178639955 [  51.74535604  -81.9910634   375.66427849  262.74646163    9.09628641\n",
            "  -42.0778704  -179.18364009  128.12138641  340.22936626  128.55581407]\n",
            "152.11343511497594 [  51.66382859  -82.2434128   376.04042973  262.96349431    8.95176251\n",
            "  -42.30629482 -179.26975492  128.07822791  340.54993735  128.52680795]\n",
            "152.1134652554501 [  51.58224451  -82.49541549  376.4155102   263.17979331    8.80745099\n",
            "  -42.53432643 -179.3553864   128.03487793  340.86968619  128.49747574]\n",
            "152.11349224150882 [  51.50060561  -82.74707079  376.7895243   263.39536216    8.663353\n",
            "  -42.76196433 -179.4405376   127.99133939  341.1886168   128.46782045]\n",
            "152.11351610652662 [  51.41891369  -82.998378    377.16247641  263.61020436    8.51946965\n",
            "  -42.9892076  -179.52521158  127.94761518  341.50673317  128.43784506]\n",
            "152.11353688356863 [  51.33717054  -83.24933644  377.53437087  263.82432341    8.37580207\n",
            "  -43.21605538 -179.60941134  127.90370816  341.82403926  128.40755251]\n",
            "152.11355460539335 [  51.25537791  -83.49994544  377.90521201  264.03772275    8.23235133\n",
            "  -43.4425068  -179.6931399   127.85962117  342.140539    128.37694574]\n",
            "152.11356930445538 [  51.17353756  -83.75020434  378.27500411  264.25040583    8.0891185\n",
            "  -43.66856104 -179.77640022  127.81535702  342.45623629  128.34602765]\n",
            "152.11358101290833 [  51.09165122  -84.00011252  378.64375145  264.46237607    7.94610464\n",
            "  -43.89421726 -179.85919526  127.77091849  342.77113501  128.31480112]\n",
            "152.11358976260735 [  51.00972059  -84.24966933  379.01145827  264.67363684    7.80331077\n",
            "  -44.11947468 -179.94152796  127.72630833  343.08523899  128.28326901]\n",
            "152.11359558511197 [  50.92774738  -84.49887416  379.37812877  264.88419153    7.6607379\n",
            "  -44.3443325  -180.02340122  127.68152926  343.39855206  128.25143414]\n",
            "152.11359851168876 [  50.84573326  -84.7477264   379.74376716  265.09404347    7.51838704\n",
            "  -44.56878998 -180.10481794  127.63658397  343.71107799  128.21929932]\n",
            "152.11359857331396 [  50.76367989  -84.99622546  380.10837759  265.303196      7.37625914\n",
            "  -44.79284636 -180.18578097  127.59147514  344.02282056  128.18686733]\n",
            "152.11359580067608 [  50.68158892  -85.24437075  380.47196419  265.5116524     7.23435517\n",
            "  -45.01650092 -180.26629317  127.54620541  344.33378348  128.15414095]\n",
            "152.11359022417855 [  50.59946197  -85.49216171  380.83453109  265.71941597    7.09267607\n",
            "  -45.23975296 -180.34635736  127.50077738  344.64397047  128.1211229 ]\n",
            "152.11358187394237 [  50.51730065  -85.73959777  381.19608236  265.92648995    6.95122276\n",
            "  -45.46260179 -180.42597634  127.45519366  344.95338521  128.0878159 ]\n",
            "152.1135707798085 [  50.43510656  -85.98667839  381.55662208  266.13287759    6.80999614\n",
            "  -45.68504673 -180.5051529   127.4094568   345.26203133  128.05422264]\n",
            "152.11355697134059 [  50.35288128  -86.23340303  381.91615427  266.3385821     6.66899709\n",
            "  -45.90708713 -180.58388979  127.36356933  345.56991246  128.0203458 ]\n",
            "152.1135404778273 [  50.27062637  -86.47977116  382.27468295  266.54360666    6.52822648\n",
            "  -46.12872236 -180.66218976  127.31753377  345.87703221  127.98618802]\n",
            "152.113521328285 [  50.18834338  -86.72578228  382.6322121   266.74795446    6.38768517\n",
            "  -46.3499518  -180.74005552  127.27135261  346.18339414  127.95175192]\n",
            "152.11349955146005 [  50.10603383  -86.97143586  382.9887457   266.95162865    6.24737398\n",
            "  -46.57077485 -180.81748979  127.22502829  346.48900179  127.91704011]\n",
            "152.11347517583138 [  50.02369924  -87.21673143  383.34428768  267.15463235    6.10729374\n",
            "  -46.79119091 -180.89449523  127.17856326  346.79385868  127.88205518]\n",
            "152.11344822961283 [  49.94134111  -87.46166849  383.69884195  267.35696867    5.96744525\n",
            "  -47.01119943 -180.97107451  127.13195992  347.09796831  127.84679968]\n",
            "152.11341874075563 [  49.85896092  -87.70624659  384.05241241  267.5586407     5.82782928\n",
            "  -47.23079985 -181.04723027  127.08522067  347.40133414  127.81127615]\n",
            "152.11338673695067 [  49.77656015  -87.95046525  384.40500293  267.75965152    5.68844661\n",
            "  -47.44999163 -181.12296513  127.03834785  347.70395961  127.77548712]\n",
            "152.113352245631 [  49.69414024  -88.19432402  384.75661736  267.96000417    5.549298\n",
            "  -47.66877426 -181.19828169  126.99134381  348.00584814  127.73943507]\n",
            "152.11331529397407 [  49.61170264  -88.43782247  385.10725951  268.15970168    5.41038417\n",
            "  -47.88714723 -181.27318254  126.94421085  348.30700312  127.70312249]\n",
            "152.1132759089041 [  49.52924877  -88.68096016  385.45693319  268.35874705    5.27170585\n",
            "  -48.10511006 -181.34767023  126.89695128  348.60742793  127.66655183]\n",
            "152.11323411709424 [  49.44678004  -88.92373668  385.80564217  268.55714328    5.13326374\n",
            "  -48.32266227 -181.42174732  126.84956734  348.90712589  127.62972553]\n",
            "152.11318994496915 [  49.36429783  -89.16615161  386.15339021  268.75489334    4.99505853\n",
            "  -48.5398034  -181.49541632  126.80206129  349.20610034  127.592646  ]\n",
            "152.11314341870693 [  49.28180355  -89.40820455  386.50018103  268.95200018    4.85709091\n",
            "  -48.75653301 -181.56867974  126.75443535  349.50435456  127.55531564]\n",
            "152.11309456424146 [  49.19929854  -89.64989512  386.84601836  269.14846673    4.71936152\n",
            "  -48.97285069 -181.64154008  126.7066917   349.80189183  127.51773682]\n",
            "152.1130434072648 [  49.11678416  -89.89122292  387.19090588  269.34429589    4.58187101\n",
            "  -49.188756   -181.7139998   126.65883253  350.09871539  127.47991191]\n",
            "152.11298997322905 [  49.03426176  -90.1321876   387.53484725  269.53949058    4.44462002\n",
            "  -49.40424856 -181.78606136  126.61085998  350.39482848  127.44184323]\n",
            "152.11293428734882 [  48.95173264  -90.37278878  387.87784613  269.73405365    4.30760916\n",
            "  -49.61932799 -181.85772719  126.56277618  350.69023428  127.4035331 ]\n",
            "152.11287637460322 [  48.86919813  -90.61302613  388.21990612  269.92798796    4.17083903\n",
            "  -49.83399391 -181.9289997   126.51458324  350.98493598  127.36498383]\n",
            "152.11281625973805 [  48.78665952  -90.85289928  388.56103084  270.12129636    4.03431021\n",
            "  -50.04824597 -181.99988129  126.46628325  351.27893674  127.32619769]\n",
            "152.11275396726793 [  48.7041181   -91.09240791  388.90122386  270.31398166    3.89802329\n",
            "  -50.26208384 -182.07037435  126.41787827  351.57223968  127.28717694]\n",
            "152.11268952147836 [  48.62157513  -91.3315517   389.24048874  270.50604666    3.76197882\n",
            "  -50.47550718 -182.14048123  126.36937034  351.86484792  127.24792383]\n",
            "152.11262294642782 [  48.53903187  -91.57033033  389.57882903  270.69749415    3.62617735\n",
            "  -50.68851568 -182.21020429  126.32076148  352.15676455  127.20844056]\n",
            "152.11255426594983 [  48.45648956  -91.80874349  389.91624824  270.88832689    3.49061941\n",
            "  -50.90110905 -182.27954585  126.2720537   352.44799262  127.16872936]\n",
            "152.11248350365497 [  48.37394944  -92.04679089  390.25274987  271.07854764    3.35530552\n",
            "  -51.113287   -182.34850823  126.22324896  352.7385352   127.12879241]\n",
            "152.112410682933 [  48.29141272  -92.28447223  390.58833739  271.26815911    3.22023618\n",
            "  -51.32504925 -182.41709371  126.17434924  353.02839529  127.08863187]\n",
            "152.11233582695462 [  48.20888061  -92.52178724  390.92301427  271.45716402    3.08541189\n",
            "  -51.53639555 -182.48530459  126.12535647  353.3175759   127.04824989]\n",
            "152.1122589586738 [  48.1263543   -92.75873564  391.25678393  271.64556507    2.95083312\n",
            "  -51.74732566 -182.55314311  126.07627257  353.60608002  127.00764862]\n",
            "152.1121801008295 [  48.04383496  -92.99531717  391.5896498   271.83336494    2.81650035\n",
            "  -51.95783933 -182.62061153  126.02709943  353.89391059  126.96683015]\n",
            "152.11209927594766 [  47.96132377  -93.23153158  391.92161527  272.02056628    2.68241402\n",
            "  -52.16793635 -182.68771207  125.97783893  354.18107057  126.9257966 ]\n",
            "152.1120165063432 [  47.87882188  -93.46737863  392.25268373  272.20717175    2.54857458\n",
            "  -52.37761651 -182.75444695  125.92849294  354.46756286  126.88455003]\n",
            "152.11193181412187 [  47.79633044  -93.70285806  392.58285852  272.39318396    2.41498246\n",
            "  -52.58687962 -182.82081837  125.8790633   354.75339036  126.84309252]\n",
            "152.11184522118222 [  47.71385057  -93.93796966  392.91214299  272.57860554    2.28163807\n",
            "  -52.79572549 -182.8868285   125.82955181  355.03855595  126.80142611]\n",
            "152.1117567492174 [  47.63138339  -94.1727132   393.24054046  272.76343907    2.14854182\n",
            "  -53.00415395 -182.9524795   125.77996029  355.32306249  126.75955283]\n",
            "152.11166641971712 [  47.54893001  -94.40708847  393.56805423  272.94768713    2.01569411\n",
            "  -53.21216484 -183.01777354  125.73029052  355.60691281  126.71747469]\n",
            "152.11157425396937 [  47.46649152  -94.64109527  393.89468758  273.13135228    1.8830953\n",
            "  -53.41975802 -183.08271274  125.68054425  355.89010973  126.67519368]\n",
            "152.11148027306234 [  47.38406901  -94.87473339  394.22044378  273.31443708    1.75074578\n",
            "  -53.62693335 -183.14729923  125.63072324  356.17265605  126.6327118 ]\n",
            "152.1113844978863 [  47.30166356  -95.10800264  394.54532606  273.49694405    1.6186459\n",
            "  -53.8336907  -183.2115351   125.58082921  356.45455454  126.59003099]\n",
            "152.11128694913518 [  47.21927621  -95.34090285  394.86933765  273.6788757     1.486796\n",
            "  -54.04002996 -183.27542244  125.53086387  356.73580796  126.54715321]\n",
            "152.11118764730858 [  47.13690802  -95.57343384  395.19248177  273.86023453    1.35519642\n",
            "  -54.24595104 -183.33896332  125.48082891  357.01641905  126.50408039]\n",
            "152.1110866127134 [  47.05456003  -95.80559544  395.5147616   274.04102303    1.22384748\n",
            "  -54.45145383 -183.40215981  125.430726    357.29639053  126.46081445]\n",
            "152.11098386546564 [  46.97223326  -96.03738749  395.83618032  274.22124366    1.0927495\n",
            "  -54.65653827 -183.46501395  125.3805568   357.5757251   126.41735727]\n",
            "152.11087942549216 [  46.88992873  -96.26880985  396.15674108  274.40089887    0.96190278\n",
            "  -54.86120428 -183.52752776  125.33032294  357.85442545  126.37371076]\n",
            "152.1107733125323 [  46.80764744  -96.49986236  396.476447    274.57999111    0.83130761\n",
            "  -55.06545181 -183.58970327  125.28002604  358.13249423  126.32987677]\n",
            "152.11066554613967 [  46.72539039  -96.7305449   396.79530123  274.75852278    0.70096426\n",
            "  -55.26928081 -183.65154246  125.22966771  358.4099341   126.28585716]\n",
            "152.11055614568386 [  46.64315856  -96.96085732  397.11330684  274.93649631    0.57087301\n",
            "  -55.47269124 -183.71304733  125.17924954  358.68674767  126.24165377]\n",
            "152.11044513035196 [  46.56095292  -97.19079951  397.43046694  275.11391407    0.44103412\n",
            "  -55.67568308 -183.77421984  125.12877308  358.96293756  126.19726841]\n",
            "152.11033251915043 [ 4.64787744e+01 -9.74203714e+01  3.97746785e+02  2.75290778e+02\n",
            "  3.11447828e-01 -5.58782563e+01 -1.83835062e+02  1.25078240e+02\n",
            "  3.59238506e+02  1.26152703e+02]\n",
            "152.1102183309066 [ 4.63966241e+01 -9.76495727e+01  3.98062263e+02  2.75467092e+02\n",
            "  1.82114382e-01 -5.60804109e+01 -1.83895576e+02  1.25027652e+02\n",
            "  3.59513457e+02  1.26107959e+02]\n",
            "152.11010258427027 [ 4.63145027e+01 -9.78784036e+01  3.98376905e+02  2.75642857e+02\n",
            "  5.30340088e-02 -5.62821470e+01 -1.83955763e+02  1.24977009e+02\n",
            "  3.59787791e+02  1.26063039e+02]\n",
            "152.10998529771547 [ 4.62324114e+01 -9.81068637e+01  3.98690713e+02  2.75818075e+02\n",
            " -7.57930750e-02 -5.64834644e+01 -1.84015625e+02  1.24926315e+02\n",
            "  3.60061512e+02  1.26017943e+02]\n",
            "152.1098664895419 [ 4.61503510e+01 -9.83349532e+01  3.99003691e+02  2.75992749e+02\n",
            " -2.04366660e-01 -5.66843632e+01 -1.84075165e+02  1.24875570e+02\n",
            "  3.60334622e+02  1.25972675e+02]\n",
            "152.10974617787667 [ 4.60683223e+01 -9.85626718e+01  3.99315842e+02  2.76166882e+02\n",
            " -3.32686549e-01 -5.68848435e+01 -1.84134384e+02  1.24824776e+02\n",
            "  3.60607123e+02  1.25927235e+02]\n",
            "152.10962438067565 [  45.98632639  -98.79001949  399.62716843  276.34047497   -0.46075255\n",
            "  -57.08490537 -184.19328417  124.77393434  360.87901915  125.88162608]\n",
            "152.10950111572532 [  45.90436407  -99.01699623  399.93767333  276.513531     -0.58856449\n",
            "  -57.28454876 -184.25186715  124.72304615  361.15031139  125.83584891]\n",
            "152.109376400644 [  45.82243624  -99.24360194  400.2473597   276.68605215   -0.71612219\n",
            "  -57.48377378 -184.31013489  124.67211306  361.42100264  125.78990552]\n",
            "152.10925025288367 [  45.74054376  -99.46983657  400.55623046  276.85804066   -0.84342549\n",
            "  -57.6825805  -184.36808923  124.62113648  361.69109534  125.74379761]\n",
            "152.1091226897312 [  45.65868749  -99.69570006  400.86428851  277.02949876   -0.97047425\n",
            "  -57.88096899 -184.425732    124.57011781  361.9605919   125.69752682]\n",
            "152.10899372831008 [  45.5768683   -99.92119238  401.17153675  277.20042869   -1.09726832\n",
            "  -58.07893935 -184.483065    124.51905842  362.22949474  125.65109482]\n",
            "152.10886338558177 [  45.49508702 -100.14631349  401.47797802  277.37083264   -1.22380756\n",
            "  -58.27649168 -184.54009003  124.46795968  362.49780623  125.60450325]\n",
            "152.10873167834728 [  45.41334448 -100.37106336  401.7836152   277.54071282   -1.35009185\n",
            "  -58.47362609 -184.59680887  124.41682294  362.76552874  125.55775372]\n",
            "152.1085986232485 [  45.33164152 -100.59544196  402.08845113  277.7100714    -1.47612108\n",
            "  -58.67034269 -184.65322329  124.36564953  363.03266464  125.51084786]\n",
            "152.10846423676972 [  45.24997894 -100.81944928  402.39248861  277.87891055   -1.60189513\n",
            "  -58.8666416  -184.70933506  124.31444076  363.29921626  125.46378725]\n",
            "152.10832853523908 [  45.16835756 -101.04308531  402.69573047  278.04723243   -1.72741392\n",
            "  -59.06252297 -184.76514593  124.26319795  363.56518593  125.41657349]\n",
            "152.10819153483 [  45.08677817 -101.26635003  402.9981795   278.21503918   -1.85267734\n",
            "  -59.25798693 -184.82065761  124.21192239  363.83057595  125.36920815]\n",
            "152.1080532515625 [  45.00524155 -101.48924345  403.29983847  278.38233293   -1.97768533\n",
            "  -59.45303363 -184.87587184  124.16061534  364.09538862  125.32169278]\n",
            "152.10791370130462 [  44.92374849 -101.71176557  403.60071014  278.5491158    -2.10243779\n",
            "  -59.64766323 -184.93079033  124.10927808  364.35962621  125.27402894]\n",
            "152.10777289977395 [  44.84229976 -101.93391641  403.90079728  278.71538989   -2.22693468\n",
            "  -59.8418759  -184.98541477  124.05791186  364.62329099  125.22621815]\n",
            "152.10763086253877 [  44.76089612 -102.15569599  404.2001026   278.8811573    -2.35117592\n",
            "  -60.03567181 -185.03974686  124.0065179   364.8863852   125.17826195]\n",
            "152.10748760501954 [  44.67953832 -102.37710432  404.49862883  279.04642009   -2.47516148\n",
            "  -60.22905114 -185.09378826  123.95509743  365.14891108  125.13016184]\n",
            "152.10734314249027 [  44.59822711 -102.59814143  404.79637867  279.21118035   -2.59889131\n",
            "  -60.42201409 -185.14754064  123.90365166  365.41087084  125.08191931]\n",
            "152.10719749007976 [  44.51696323 -102.81880736  405.09335481  279.37544013   -2.72236538\n",
            "  -60.61456085 -185.20100564  123.85218178  365.67226669  125.03353586]\n",
            "152.10705066277296 [  44.4357474  -103.03910215  405.38955994  279.53920146   -2.84558365\n",
            "  -60.80669163 -185.25418492  123.80068897  365.93310081  124.98501295]\n",
            "152.10690267541233 [  44.35458034 -103.25902584  405.6849967   279.70246637   -2.96854612\n",
            "  -60.99840664 -185.30708009  123.74917441  366.19337538  124.93635206]\n",
            "152.10675354269904 [  44.27346277 -103.47857849  405.97966776  279.8652369    -3.09125278\n",
            "  -61.1897061  -185.35969278  123.69763924  366.45309256  124.88755462]\n",
            "152.10660327919436 [  44.19239539 -103.69776014  406.27357573  280.02751504   -3.2137036\n",
            "  -61.38059024 -185.41202458  123.64608461  366.7122545   124.83862207]\n",
            "152.10645189932083 [  44.11137889 -103.91657087  406.56672325  280.18930278   -3.33589862\n",
            "  -61.57105929 -185.4640771   123.59451166  366.97086332  124.78955584]\n",
            "152.10629941736363 [  44.03041396 -104.13501072  406.85911292  280.35060212   -3.45783782\n",
            "  -61.76111349 -185.51585192  123.54292149  367.22892114  124.74035735]\n",
            "152.1061458474717 [  43.94950128 -104.35307979  407.15074732  280.51141502   -3.57952124\n",
            "  -61.9507531  -185.56735061  123.49131522  367.48643007  124.691028  ]\n",
            "152.10599120365913 [  43.86864153 -104.57077813  407.44162905  280.67174344   -3.70094889\n",
            "  -62.13997837 -185.61857472  123.43969394  367.7433922   124.64156918]\n",
            "152.10583549980626 [  43.78783536 -104.78810584  407.73176066  280.83158933   -3.82212081\n",
            "  -62.32878956 -185.66952582  123.38805872  367.9998096   124.59198227]\n",
            "152.10567874966097 [  43.70708344 -105.005063    408.02114471  280.99095463   -3.94303704\n",
            "  -62.51718694 -185.72020545  123.33641063  368.25568434  124.54226863]\n",
            "152.10552096683986 [  43.6263864  -105.22164971  408.30978374  281.14984126   -4.06369763\n",
            "  -62.70517079 -185.77061512  123.28475074  368.51101846  124.49242964]\n",
            "152.10536216482944 [  43.54574491 -105.43786604  408.59768026  281.30825114   -4.18410262\n",
            "  -62.89274139 -185.82075636  123.23308008  368.765814    124.44246663]\n",
            "152.10520235698738 [  43.46515957 -105.65371212  408.8848368   281.46618618   -4.30425208\n",
            "  -63.07989903 -185.87063069  123.18139969  369.02007299  124.39238094]\n",
            "152.1050415565435 [  43.38463104 -105.86918804  409.17125586  281.62364826   -4.42414607\n",
            "  -63.26664401 -185.92023958  123.12971059  369.27379743  124.34217389]\n",
            "152.10487977660125 [  43.30415991 -106.08429391  409.45693992  281.78063926   -4.54378466\n",
            "  -63.45297662 -185.96958455  123.07801379  369.52698932  124.2918468 ]\n",
            "152.10471703013852 [  43.22374681 -106.29902986  409.74189145  281.93716106   -4.66316794\n",
            "  -63.63889718 -186.01866706  123.02631029  369.77965065  124.24140098]\n",
            "152.104553330009 [  43.14339233 -106.51339599  410.02611292  282.09321552   -4.78229599\n",
            "  -63.824406   -186.06748857  122.97460108  370.03178339  124.19083772]\n",
            "152.10438868894323 [  43.06309709 -106.72739243  410.30960677  282.24880448   -4.90116889\n",
            "  -64.0095034  -186.11605056  122.92288712  370.28338949  124.1401583 ]\n",
            "152.10422311954974 [  42.98286165 -106.94101932  410.59237544  282.40392979   -5.01978675\n",
            "  -64.1941897  -186.16435445  122.87116939  370.5344709   124.08936399]\n",
            "152.10405663431624 [  42.90268662 -107.15427678  410.87442136  282.55859328   -5.13814968\n",
            "  -64.37846525 -186.21240171  122.81944883  370.78502956  124.03845606]\n",
            "152.10388924561047 [  42.82257257 -107.36716495  411.15574694  282.71279675   -5.25625777\n",
            "  -64.56233038 -186.26019374  122.7677264   371.03506739  123.98743576]\n",
            "152.10372096568167 [  42.74252006 -107.57968397  411.43635457  282.86654202   -5.37411115\n",
            "  -64.74578543 -186.30773196  122.71600302  371.2845863   123.93630432]\n",
            "152.10355180666133 [  42.66252966 -107.791834    411.71624665  283.01983089   -5.49170993\n",
            "  -64.92883075 -186.3550178   122.66427961  371.53358818  123.88506299]\n",
            "152.1033817805644 [  42.58260192 -108.00361518  411.99542554  283.17266513   -5.60905425\n",
            "  -65.11146669 -186.40205264  122.61255709  371.78207491  123.83371299]\n",
            "152.1032108992904 [  42.5027374  -108.21502767  412.27389361  283.32504654   -5.72614424\n",
            "  -65.29369363 -186.44883787  122.56083635  372.03004839  123.78225552]\n",
            "152.10303917462434 [  42.42293663 -108.42607162  412.55165321  283.47697687   -5.84298003\n",
            "  -65.47551192 -186.49537488  122.50911829  372.27751045  123.7306918 ]\n",
            "152.1028666182379 [  42.34320016 -108.6367472   412.82870669  283.62845788   -5.95956177\n",
            "  -65.65692194 -186.54166504  122.45740378  372.52446296  123.67902301]\n",
            "152.1026932416904 [  42.2635285  -108.84705457  413.10505636  283.77949132   -6.0758896\n",
            "  -65.83792407 -186.5877097   122.4056937   372.77090775  123.62725033]\n",
            "152.10251905642977 [  42.1839222  -109.05699392  413.38070455  283.93007893   -6.19196369\n",
            "  -66.01851868 -186.63351021  122.3539889   373.01684666  123.57537494]\n",
            "152.10234407379366 [  42.10438175 -109.2665654   413.65565355  284.08022242   -6.30778419\n",
            "  -66.19870616 -186.67906793  122.30229023  373.26228148  123.52339801]\n",
            "152.10216830501042 [  42.02490768 -109.47576921  413.92990567  284.22992353   -6.42335127\n",
            "  -66.37848691 -186.72438419  122.25059853  373.50721403  123.47132069]\n",
            "152.10199176120008 [  41.94550049 -109.68460552  414.20346318  284.37918395   -6.5386651\n",
            "  -66.55786133 -186.7694603   122.19891463  373.75164611  123.41914413]\n",
            "152.1018144533753 [  41.86616067 -109.89307453  414.47632836  284.52800539   -6.65372586\n",
            "  -66.73682982 -186.81429759  122.14723935  373.99557948  123.36686946]\n",
            "152.1016363924425 [  41.78688871 -110.10117642  414.74850345  284.67638953   -6.76853372\n",
            "  -66.91539278 -186.85889736  122.0955735   374.23901593  123.31449781]\n",
            "152.10145758920254 [  41.70768511 -110.3089114   415.01999072  284.82433806   -6.88308887\n",
            "  -67.09355063 -186.90326091  122.04391788  374.48195721  123.2620303 ]\n",
            "152.10127805435204 [  41.62855035 -110.51627964  415.29079239  284.97185264   -6.9973915\n",
            "  -67.27130378 -186.94738953  121.99227329  374.72440507  123.20946803]\n",
            "152.10109779848406 [  41.54948489 -110.72328137  415.5609107   285.11893493   -7.11144181\n",
            "  -67.44865266 -186.9912845   121.9406405   374.96636125  123.15681212]\n",
            "152.10091683208918 [  41.4704892  -110.92991679  415.83034785  285.26558658   -7.22524\n",
            "  -67.6255977  -187.0349471   121.88902029  375.20782747  123.10406364]\n",
            "152.1007351655564 [  41.39156375 -111.1361861   416.09910605  285.41180925   -7.33878627\n",
            "  -67.80213932 -187.07837858  121.83741342  375.44880545  123.05122369]\n",
            "152.10055280917402 [  41.31270899 -111.34208952  416.3671875   285.55760455   -7.45208084\n",
            "  -67.97827797 -187.12158021  121.78582064  375.6892969   122.99829334]\n",
            "152.10036977313064 [  41.23392537 -111.54762727  416.63459437  285.70297412   -7.56512391\n",
            "  -68.15401407 -187.16455322  121.7342427   375.92930351  122.94527365]\n",
            "152.100186067516 [  41.15521335 -111.75279956  416.90132884  285.84791956   -7.67791571\n",
            "  -68.32934808 -187.20729887  121.68268035  376.16882697  122.89216568]\n",
            "152.100001702322 [  41.07657335 -111.95760663  417.16739307  285.9924425    -7.79045645\n",
            "  -68.50428045 -187.24981837  121.63113429  376.40786895  122.83897048]\n",
            "152.09981668744337 [  40.99800581 -112.16204869  417.43278921  286.13654451   -7.90274638\n",
            "  -68.67881162 -187.29211295  121.57960526  376.64643112  122.78568909]\n",
            "152.09963103267881 [  40.91951115 -112.36612598  417.69751941  286.2802272    -8.01478571\n",
            "  -68.85294206 -187.33418383  121.52809397  376.88451512  122.73232255]\n",
            "152.0994447477317 [  40.84108981 -112.56983873  417.96158578  286.42349214   -8.12657469\n",
            "  -69.02667222 -187.37603221  121.47660111  377.12212261  122.67887187]\n",
            "152.09925784221105 [  40.7627422  -112.77318719  418.22499045  286.56634091   -8.23811356\n",
            "  -69.20000258 -187.41765929  121.42512738  377.35925522  122.62533807]\n",
            "152.0990703256323 [  40.68446873 -112.97617158  418.48773554  286.70877506   -8.34940256\n",
            "  -69.3729336  -187.45906626  121.37367347  377.59591458  122.57172216]\n",
            "152.09888220741828 [  40.6062698  -113.17879217  418.74982313  286.85079615   -8.46044194\n",
            "  -69.54546575 -187.5002543   121.32224005  377.83210229  122.51802514]\n",
            "152.09869349689987 [  40.52814582 -113.38104918  419.01125532  286.99240573   -8.57123196\n",
            "  -69.71759952 -187.54122458  121.27082779  378.06781997  122.464248  ]\n",
            "152.09850420331708 [  40.45009718 -113.58294287  419.27203419  287.13360533   -8.68177287\n",
            "  -69.88933538 -187.58197828  121.21943735  378.3030692   122.41039173]\n",
            "152.09831433581968 [  40.37212428 -113.78447351  419.53216181  287.27439649   -8.79206492\n",
            "  -70.06067382 -187.62251655  121.16806938  378.53785158  122.35645729]\n",
            "152.0981239034681 [  40.29422749 -113.98564133  419.79164024  287.41478072   -8.9021084\n",
            "  -70.23161532 -187.66284055  121.11672453  378.77216867  122.30244566]\n",
            "152.0979329152343 [  40.21640721 -114.18644661  420.05047153  287.55475954   -9.01190357\n",
            "  -70.40216039 -187.7029514   121.06540344  379.00602206  122.24835781]\n",
            "152.0977413800025 [  40.1386638  -114.3868896   420.30865771  287.69433445   -9.12145069\n",
            "  -70.57230951 -187.74285027  121.01410672  379.23941329  122.19419467]\n",
            "152.09754930657002 [  40.06099763 -114.58697058  420.56620082  287.83350696   -9.23075005\n",
            "  -70.74206318 -187.78253826  120.96283501  379.47234391  122.1399572 ]\n",
            "152.097356703648 [  39.98340908 -114.7866898   420.82310289  287.97227854   -9.33980192\n",
            "  -70.91142192 -187.82201651  120.91158891  379.70481547  122.08564633]\n",
            "152.09716357986233 [  39.90589849 -114.98604755  421.07936591  288.11065067   -9.4486066\n",
            "  -71.08038622 -187.86128613  120.86036903  379.93682948  122.031263  ]\n",
            "152.09696994375432 [  39.82846624 -115.18504409  421.3349919   288.24862484   -9.55716436\n",
            "  -71.24895659 -187.90034822  120.80917598  380.16838748  121.97680812]\n",
            "152.0967758037815 [  39.75111266 -115.38367971  421.58998284  288.38620251   -9.6654755\n",
            "  -71.41713355 -187.93920388  120.75801033  380.39949098  121.92228261]\n",
            "152.0965811683184 [  39.6738381  -115.58195468  421.84434073  288.52338513   -9.77354031\n",
            "  -71.58491761 -187.97785421  120.70687268  380.63014147  121.86768739]\n",
            "152.09638604565734 [  39.59664291 -115.77986928  422.09806753  288.66017415   -9.88135909\n",
            "  -71.7523093  -188.01630029  120.65576359  380.86034045  121.81302334]\n",
            "152.096190444009 [  39.51952742 -115.97742382  422.35116521  288.79657102   -9.98893215\n",
            "  -71.91930914 -188.05454321  120.60468364  381.09008941  121.75829137]\n",
            "152.0959943715035 [  39.44249197 -116.17461856  422.60363572  288.93257716  -10.09625977\n",
            "  -72.08591764 -188.09258402  120.55363339  381.31938983  121.70349237]\n",
            "152.09579783619085 [  39.36553687 -116.3714538   422.85548102  289.06819401  -10.20334229\n",
            "  -72.25213535 -188.1304238   120.50261339  381.54824317  121.6486272 ]\n",
            "152.09560084604172 [  39.28866246 -116.56792985  423.10670303  289.20342299  -10.31017999\n",
            "  -72.4179628  -188.1680636   120.45162419  381.77665089  121.59369674]\n",
            "152.09540340894836 [  39.21186905 -116.76404698  423.3573037   289.3382655   -10.41677321\n",
            "  -72.58340051 -188.20550447  120.40066633  382.00461444  121.53870187]\n",
            "152.09520553272506 [  39.13515696 -116.95980551  423.60728493  289.47272294  -10.52312225\n",
            "  -72.74844903 -188.24274746  120.34974034  382.23213527  121.48364343]\n",
            "152.0950072251091 [  39.0585265  -117.15520574  423.85664864  289.60679673  -10.62922743\n",
            "  -72.91310889 -188.27979361  120.29884675  382.45921481  121.42852229]\n",
            "152.09480849376124 [  38.98197797 -117.35024797  424.10539674  289.74048824  -10.73508909\n",
            "  -73.07738065 -188.31664394  120.24798609  382.68585448  121.37333928]\n",
            "152.09460934626657 [  38.90551166 -117.5449325   424.35353111  289.87379886  -10.84070754\n",
            "  -73.24126485 -188.35329947  120.19715885  382.91205571  121.31809524]\n",
            "152.09440979013516 [  38.82912789 -117.73925964  424.60105364  290.00672997  -10.94608312\n",
            "  -73.40476203 -188.38976123  120.14636555  383.1378199   121.26279101]\n",
            "152.0942098328028 [  38.75282694 -117.93322972  424.84796621  290.13928292  -11.05121615\n",
            "  -73.56787276 -188.42603023  120.09560669  383.36314846  121.20742741]\n",
            "152.09400948163145 [  38.67660909 -118.12684303  425.09427069  290.27145909  -11.15610698\n",
            "  -73.73059757 -188.46210747  120.04488276  383.58804277  121.15200527]\n",
            "152.09380874391027 [  38.60047464 -118.32009991  425.33996893  290.40325982  -11.26075594\n",
            "  -73.89293704 -188.49799394  119.99419425  383.81250424  121.09652538]\n",
            "152.09360762685606 [  38.52442386 -118.51300066  425.58506279  290.53468647  -11.36516337\n",
            "  -74.05489172 -188.53369064  119.94354164  384.03653422  121.04098857]\n",
            "152.09340613761393 [  38.44845703 -118.70554561  425.8295541   290.66574036  -11.46932962\n",
            "  -74.21646218 -188.56919856  119.8929254   384.2601341   120.98539562]\n",
            "152.093204283258 [  38.37257442 -118.89773509  426.07344471  290.79642285  -11.57325502\n",
            "  -74.37764897 -188.60451866  119.842346    384.48330523  120.92974733]\n",
            "152.0930020707921 [  38.2967763  -119.08956941  426.31673644  290.92673524  -11.67693994\n",
            "  -74.53845267 -188.63965193  119.79180391  384.70604896  120.8740445 ]\n",
            "152.0927995071503 [  38.22106293 -119.28104892  426.55943111  291.05667887  -11.78038472\n",
            "  -74.69887384 -188.67459933  119.74129957  384.92836666  120.81828789]\n",
            "152.09259659919766 [  38.14543456 -119.47217393  426.80153053  291.18625503  -11.88358971\n",
            "  -74.85891307 -188.70936182  119.69083344  385.15025965  120.76247829]\n",
            "152.0923933537308 [  38.06989147 -119.66294478  427.04303649  291.31546505  -11.98655527\n",
            "  -75.01857091 -188.74394035  119.64040596  385.37172926  120.70661646]\n",
            "152.09218977747858 [  37.99443389 -119.8533618   427.2839508   291.44431022  -12.08928177\n",
            "  -75.17784795 -188.77833588  119.59001757  385.59277683  120.65070316]\n",
            "152.0919858771026 [  37.91906207 -120.04342534  427.52427524  291.57279182  -12.19176955\n",
            "  -75.33674477 -188.81254934  119.5396687   385.81340367  120.59473916]\n",
            "152.09178165919795 [  37.84377627 -120.23313573  427.76401159  291.70091115  -12.294019\n",
            "  -75.49526194 -188.84658166  119.48935977  386.03361108  120.5387252 ]\n",
            "152.09157713029379 [  37.76857672 -120.42249332  428.00316161  291.82866949  -12.39603046\n",
            "  -75.65340006 -188.88043379  119.43909122  386.25340037  120.48266202]\n",
            "152.09137229685393 [  37.69346366 -120.61149844  428.24172707  291.95606811  -12.49780431\n",
            "  -75.8111597  -188.91410664  119.38886344  386.47277283  120.42655038]\n",
            "152.0911671652774 [  37.61843731 -120.80015144  428.47970973  292.08310827  -12.59934093\n",
            "  -75.96854146 -188.94760112  119.33867685  386.69172976  120.37039099]\n",
            "152.09096174189915 [  37.54349792 -120.98845267  428.71711132  292.20979124  -12.70064068\n",
            "  -76.12554592 -188.98091817  119.28853185  386.91027243  120.31418458]\n",
            "152.09075603299047 [  37.4686457  -121.17640248  428.9539336   292.33611827  -12.80170393\n",
            "  -76.28217367 -189.01405867  119.23842884  387.12840211  120.25793189]\n",
            "152.0905500447598 [  37.39388088 -121.36400122  429.19017828  292.4620906   -12.90253108\n",
            "  -76.43842531 -189.04702353  119.18836821  387.34612008  120.20163362]\n",
            "152.09034378335303 [  37.31920368 -121.55124925  429.4258471   292.58770948  -13.00312249\n",
            "  -76.59430144 -189.07981365  119.13835035  387.56342759  120.14529048]\n",
            "152.0901372548544 [  37.24461431 -121.73814691  429.66094177  292.71297615  -13.10347854\n",
            "  -76.74980264 -189.11242992  119.08837564  387.7803259   120.08890317]\n",
            "152.08993046528673 [  37.17011298 -121.92469457  429.895464    292.83789183  -13.20359963\n",
            "  -76.90492952 -189.14487321  119.03844446  387.99681624  120.03247241]\n",
            "152.08972342061227 [  37.09569991 -122.11089259  430.1294155   292.96245774  -13.30348613\n",
            "  -77.05968268 -189.17714442  118.98855716  388.21289986  119.97599887]\n",
            "152.08951612673306 [  37.02137529 -122.29674132  430.36279794  293.0866751   -13.40313844\n",
            "  -77.21406272 -189.2092444   118.93871413  388.428578    119.91948326]\n",
            "152.0893085894916 [  36.94713932 -122.48224113  430.59561303  293.21054513  -13.50255694\n",
            "  -77.36807024 -189.24117403  118.88891572  388.64385187  119.86292624]\n",
            "152.0891008146713 [  36.87299222 -122.66739238  430.82786244  293.33406902  -13.60174202\n",
            "  -77.52170586 -189.27293418  118.83916229  388.8587227   119.80632851]\n",
            "152.08889280799713 [  36.79893416 -122.85219544  431.05954785  293.45724798  -13.70069409\n",
            "  -77.67497017 -189.30452569  118.78945418  389.0731917   119.74969072]\n",
            "152.08868457513609 [  36.72496535 -123.03665068  431.29067091  293.5800832   -13.79941352\n",
            "  -77.82786379 -189.33594942  118.73979174  389.28726007  119.69301355]\n",
            "152.0884761216977 [  36.65108597 -123.22075847  431.52123329  293.70257586  -13.89790073\n",
            "  -77.98038733 -189.36720622  118.69017531  389.50092902  119.63629766]\n",
            "152.08826745323472 [  36.5772962  -123.40451918  431.75123664  293.82472714  -13.9961561\n",
            "  -78.1325414  -189.39829692  118.64060523  389.71419973  119.57954371]\n",
            "152.08805857524342 [  36.50359623 -123.58793318  431.9806826   293.94653823  -14.09418005\n",
            "  -78.28432661 -189.42922236  118.59108182  389.92707339  119.52275234]\n",
            "152.08784949316424 [  36.42998623 -123.77100084  432.2095728   294.06801029  -14.19197297\n",
            "  -78.43574358 -189.45998338  118.54160541  390.13955119  119.4659242 ]\n",
            "152.0876402123823 [  36.35646639 -123.95372255  432.43790889  294.18914448  -14.28953526\n",
            "  -78.58679293 -189.4905808   118.49217632  390.35163429  119.40905994]\n",
            "152.08743073822788 [  36.28303687 -124.13609868  432.66569247  294.30994196  -14.38686733\n",
            "  -78.73747527 -189.52101543  118.44279487  390.56332387  119.35216018]\n",
            "152.08722107597697 [  36.20969784 -124.31812962  432.89292517  294.43040389  -14.48396959\n",
            "  -78.88779123 -189.5512881   118.39346137  390.77462109  119.29522557]\n",
            "152.0870112308517 [  36.13644947 -124.49981573  433.1196086   294.55053141  -14.58084245\n",
            "  -79.03774142 -189.5813996   118.34417612  390.98552709  119.23825673]\n",
            "152.08680120802083 [  36.06329193 -124.68115741  433.34574436  294.67032566  -14.67748632\n",
            "  -79.18732646 -189.61135076  118.29493943  391.19604304  119.18125427]\n",
            "152.08659101260037 [  35.99022536 -124.86215504  433.57133403  294.78978778  -14.7739016\n",
            "  -79.33654699 -189.64114237  118.24575159  391.40617006  119.12421882]\n",
            "152.08638064965396 [  35.91724994 -125.042809    433.79637923  294.9089189   -14.87008872\n",
            "  -79.48540362 -189.67077522  118.1966129   391.61590931  119.06715098]\n",
            "152.0861701241933 [  35.84436581 -125.22311969  434.02088151  295.02772015  -14.96604808\n",
            "  -79.63389697 -189.70025011  118.14752364  391.82526191  119.01005136]\n",
            "152.08595944117877 [  35.77157313 -125.40308749  434.24484247  295.14619263  -15.06178011\n",
            "  -79.78202769 -189.72956782  118.0984841   392.03422899  118.95292057]\n",
            "152.0857486055198 [  35.69887204 -125.58271279  434.46826367  295.26433747  -15.15728522\n",
            "  -79.92979639 -189.75872912  118.04949456  392.24281166  118.89575921]\n",
            "152.0855376220754 [  35.62626269 -125.76199598  434.69114667  295.38215578  -15.25256383\n",
            "  -80.07720371 -189.78773481  118.00055529  392.45101104  118.83856785]\n",
            "152.08532649565458 [  35.55374522 -125.94093746  434.91349303  295.49964866  -15.34761636\n",
            "  -80.22425027 -189.81658564  117.95166656  392.65882824  118.7813471 ]\n",
            "152.0851152310168 [  35.48131977 -126.11953763  435.13530429  295.6168172   -15.44244323\n",
            "  -80.37093671 -189.84528239  117.90282865  392.86626435  118.72409754]\n",
            "152.0849038328725 [  35.40898649 -126.29779687  435.35658201  295.7336625   -15.53704486\n",
            "  -80.51726365 -189.87382582  117.85404181  393.07332048  118.66681974]\n",
            "152.0846923058835 [  35.3367455  -126.47571558  435.57732772  295.85018565  -15.63142169\n",
            "  -80.66323175 -189.90221668  117.8053063   393.27999772  118.60951428]\n",
            "152.08448065466342 [  35.26459694 -126.65329416  435.79754294  295.96638773  -15.72557412\n",
            "  -80.80884161 -189.93045573  117.75662238  393.48629715  118.55218173]\n",
            "152.08426888377818 [  35.19254093 -126.83053302  436.01722921  296.08226981  -15.8195026\n",
            "  -80.9540939  -189.95854371  117.70799029  393.69221984  118.49482266]\n",
            "152.08405699774644 [  35.12057761 -127.00743256  436.23638804  296.19783298  -15.91320755\n",
            "  -81.09898923 -189.98648138  117.65941029  393.89776689  118.43743762]\n",
            "152.08384500103998 [  35.04870709 -127.18399316  436.45502094  296.31307829  -16.00668939\n",
            "  -81.24352825 -190.01426946  117.61088261  394.10293934  118.38002718]\n",
            "152.0836328980842 [  34.97692951 -127.36021525  436.67312942  296.4280068   -16.09994857\n",
            "  -81.3877116  -190.04190869  117.56240749  394.30773827  118.32259188]\n",
            "152.08342069325852 [  34.90524497 -127.53609922  436.89071498  296.54261958  -16.1929855\n",
            "  -81.53153991 -190.06939981  117.51398517  394.51216473  118.26513227]\n",
            "152.08320839089677 [  34.83365359 -127.71164549  437.10777911  296.65691768  -16.28580062\n",
            "  -81.67501383 -190.09674354  117.46561588  394.71621978  118.2076489 ]\n",
            "152.08299599528766 [  34.76215549 -127.88685445  437.3243233   296.77090215  -16.37839437\n",
            "  -81.81813399 -190.12394059  117.41729984  394.91990446  118.15014231]\n",
            "152.08278351067517 [  34.69075077 -128.06172652  437.54034903  296.88457402  -16.47076718\n",
            "  -81.96090104 -190.1509917   117.36903729  395.12321981  118.09261303]\n",
            "152.082570941259 [  34.61943955 -128.23626211  437.75585777  296.99793433  -16.56291948\n",
            "  -82.10331562 -190.17789756  117.32082842  395.32616687  118.03506159]\n",
            "152.08235829119494 [  34.54822194 -128.41046162  437.970851    297.11098412  -16.65485171\n",
            "  -82.24537838 -190.2046589   117.27267347  395.52874667  117.97748853]\n",
            "152.08214556459524 [  34.47709803 -128.58432547  438.18533017  297.22372442  -16.74656431\n",
            "  -82.38708995 -190.23127641  117.22457265  395.73096024  117.91989435]\n",
            "152.08193276552916 [  34.40606793 -128.75785407  438.39929675  297.33615624  -16.83805771\n",
            "  -82.52845099 -190.25775079  117.17652615  395.9328086   117.86227959]\n",
            "152.08171989802318 [  34.33513174 -128.93104784  438.61275219  297.4482806   -16.92933236\n",
            "  -82.66946213 -190.28408274  117.12853419  396.13429276  117.80464476]\n",
            "152.08150696606154 [  34.26428955 -129.10390719  438.82569793  297.56009853  -17.0203887\n",
            "  -82.81012403 -190.31027295  117.08059697  396.33541374  117.74699037]\n",
            "152.0812939735865 [  34.19354146 -129.27643254  439.03813542  297.67161102  -17.11122716\n",
            "  -82.95043732 -190.33632211  117.03271469  396.53617253  117.68931692]\n",
            "152.08108092449893 [  34.12288756 -129.44862431  439.25006608  297.78281909  -17.20184819\n",
            "  -83.09040267 -190.3622309   116.98488753  396.73657015  117.63162491]\n",
            "152.08086782265843 [  34.05232793 -129.62048291  439.46149134  297.89372373  -17.29225223\n",
            "  -83.2300207  -190.38800001  116.93711569  396.93660758  117.57391486]\n",
            "152.08065467188393 [  33.98186268 -129.79200876  439.67241264  298.00432593  -17.38243972\n",
            "  -83.36929208 -190.4136301   116.88939936  397.13628583  117.51618725]\n",
            "152.08044147595396 [  33.91149188 -129.96320228  439.88283138  298.11462669  -17.47241111\n",
            "  -83.50821746 -190.43912186  116.84173872  397.33560586  117.45844257]\n",
            "152.08022823860708 [  33.84121561 -130.1340639   440.09274899  298.224627    -17.56216685\n",
            "  -83.64679747 -190.46447594  116.79413395  397.53456867  117.40068132]\n",
            "152.08001496354217 [  33.77103395 -130.30459404  440.30216685  298.33432783  -17.65170737\n",
            "  -83.78503277 -190.48969301  116.74658523  397.73317523  117.34290397]\n",
            "152.07980165441884 [  33.700947   -130.47479312  440.51108638  298.44373016  -17.74103312\n",
            "  -83.92292402 -190.51477373  116.69909272  397.93142651  117.285111  ]\n",
            "152.07958831485792 [  33.63095481 -130.64466156  440.71950897  298.55283496  -17.83014456\n",
            "  -84.06047185 -190.53971875  116.65165661  398.12932348  117.2273029 ]\n",
            "152.0793749484415 [  33.56105747 -130.81419979  440.92743602  298.6616432   -17.91904212\n",
            "  -84.19767693 -190.56452873  116.60427706  398.32686711  117.16948013]\n",
            "152.07916155871368 [  33.49125504 -130.98340824  441.13486889  298.77015585  -18.00772626\n",
            "  -84.3345399  -190.58920432  116.55695424  398.52405834  117.11164317]\n",
            "152.0789481491806 [  33.4215476  -131.15228733  441.34180898  298.87837387  -18.09619743\n",
            "  -84.47106141 -190.61374616  116.5096883   398.72089814  117.05379247]\n",
            "152.07873472331102 [  33.35193522 -131.32083748  441.54825766  298.9862982   -18.18445607\n",
            "  -84.60724213 -190.63815489  116.4624794   398.91738745  116.99592851]\n",
            "152.0785212845365 [  33.28241795 -131.48905914  441.75421629  299.0939298   -18.27250263\n",
            "  -84.74308269 -190.66243115  116.41532769  399.11352721  116.93805173]\n",
            "152.07830783625184 [  33.21299587 -131.65695273  441.95968624  299.20126963  -18.36033757\n",
            "  -84.87858375 -190.68657556  116.36823334  399.30931837  116.8801626 ]\n",
            "152.07809438181542 [  33.14366904 -131.82451867  442.16466886  299.30831861  -18.44796134\n",
            "  -85.01374598 -190.71058877  116.32119649  399.50476185  116.82226156]\n",
            "152.07788092454948 [  33.07443751 -131.99175741  442.36916551  299.41507768  -18.53537438\n",
            "  -85.14857001 -190.73447139  116.27421727  399.6998586   116.76434906]\n",
            "152.0776674677405 [  33.00530135 -132.15866937  442.57317754  299.52154779  -18.62257716\n",
            "  -85.2830565  -190.75822405  116.22729585  399.89460953  116.70642555]\n",
            "152.07745401463953 [  32.93626061 -132.32525498  442.77670628  299.62772985  -18.70957012\n",
            "  -85.41720611 -190.78184737  116.18043235  400.08901556  116.64849147]\n",
            "152.0772405684625 [  32.86731534 -132.49151468  442.97975308  299.73362481  -18.79635371\n",
            "  -85.55101949 -190.80534195  116.13362691  400.28307762  116.59054725]\n",
            "152.07702713239058 [  32.7984656  -132.6574489   443.18231926  299.83923356  -18.8829284\n",
            "  -85.6844973  -190.82870842  116.08687968  400.47679662  116.53259333]\n",
            "152.0768137095705 [  32.72971143 -132.82305807  443.38440615  299.94455705  -18.96929462\n",
            "  -85.81764018 -190.85194738  116.04019077  400.67017346  116.47463014]\n",
            "152.07660030311476 [  32.66105289 -132.98834264  443.58601508  300.04959617  -19.05545285\n",
            "  -85.9504488  -190.87505943  115.99356032  400.86320905  116.41665811]\n",
            "152.07638691610214 [  32.59249001 -133.15330304  443.78714735  300.15435183  -19.14140353\n",
            "  -86.0829238  -190.89804517  115.94698845  401.0559043   116.35867765]\n",
            "152.07617355157785 [  32.52402286 -133.31793971  443.98780429  300.25882495  -19.22714711\n",
            "  -86.21506585 -190.92090521  115.90047529  401.24826008  116.3006892 ]\n",
            "152.07596021255392 [  32.45565146 -133.48225308  444.18798719  300.36301642  -19.31268406\n",
            "  -86.3468756  -190.94364013  115.85402095  401.44027731  116.24269317]\n",
            "152.07574690200957 [  32.38737586 -133.64624359  444.38769736  300.46692713  -19.39801482\n",
            "  -86.4783537  -190.96625053  115.80762556  401.63195686  116.18468997]\n",
            "152.07553362289127 [  32.31919609 -133.80991168  444.5869361   300.57055799  -19.48313986\n",
            "  -86.60950081 -190.98873699  115.76128923  401.82329962  116.12668001]\n",
            "152.07532037811342 [  32.2511122  -133.9732578   444.7857047   300.67390989  -19.56805964\n",
            "  -86.74031758 -191.0111001   115.71501207  402.01430647  116.0686637 ]\n",
            "152.07510717055825 [  32.18312423 -134.13628237  444.98400444  300.77698369  -19.65277459\n",
            "  -86.87080467 -191.03334043  115.66879419  402.20497828  116.01064145]\n",
            "152.07489400307648 [  32.11523219 -134.29898585  445.18183661  300.8797803   -19.7372852\n",
            "  -87.00096274 -191.05545857  115.6226357   402.39531592  115.95261366]\n",
            "152.07468087848733 [  32.04743614 -134.46136867  445.37920247  300.98230059  -19.82159191\n",
            "  -87.13079243 -191.07745508  115.5765367   402.58532027  115.89458073]\n",
            "152.074467799579 [  31.97973609 -134.62343128  445.57610332  301.08454542  -19.90569517\n",
            "  -87.2602944  -191.09933054  115.5304973   402.77499218  115.83654304]\n",
            "152.07425476910882 [  31.91213207 -134.78517412  445.77254041  301.18651568  -19.98959545\n",
            "  -87.38946932 -191.12108552  115.4845176   402.96433252  115.778501  ]\n",
            "152.07404178980366 [  31.84462412 -134.94659763  445.968515    301.28821222  -20.07329321\n",
            "  -87.51831783 -191.14272057  115.43859768  403.15334214  115.720455  ]\n",
            "152.0738288643602 [  31.77721226 -135.10770226  446.16402836  301.38963591  -20.1567889\n",
            "  -87.64684059 -191.16423627  115.39273765  403.34202189  115.66240541]\n",
            "152.07361599544504 [  31.70989651 -135.26848845  446.35908174  301.49078761  -20.24008299\n",
            "  -87.77503825 -191.18563316  115.3469376   403.53037262  115.60435263]\n",
            "152.07340318569524 [  31.64267689 -135.42895665  446.55367639  301.59166817  -20.32317592\n",
            "  -87.90291148 -191.2069118   115.30119762  403.71839517  115.54629703]\n",
            "152.07319043771844 [  31.57555343 -135.58910729  446.74781354  301.69227845  -20.40606816\n",
            "  -88.03046091 -191.22807274  115.2555178   403.90609039  115.488239  ]\n",
            "152.07297775409313 [  31.50852614 -135.74894084  446.94149445  301.79261929  -20.48876017\n",
            "  -88.15768722 -191.24911654  115.20989822  404.0934591   115.4301789 ]\n",
            "152.07276513736898 [  31.44159504 -135.90845773  447.13472035  301.89269153  -20.5712524\n",
            "  -88.28459105 -191.27004373  115.16433896  404.28050215  115.3721171 ]\n",
            "152.0725525900671 [  31.37476015 -136.06765841  447.32749246  301.99249603  -20.65354532\n",
            "  -88.41117305 -191.29085485  115.11884011  404.46722036  115.31405398]\n",
            "152.07234011468023 [  31.30802148 -136.22654333  447.51981201  302.0920336   -20.73563938\n",
            "  -88.53743389 -191.31155046  115.07340174  404.65361456  115.25598991]\n",
            "152.07212771367315 [  31.24137904 -136.38511293  447.71168023  302.1913051   -20.81753504\n",
            "  -88.66337421 -191.33213107  115.02802393  404.83968557  115.19792524]\n",
            "152.07191538948283 [  31.17483285 -136.54336768  447.90309833  302.29031134  -20.89923277\n",
            "  -88.78899467 -191.35259723  114.98270675  405.0254342   115.13986034]\n",
            "152.0717031445187 [  31.10838292 -136.701308    448.09406753  302.38905316  -20.98073302\n",
            "  -88.91429593 -191.37294946  114.93745028  405.21086128  115.08179556]\n",
            "152.07149098116292 [  31.04202925 -136.85893436  448.28458902  302.48753137  -21.06203625\n",
            "  -89.03927863 -191.39318829  114.89225458  405.3959676   115.02373125]\n",
            "152.07127890177068 [  30.97577184 -137.01624721  448.47466403  302.5857468   -21.14314291\n",
            "  -89.16394343 -191.41331425  114.84711973  405.58075399  114.96566778]\n",
            "152.07106690867042 [  30.90961072 -137.17324698  448.66429374  302.68370026  -21.22405348\n",
            "  -89.28829098 -191.43332785  114.80204578  405.76522124  114.90760549]\n",
            "152.070855004164 [  30.84354587 -137.32993414  448.85347935  302.78139256  -21.3047684\n",
            "  -89.41232193 -191.45322962  114.75703281  405.94937014  114.84954473]\n",
            "152.0706431905271 [  30.7775773  -137.48630914  449.04222205  302.87882452  -21.38528815\n",
            "  -89.53603695 -191.47302007  114.71208086  406.13320151  114.79148583]\n",
            "152.0704314700094 [  30.71170502 -137.64237242  449.23052304  302.97599694  -21.46561316\n",
            "  -89.65943667 -191.49269971  114.66719001  406.31671613  114.73342915]\n",
            "152.07021984483472 [  30.64592902 -137.79812445  449.41838348  303.07291061  -21.54574392\n",
            "  -89.78252176 -191.51226904  114.6223603   406.4999148   114.67537502]\n",
            "152.07000831720146 [  30.5802493  -137.95356566  449.60580456  303.16956635  -21.62568086\n",
            "  -89.90529285 -191.53172859  114.5775918   406.68279829  114.61732377]\n",
            "152.06979688928266 [  30.51466586 -138.10869651  449.79278746  303.26596494  -21.70542446\n",
            "  -90.02775061 -191.55107885  114.53288455  406.86536739  114.55927575]\n",
            "152.06958556322635 [  30.4491787  -138.26351746  449.97933333  303.36210718  -21.78497518\n",
            "  -90.14989569 -191.57032031  114.48823861  407.04762288  114.50123128]\n",
            "152.06937434115576 [  30.3837878  -138.41802896  450.16544336  303.45799386  -21.86433346\n",
            "  -90.27172873 -191.58945349  114.44365403  407.22956554  114.44319068]\n",
            "152.06916322516952 [  30.31849316 -138.57223147  450.35111869  303.55362576  -21.94349977\n",
            "  -90.39325038 -191.60847888  114.39913085  407.41119614  114.3851543 ]\n",
            "152.0689522173419 [  30.25329478 -138.72612542  450.53636049  303.64900366  -22.02247458\n",
            "  -90.5144613  -191.62739696  114.35466912  407.59251544  114.32712244]\n",
            "152.06874131972302 [  30.18819264 -138.87971129  450.72116991  303.74412835  -22.10125833\n",
            "  -90.63536213 -191.64620823  114.31026888  407.77352423  114.26909543]\n",
            "152.06853053433917 [  30.12318673 -139.03298952  450.9055481   303.8390006   -22.17985148\n",
            "  -90.75595353 -191.66491318  114.26593017  407.95422325  114.21107359]\n",
            "152.06831986319298 [  30.05827705 -139.18596057  451.0894962   303.93362118  -22.2582545\n",
            "  -90.87623613 -191.68351228  114.22165304  408.13461327  114.15305724]\n",
            "152.06810930826356 [  29.99346357 -139.3386249   451.27301535  304.02799087  -22.33646784\n",
            "  -90.9962106  -191.70200603  114.17743752  408.31469504  114.09504669]\n",
            "152.06789887150686 [  29.92874628 -139.49098295  451.45610669  304.12211042  -22.41449196\n",
            "  -91.11587757 -191.7203949   114.13328364  408.49446932  114.03704224]\n",
            "152.06768855485575 [  29.86412517 -139.64303519  451.63877136  304.2159806   -22.49232731\n",
            "  -91.2352377  -191.73867937  114.08919145  408.67393686  113.97904422]\n",
            "152.0674783602204 [  29.79960022 -139.79478207  451.82101048  304.30960218  -22.56997436\n",
            "  -91.35429163 -191.75685991  114.04516097  408.8530984   113.92105291]\n",
            "152.06726828948837 [  29.73517142 -139.94622405  452.00282517  304.4029759   -22.64743356\n",
            "  -91.47304    -191.77493699  114.00119224  409.0319547   113.86306864]\n",
            "152.06705834452478 [  29.67083873 -140.09736157  452.18421657  304.49610253  -22.72470537\n",
            "  -91.59148347 -191.79291109  113.95728528  409.21050648  113.8050917 ]\n",
            "152.0668485271727 [  29.60660215 -140.24819511  452.36518577  304.58898281  -22.80179024\n",
            "  -91.70962267 -191.81078266  113.91344012  409.38875449  113.74712239]\n",
            "152.06663883925324 [  29.54246164 -140.39872511  452.54573391  304.6816175   -22.87868864\n",
            "  -91.82745826 -191.82855218  113.86965679  409.56669947  113.689161  ]\n",
            "152.06642928256574 [  29.47841719 -140.54895203  452.72586208  304.77400733  -22.95540101\n",
            "  -91.94499088 -191.8462201   113.82593531  409.74434214  113.63120784]\n",
            "152.066219858888 [  29.41446878 -140.69887634  452.9055714   304.86615305  -23.03192782\n",
            "  -92.06222117 -191.86378689  113.78227571  409.92168323  113.57326319]\n",
            "152.06601056997647 [  29.35061637 -140.84849847  453.08486296  304.95805539  -23.10826952\n",
            "  -92.17914977 -191.88125299  113.738678    410.09872347  113.51532735]\n",
            "152.0658014175666 [  29.28685995 -140.99781891  453.26373786  305.0497151   -23.18442656\n",
            "  -92.29577733 -191.89861887  113.69514221  410.27546358  113.45740059]\n",
            "152.06559240337276 [  29.22319947 -141.14683809  453.44219719  305.14113291  -23.26039941\n",
            "  -92.41210449 -191.91588497  113.65166834  410.45190428  113.39948322]\n",
            "152.06538352908865 [  29.15963493 -141.29555648  453.62024205  305.23230954  -23.33618851\n",
            "  -92.52813189 -191.93305175  113.60825643  410.62804629  113.34157551]\n",
            "152.06517479638748 [  29.09616628 -141.44397454  453.79787353  305.32324572  -23.41179431\n",
            "  -92.64386017 -191.95011964  113.56490647  410.80389031  113.28367775]\n",
            "152.06496620692207 [  29.03279349 -141.59209272  453.97509269  305.41394218  -23.48721729\n",
            "  -92.75928998 -191.9670891   113.52161849  410.97943708  113.2257902 ]\n",
            "152.06475776232506 [  28.96951654 -141.73991148  454.15190063  305.50439963  -23.56245788\n",
            "  -92.87442195 -191.98396056  113.4783925   411.15468728  113.16791316]\n",
            "152.0645494642092 [  28.90633539 -141.88743128  454.32829842  305.5946188   -23.63751654\n",
            "  -92.98925672 -192.00073447  113.43522851  411.32964162  113.11004689]\n",
            "152.06434131416742 [  28.84325001 -142.03465259  454.50428713  305.68460041  -23.71239373\n",
            "  -93.10379493 -192.01741126  113.39212652  411.50430082  113.05219167]\n",
            "152.06413331377314 [  28.78026035 -142.18157585  454.67986783  305.77434515  -23.7870899\n",
            "  -93.21803722 -192.03399137  113.34908654  411.67866556  112.99434777]\n",
            "152.06392546458028 [  28.7173664  -142.32820152  454.85504158  305.86385375  -23.86160549\n",
            "  -93.33198422 -192.05047523  113.30610858  411.85273654  112.93651546]\n",
            "152.06371776812364 [  28.65456811 -142.47453007  455.02980944  305.95312691  -23.93594097\n",
            "  -93.44563658 -192.06686327  113.26319264  412.02651446  112.878695  ]\n",
            "152.06351022591895 [  28.59186543 -142.62056196  455.20417247  306.04216534  -24.01009679\n",
            "  -93.55899493 -192.08315591  113.22033873  412.20000001  112.82088666]\n",
            "152.06330283946306 [  28.52925834 -142.76629763  455.37813172  306.13096973  -24.08407339\n",
            "  -93.67205991 -192.09935358  113.17754684  412.37319388  112.7630907 ]\n",
            "152.0630956102342 [  28.4667468  -142.91173756  455.55168825  306.21954078  -24.15787123\n",
            "  -93.78483214 -192.11545671  113.13481698  412.54609675  112.70530739]\n",
            "152.06288853969212 [  28.40433075 -143.05688219  455.7248431   306.3078792   -24.23149075\n",
            "  -93.89731227 -192.13146572  113.09214914  412.71870931  112.64753697]\n",
            "152.0626816292782 [  28.34201017 -143.201732    455.89759731  306.39598567  -24.30493242\n",
            "  -94.00950093 -192.14738102  113.04954332  412.89103223  112.58977971]\n",
            "152.06247488041566 [  28.27978501 -143.34628743  456.06995192  306.48386088  -24.37819667\n",
            "  -94.12139875 -192.16320304  113.00699952  413.0630662   112.53203587]\n",
            "152.06226829450986 [  28.21765522 -143.49054895  456.24190796  306.57150552  -24.45128396\n",
            "  -94.23300636 -192.17893218  112.96451774  413.23481188  112.47430568]\n",
            "152.06206187294822 [  28.15562076 -143.63451702  456.41346648  306.65892028  -24.52419473\n",
            "  -94.3443244  -192.19456885  112.92209796  413.40626995  112.41658942]\n",
            "152.06185561710063 [  28.09368158 -143.77819209  456.5846285   306.74610583  -24.59692944\n",
            "  -94.4553535  -192.21011348  112.87974017  413.57744109  112.35888731]\n",
            "152.06164952831944 [  28.03183765 -143.92157463  456.75539503  306.83306287  -24.66948853\n",
            "  -94.56609428 -192.22556646  112.83744437  413.74832595  112.30119962]\n",
            "152.0614436079398 [  27.97008891 -144.06466509  456.92576712  306.91979205  -24.74187246\n",
            "  -94.67654737 -192.2409282   112.79521055  413.9189252   112.24352658]\n",
            "152.06123785727962 [  27.90843531 -144.20746393  457.09574577  307.00629407  -24.81408166\n",
            "  -94.78671341 -192.2561991   112.7530387   414.08923951  112.18586844]\n",
            "152.0610322776399 [  27.84687681 -144.34997162  457.26533199  307.09256959  -24.88611658\n",
            "  -94.89659303 -192.27137958  112.7109288   414.25926953  112.12822544]\n",
            "152.06082687030482 [  27.78541335 -144.4921886   457.43452681  307.17861928  -24.95797768\n",
            "  -95.00618684 -192.28647001  112.66888083  414.42901592  112.07059782]\n",
            "152.06062163654195 [  27.72404488 -144.63411535  457.60333123  307.2644438   -25.02966539\n",
            "  -95.11549548 -192.30147081  112.62689479  414.59847933  112.01298582]\n",
            "152.0604165776023 [  27.66277136 -144.77575232  457.77174625  307.35004383  -25.10118016\n",
            "  -95.22451958 -192.31638237  112.58497066  414.76766042  111.95538966]\n",
            "152.06021169472058 [  27.60159273 -144.91709996  457.93977288  307.43542001  -25.17252244\n",
            "  -95.33325975 -192.33120508  112.54310841  414.93655983  111.8978096 ]\n",
            "152.06000698911535 [  27.54050894 -145.05815875  458.10741211  307.52057302  -25.24369267\n",
            "  -95.44171662 -192.34593932  112.50130803  415.10517822  111.84024585]\n",
            "152.0598024619891 [  27.47951993 -145.19892913  458.27466495  307.6055035   -25.31469129\n",
            "  -95.54989082 -192.3605855   112.45956951  415.27351622  111.78269865]\n",
            "152.0595981145285 [  27.41862566 -145.33941157  458.44153237  307.69021211  -25.38551875\n",
            "  -95.65778296 -192.375144    112.4178928   415.44157447  111.72516822]\n",
            "152.0593939479045 [  27.35782605 -145.47960652  458.60801538  307.77469951  -25.4561755\n",
            "  -95.76539368 -192.38961519  112.37627791  415.60935363  111.6676548 ]\n",
            "152.05918996327244 [  27.29712107 -145.61951445  458.77411495  307.85896633  -25.52666196\n",
            "  -95.87272359 -192.40399948  112.3347248   415.77685431  111.6101586 ]\n",
            "152.05898616177228 [  27.23651064 -145.75913581  458.93983207  307.94301324  -25.59697859\n",
            "  -95.97977331 -192.41829722  112.29323344  415.94407717  111.55267986]\n",
            "152.05878254452873 [  27.17599472 -145.89847107  459.10516771  308.02684086  -25.66712582\n",
            "  -96.08654346 -192.43250881  112.25180381  416.11102283  111.49521879]\n",
            "152.05857911265127 [  27.11557324 -146.03752067  459.27012286  308.11044984  -25.7371041\n",
            "  -96.19303467 -192.44663463  112.21043589  416.27769191  111.43777561]\n",
            "152.0583758672346 [  27.05524614 -146.17628509  459.43469849  308.19384083  -25.80691386\n",
            "  -96.29924754 -192.46067504  112.16912965  416.44408506  111.38035054]\n",
            "152.05817280935833 [  26.99501337 -146.31476477  459.59889556  308.27701445  -25.87655555\n",
            "  -96.4051827  -192.47463042  112.12788506  416.61020289  111.3229438 ]\n",
            "152.05796994008762 [  26.93487487 -146.45296018  459.76271504  308.35997135  -25.94602961\n",
            "  -96.51084076 -192.48850114  112.08670208  416.77604602  111.26555559]\n",
            "152.05776726047296 [  26.87483056 -146.59087177  459.92615789  308.44271215  -26.01533646\n",
            "  -96.61622234 -192.50228757  112.04558069  416.94161508  111.20818615]\n",
            "152.0575647715504 [  26.8148804  -146.72850001  460.08922508  308.52523748  -26.08447656\n",
            "  -96.72132805 -192.51599007  112.00452086  417.10691068  111.15083566]\n",
            "152.05736247434177 [  26.75502432 -146.86584535  460.25191756  308.60754797  -26.15345033\n",
            "  -96.8261585  -192.52960902  111.96352255  417.27193345  111.09350436]\n",
            "152.0571603698548 [  26.69526224 -147.00290825  460.41423628  308.68964425  -26.22225822\n",
            "  -96.93071432 -192.54314478  111.92258573  417.43668398  111.03619244]\n",
            "152.05695845908312 [  26.63559412 -147.13968917  460.5761822   308.77152693  -26.29090066\n",
            "  -97.03499611 -192.5565977   111.88171037  417.60116291  110.9789001 ]\n",
            "152.0567567430066 [  26.57601988 -147.27618857  460.73775627  308.85319664  -26.35937808\n",
            "  -97.13900449 -192.56996816  111.84089642  417.76537083  110.92162756]\n",
            "152.05655522259127 [  26.51653946 -147.4124069   460.89895942  308.93465399  -26.42769092\n",
            "  -97.24274005 -192.58325649  111.80014385  417.92930834  110.86437502]\n",
            "152.0563538987897 [  26.45715279 -147.54834462  461.0597926   309.0158996   -26.49583962\n",
            "  -97.34620343 -192.59646307  111.75945263  418.09297607  110.80714268]\n",
            "152.05615277254083 [  26.39785981 -147.68400218  461.22025675  309.09693409  -26.5638246\n",
            "  -97.44939521 -192.60958825  111.71882271  418.2563746   110.74993074]\n",
            "152.0559518447704 [  26.33866044 -147.81938006  461.38035281  309.17775806  -26.6316463\n",
            "  -97.55231601 -192.62263238  111.67825407  418.41950455  110.6927394 ]\n",
            "152.05575111639084 [  26.27955462 -147.95447869  461.5400817   309.25837212  -26.69930516\n",
            "  -97.65496645 -192.6355958   111.63774664  418.5823665   110.63556885]\n",
            "152.05555058830157 [  26.22054229 -148.08929855  461.69944436  309.33877688  -26.7668016\n",
            "  -97.75734711 -192.64847887  111.5973004   418.74496105  110.57841929]\n",
            "152.055350261389 [  26.16162336 -148.22384009  461.85844171  309.41897294  -26.83413606\n",
            "  -97.85945862 -192.66128194  111.55691531  418.9072888   110.52129092]\n",
            "152.0551501365268 [  26.10279777 -148.35810376  462.01707467  309.49896091  -26.90130897\n",
            "  -97.96130157 -192.67400535  111.51659131  419.06935034  110.46418393]\n",
            "152.05495021457583 [  26.04406545 -148.49209001  462.17534418  309.57874138  -26.96832075\n",
            "  -98.06287656 -192.68664945  111.47632837  419.23114625  110.4070985 ]\n",
            "152.05475049638437 [  25.98542633 -148.62579932  462.33325114  309.65831494  -27.03517184\n",
            "  -98.16418421 -192.69921457  111.43612644  419.39267713  110.35003483]\n",
            "152.05455098278836 [  25.92688034 -148.75923213  462.49079647  309.73768221  -27.10186266\n",
            "  -98.26522511 -192.71170107  111.39598548  419.55394357  110.29299311]\n",
            "152.05435167461124 [  25.8684274  -148.8923889   462.64798108  309.81684376  -27.16839364\n",
            "  -98.36599986 -192.72410926  111.35590543  419.71494614  110.23597352]\n",
            "152.05415257266432 [  25.81006743 -149.02527008  462.80480589  309.8958002   -27.23476521\n",
            "  -98.46650906 -192.7364395   111.31588626  419.87568542  110.17897625]\n",
            "152.05395367774685 [  25.75180038 -149.15787613  462.96127179  309.9745521   -27.3009778\n",
            "  -98.56675331 -192.74869212  111.27592791  420.036162    110.12200148]\n",
            "152.05375499064596 [  25.69362615 -149.29020751  463.1173797   310.05310005  -27.36703183\n",
            "  -98.66673322 -192.76086745  111.23603034  420.19637645  110.06504939]\n",
            "152.053556512137 [  25.63554468 -149.42226467  463.27313051  310.13144465  -27.43292772\n",
            "  -98.76644937 -192.77296582  111.1961935   420.35632935  110.00812017]\n",
            "152.0533582429836 [  25.57755589 -149.55404806  463.42852512  310.20958646  -27.49866591\n",
            "  -98.86590236 -192.78498757  111.15641733  420.51602126  109.95121399]\n",
            "152.05316018393765 [  25.51965971 -149.68555815  463.58356442  310.28752608  -27.56424681\n",
            "  -98.96509279 -192.79693301  111.11670178  420.67545277  109.89433104]\n",
            "152.0529623357396 [  25.46185606 -149.81679538  463.73824932  310.36526407  -27.62967085\n",
            "  -99.06402126 -192.80880249  111.07704681  420.83462444  109.83747148]\n",
            "152.05276469911846 [  25.40414485 -149.94776021  463.89258069  310.44280102  -27.69493845\n",
            "  -99.16268835 -192.82059632  111.03745236  420.99353684  109.78063549]\n",
            "152.0525672747919 [  25.34652602 -150.0784531   464.04655942  310.5201375   -27.76005003\n",
            "  -99.26109466 -192.83231483  110.99791838  421.15219053  109.72382326]\n",
            "152.05237006346644 [  25.28899948 -150.20887449  464.2001864   310.59727407  -27.82500602\n",
            "  -99.35924077 -192.84395833  110.95844481  421.31058608  109.66703494]\n",
            "152.05217306583754 [  25.23156516 -150.33902485  464.35346252  310.67421132  -27.88980683\n",
            "  -99.4571273  -192.85552716  110.9190316   421.46872404  109.61027071]\n",
            "152.05197628258964 [  25.17422298 -150.46890462  464.50638864  310.7509498   -27.95445289\n",
            "  -99.55475481 -192.86702163  110.8796787   421.62660498  109.55353075]\n",
            "152.05177971439628 [  25.11697285 -150.59851426  464.65896564  310.82749009  -28.01894461\n",
            "  -99.6521239  -192.87844205  110.84038604  421.78422946  109.49681521]\n",
            "152.0515833619203 [  25.0598147  -150.72785422  464.8111944   310.90383274  -28.08328241\n",
            "  -99.74923516 -192.88978874  110.80115357  421.94159802  109.44012427]\n",
            "152.05138722581393 [  25.00274845 -150.85692495  464.96307579  310.97997832  -28.14746671\n",
            "  -99.84608917 -192.90106202  110.76198124  422.09871123  109.38345809]\n",
            "152.05119130671866 [  24.94577401 -150.98572691  465.11461067  311.05592739  -28.21149792\n",
            "  -99.94268652 -192.9122622   110.72286898  422.25556963  109.32681684]\n",
            "152.05099560526577 [  24.8888913  -151.11426055  465.26579991  311.1316805   -28.27537647\n",
            " -100.0390278  -192.92338958  110.68381674  422.41217378  109.27020068]\n",
            "152.050800122076 [  24.83210025 -151.24252631  465.41664438  311.20723821  -28.33910277\n",
            " -100.13511358 -192.93444448  110.64482446  422.56852422  109.21360978]\n",
            "152.05060485775994 [  24.77540076 -151.37052466  465.56714492  311.28260107  -28.40267722\n",
            " -100.23094446 -192.94542722  110.60589208  422.7246215   109.15704428]\n",
            "152.05040981291802 [  24.71879275 -151.49825605  465.71730241  311.35776964  -28.46610026\n",
            " -100.32652101 -192.95633808  110.56701953  422.88046616  109.10050436]\n",
            "152.05021498814065 [  24.66227615 -151.62572092  465.86711769  311.43274446  -28.52937228\n",
            " -100.42184381 -192.96717738  110.52820676  423.03605875  109.04399016]\n",
            "152.0500203840082 [  24.60585086 -151.75291972  466.01659161  311.50752609  -28.59249371\n",
            " -100.51691345 -192.97794542  110.4894537   423.1913998   108.98750186]\n",
            "152.0498260010913 [  24.54951681 -151.87985291  466.16572503  311.58211506  -28.65546495\n",
            " -100.61173051 -192.98864251  110.45076029  423.34648986  108.9310396 ]\n",
            "152.0496318399508 [  24.4932739  -152.00652094  466.31451879  311.65651192  -28.71828642\n",
            " -100.70629555 -192.99926894  110.41212648  423.50132946  108.87460353]\n",
            "152.04943790113782 [  24.43712206 -152.13292425  466.46297373  311.73071721  -28.78095852\n",
            " -100.80060917 -193.00982501  110.37355219  423.65591913  108.81819382]\n",
            "152.049244185194 [  24.38106119 -152.2590633   466.6110907   311.80473148  -28.84348167\n",
            " -100.89467193 -193.02031102  110.33503736  423.81025942  108.7618106 ]\n",
            "152.04905069265152 [  24.32509121 -152.38493853  466.75887054  311.87855526  -28.90585627\n",
            " -100.98848441 -193.03072727  110.29658192  423.96435085  108.70545404]\n",
            "152.04885742403312 [  24.26921203 -152.5105504   466.90631408  311.95218908  -28.96808274\n",
            " -101.08204718 -193.04107405  110.25818582  424.11819395  108.64912429]\n",
            "152.0486643798523 [  24.21342357 -152.63589936  467.05342216  312.02563349  -29.03016148\n",
            " -101.17536083 -193.05135165  110.21984898  424.27178925  108.59282148]\n",
            "152.0484715606134 [  24.15772574 -152.76098584  467.2001956   312.098889    -29.09209289\n",
            " -101.26842591 -193.06156037  110.18157134  424.42513727  108.53654578]\n",
            "152.0482789668116 [  24.10211845 -152.8858103   467.34663524  312.17195616  -29.15387739\n",
            " -101.361243   -193.07170049  110.14335283  424.57823855  108.48029732]\n",
            "152.04808659893308 [  24.0466016  -153.0103732   467.4927419   312.24483549  -29.21551537\n",
            " -101.45381267 -193.08177231  110.10519339  424.7310936   108.42407625]\n",
            "152.0478944574552 [  23.99117513 -153.13467496  467.63851641  312.31752752  -29.27700725\n",
            " -101.5461355  -193.09177612  110.06709294  424.88370295  108.36788271]\n",
            "152.0477025428463 [  23.93583892 -153.25871605  467.78395959  312.39003278  -29.33835342\n",
            " -101.63821204 -193.10171219  110.02905142  425.03606711  108.31171685]\n",
            "152.04751085556617 [  23.8805929  -153.38249691  467.92907225  312.46235177  -29.39955429\n",
            " -101.73004286 -193.11158081  109.99106876  425.18818661  108.2555788 ]\n",
            "152.04731939606583 [  23.82543698 -153.50601799  468.07385522  312.53448504  -29.46061026\n",
            " -101.82162854 -193.12138227  109.95314489  425.34006195  108.19946871]\n",
            "152.04712816478775 [  23.77037106 -153.62927973  468.2183093   312.60643309  -29.52152173\n",
            " -101.91296963 -193.13111686  109.91527974  425.49169366  108.14338673]\n",
            "152.046937162166 [  23.71539505 -153.75228258  468.36243532  312.67819645  -29.58228911\n",
            " -102.00406671 -193.14078484  109.87747324  425.64308224  108.08733297]\n",
            "152.04674638862608 [  23.66050886 -153.87502698  468.50623407  312.74977563  -29.64291279\n",
            " -102.09492032 -193.1503865   109.83972532  425.79422821  108.03130759]\n",
            "152.0465558445853 [  23.60571241 -153.99751338  468.64970637  312.82117114  -29.70339317\n",
            " -102.18553105 -193.15992211  109.8020359   425.94513207  107.97531072]\n",
            "152.04636553045273 [  23.5510056  -154.11974222  468.79285301  312.8923835   -29.76373065\n",
            " -102.27589943 -193.16939196  109.76440491  426.09579434  107.91934249]\n",
            "152.04617544662923 [  23.49638833 -154.24171396  468.93567481  312.96341321  -29.82392563\n",
            " -102.36602605 -193.17879633  109.72683229  426.24621552  107.86340303]\n",
            "152.04598559350765 [  23.44186052 -154.36342902  469.07817256  313.0342608   -29.88397851\n",
            " -102.45591145 -193.18813547  109.68931796  426.39639612  107.80749249]\n",
            "152.04579597147284 [  23.38742207 -154.48488786  469.22034705  313.10492675  -29.94388967\n",
            " -102.54555619 -193.19740967  109.65186185  426.54633663  107.75161098]\n",
            "152.04560658090165 [  23.33307288 -154.60609093  469.36219909  313.17541158  -30.00365952\n",
            " -102.63496084 -193.20661919  109.61446388  426.69603757  107.69575865]\n",
            "152.04541742216324 [  23.27881288 -154.72703865  469.50372947  313.24571579  -30.06328845\n",
            " -102.72412593 -193.21576432  109.57712397  426.84549942  107.63993562]\n",
            "152.0452284956189 [  23.22464195 -154.84773149  469.64493897  313.31583988  -30.12277685\n",
            " -102.81305205 -193.22484531  109.53984206  426.99472269  107.58414202]\n",
            "152.04503980162232 [  23.17056002 -154.96816987  469.78582838  313.38578436  -30.18212512\n",
            " -102.90173972 -193.23386243  109.50261807  427.14370787  107.52837798]\n",
            "152.04485134051956 [  23.11656698 -155.08835424  469.92639849  313.45554972  -30.24133365\n",
            " -102.99018951 -193.24281596  109.46545193  427.29245547  107.47264362]\n",
            "152.04466311264915 [  23.06266273 -155.20828505  470.06665009  313.52513645  -30.30040283\n",
            " -103.07840197 -193.25170615  109.42834355  427.44096597  107.41693907]\n",
            "152.04447511834218 [  23.00884719 -155.32796273  470.20658394  313.59454506  -30.35933304\n",
            " -103.16637766 -193.26053327  109.39129286  427.58923986  107.36126445]\n",
            "152.04428735792243 [  22.95512026 -155.44738772  470.34620084  313.66377604  -30.41812469\n",
            " -103.25411711 -193.26929758  109.35429979  427.73727764  107.30561989]\n",
            "152.04409983170626 [  22.90148184 -155.56656047  470.48550156  313.73282987  -30.47677816\n",
            " -103.34162088 -193.27799934  109.31736426  427.88507979  107.25000551]\n",
            "152.04391254000294 [  22.84793184 -155.68548141  470.62448687  313.80170705  -30.53529383\n",
            " -103.42888951 -193.28663882  109.28048619  428.03264681  107.19442143]\n",
            "152.04372548311449 [  22.79447016 -155.80415099  470.76315754  313.87040806  -30.59367209\n",
            " -103.51592356 -193.29521626  109.24366551  428.17997917  107.13886777]\n",
            "152.04353866133587 [  22.7410967  -155.92256965  470.90151435  313.9389334   -30.65191334\n",
            " -103.60272356 -193.30373194  109.20690212  428.32707736  107.08334465]\n",
            "152.04335207495507 [  22.68781137 -156.04073782  471.03955806  314.00728354  -30.71001795\n",
            " -103.68929007 -193.3121861   109.17019597  428.47394187  107.02785218]\n",
            "152.04316572425313 [  22.63461407 -156.15865594  471.17728943  314.07545897  -30.76798631\n",
            " -103.77562362 -193.32057901  109.13354697  428.62057318  106.9723905 ]\n",
            "152.0429796095042 [  22.5815047  -156.27632445  471.31470923  314.14346018  -30.82581881\n",
            " -103.86172477 -193.3289109   109.09695503  428.76697176  106.9169597 ]\n",
            "152.04279373097566 [  22.52848317 -156.39374379  471.45181822  314.21128763  -30.88351583\n",
            " -103.94759404 -193.33718205  109.06042009  428.9131381   106.86155992]\n",
            "152.04260808892815 [  22.47554937 -156.5109144   471.58861715  314.27894182  -30.94107775\n",
            " -104.03323198 -193.3453927   109.02394205  429.05907266  106.80619126]\n",
            "152.04242268361568 [  22.42270322 -156.62783671  471.72510679  314.34642321  -30.99850495\n",
            " -104.11863913 -193.35354309  108.98752085  429.20477594  106.75085383]\n",
            "152.0422375152856 [  22.3699446  -156.74451115  471.86128789  314.41373229  -31.05579781\n",
            " -104.20381603 -193.36163348  108.95115639  429.3502484   106.69554775]\n",
            "152.0420525841788 [  22.31727343 -156.86093818  471.9971612   314.48086952  -31.11295672\n",
            " -104.28876321 -193.36966413  108.91484861  429.49549051  106.64027314]\n",
            "152.04186789052972 [  22.2646896  -156.97711822  472.13272747  314.54783538  -31.16998204\n",
            " -104.37348121 -193.37763526  108.87859741  429.64050274  106.5850301 ]\n",
            "152.04168343456632 [  22.21219302 -157.0930517   472.26798744  314.61463033  -31.22687417\n",
            " -104.45797057 -193.38554714  108.84240272  429.78528557  106.52981873]\n",
            "152.04149921651035 [  22.15978358 -157.20873907  472.40294186  314.68125486  -31.28363348\n",
            " -104.54223182 -193.3934      108.80626446  429.92983946  106.47463916]\n",
            "152.0413152365772 [  22.10746118 -157.32418075  472.53759148  314.74770941  -31.34026035\n",
            " -104.62626549 -193.40119408  108.77018254  430.07416489  106.41949149]\n",
            "152.0411314949761 [  22.05522573 -157.43937719  472.67193704  314.81399447  -31.39675514\n",
            " -104.71007211 -193.40892964  108.73415688  430.2182623   106.36437583]\n",
            "152.0409479919102 [  22.00307713 -157.55432881  472.80597927  314.88011049  -31.45311824\n",
            " -104.79365222 -193.41660691  108.6981874   430.36213218  106.30929228]\n",
            "152.04076472757646 [  21.95101527 -157.66903605  472.93971891  314.94605794  -31.50935003\n",
            " -104.87700635 -193.42422613  108.66227401  430.50577498  106.25424094]\n",
            "152.04058170216592 [  21.89904005 -157.78349934  473.0731567   315.01183728  -31.56545087\n",
            " -104.96013502 -193.43178755  108.62641664  430.64919117  106.19922193]\n",
            "152.04039891586365 [  21.84715138 -157.89771912  473.20629337  315.07744896  -31.62142113\n",
            " -105.04303876 -193.43929139  108.59061519  430.79238119  106.14423535]\n",
            "152.04021636884883 [  21.79534916 -158.01169581  473.33912964  315.14289345  -31.6772612\n",
            " -105.1257181  -193.4467379   108.5548696   430.93534552  106.0892813 ]\n",
            "152.04003406129482 [  21.74363327 -158.12542985  473.47166626  315.2081712   -31.73297143\n",
            " -105.20817356 -193.4541273   108.51917976  431.07808461  106.03435987]\n",
            "152.0398519933692 [  21.69200362 -158.23892167  473.60390393  315.27328267  -31.78855221\n",
            " -105.29040568 -193.46145985  108.48354561  431.22059892  105.97947119]\n",
            "152.03967016523387 [  21.64046012 -158.35217169  473.7358434   315.33822831  -31.8440039\n",
            " -105.37241496 -193.46873577  108.44796704  431.36288889  105.92461533]\n",
            "152.03948857704503 [  21.58900264 -158.46518036  473.86748538  315.40300857  -31.89932687\n",
            " -105.45420194 -193.47595528  108.41244399  431.50495499  105.86979241]\n",
            "152.03930722895333 [  21.53763111 -158.5779481   473.99883059  315.46762391  -31.95452148\n",
            " -105.53576713 -193.48311863  108.37697636  431.64679766  105.81500252]\n",
            "152.03912612110392 [  21.4863454  -158.69047534  474.12987974  315.53207477  -32.00958811\n",
            " -105.61711106 -193.49022605  108.34156407  431.78841735  105.76024576]\n",
            "152.03894525363637 [  21.43514543 -158.8027625   474.26063357  315.5963616   -32.06452712\n",
            " -105.69823425 -193.49727776  108.30620703  431.92981452  105.70552222]\n",
            "152.03876462668498 [  21.38403108 -158.91481003  474.39109277  315.66048484  -32.11933887\n",
            " -105.77913721 -193.50427399  108.27090516  432.07098962  105.65083201]\n",
            "152.03858424037855 [  21.33300226 -159.02661834  474.52125806  315.72444494  -32.17402373\n",
            " -105.85982046 -193.51121497  108.23565837  432.21194308  105.59617522]\n",
            "152.03840409484064 [  21.28205886 -159.13818786  474.65113015  315.78824235  -32.22858207\n",
            " -105.94028452 -193.51810092  108.20046658  432.35267536  105.54155194]\n",
            "152.0382241901896 [  21.23120078 -159.24951902  474.78070975  315.85187751  -32.28301425\n",
            " -106.0205299  -193.52493208  108.1653297   432.49318689  105.48696226]\n",
            "152.03804452653847 [  21.18042792 -159.36061225  474.90999757  315.91535085  -32.33732062\n",
            " -106.10055711 -193.53170865  108.13024764  432.63347813  105.43240629]\n",
            "152.03786510399524 [  21.12974016 -159.47146798  475.0389943   315.97866281  -32.39150156\n",
            " -106.18036668 -193.53843088  108.09522032  432.77354951  105.37788411]\n",
            "152.03768592266283 [  21.07913742 -159.58208662  475.16770066  316.04181384  -32.44555741\n",
            " -106.2599591  -193.54509898  108.06024766  432.91340147  105.32339581]\n",
            "152.03750698263903 [  21.02861957 -159.69246861  475.29611733  316.10480436  -32.49948855\n",
            " -106.3393349  -193.55171316  108.02532955  433.05303445  105.26894149]\n",
            "152.0373282840167 [  20.97818653 -159.80261437  475.42424503  316.16763482  -32.55329533\n",
            " -106.41849457 -193.55827366  107.99046592  433.19244889  105.21452122]\n",
            "152.03714982688382 [  20.92783819 -159.91252433  475.55208444  316.23030565  -32.6069781\n",
            " -106.49743864 -193.56478069  107.95565668  433.33164522  105.16013512]\n",
            "152.0369716113234 [  20.87757444 -160.0221989   475.67963626  316.29281727  -32.66053723\n",
            " -106.57616761 -193.57123447  107.92090174  433.47062389  105.10578325]\n",
            "152.0367936374137 [  20.82739517 -160.13163851  475.80690118  316.35517012  -32.71397308\n",
            " -106.65468197 -193.57763521  107.88620102  433.60938532  105.05146571]\n",
            "152.03661590522813 [  20.77730029 -160.2408436   475.93387989  316.41736463  -32.76728598\n",
            " -106.73298225 -193.58398313  107.85155442  433.74792995  104.99718259]\n",
            "152.03643841483546 [  20.72728968 -160.34981457  476.06057308  316.47940123  -32.82047631\n",
            " -106.81106895 -193.59027845  107.81696186  433.8862582   104.94293397]\n",
            "152.0362611662997 [  20.67736325 -160.45855185  476.18698144  316.54128033  -32.87354442\n",
            " -106.88894256 -193.59652138  107.78242324  434.02437051  104.88871994]\n",
            "152.0360841596803 [  20.62752089 -160.56705586  476.31310565  316.60300238  -32.92649066\n",
            " -106.96660359 -193.60271214  107.74793849  434.16226731  104.83454058]\n",
            "152.03590739503213 [  20.57776249 -160.67532703  476.4389464   316.66456778  -32.97931537\n",
            " -107.04405254 -193.60885093  107.71350751  434.29994903  104.78039598]\n",
            "152.03573087240548 [  20.52808794 -160.78336577  476.56450435  316.72597696  -33.03201892\n",
            " -107.12128991 -193.61493797  107.67913022  434.43741609  104.72628621]\n",
            "152.03555459184616 [  20.47849715 -160.89117251  476.6897802   316.78723035  -33.08460165\n",
            " -107.19831621 -193.62097346  107.64480652  434.57466891  104.67221137]\n",
            "152.03537855339562 [  20.42899001 -160.99874766  476.81477463  316.84832836  -33.13706392\n",
            " -107.27513192 -193.62695763  107.61053632  434.71170792  104.61817153]\n",
            "152.03520275709084 [  20.37956641 -161.10609165  476.93948829  316.90927141  -33.18940606\n",
            " -107.35173755 -193.63289067  107.57631954  434.84853355  104.56416677]\n",
            "152.03502720296456 [  20.33022624 -161.21320489  477.06392187  316.97005992  -33.24162844\n",
            " -107.42813359 -193.63877279  107.54215609  434.98514622  104.51019718]\n",
            "152.0348518910451 [  20.2809694  -161.3200878   477.18807605  317.0306943   -33.2937314\n",
            " -107.50432054 -193.64460421  107.50804588  435.12154634  104.45626283]\n",
            "152.03467682135664 [  20.23179578 -161.4267408   477.31195148  317.09117496  -33.34571527\n",
            " -107.58029889 -193.65038512  107.47398881  435.25773433  104.4023638 ]\n",
            "152.0345019939191 [  20.18270528 -161.53316431  477.43554884  317.15150233  -33.39758042\n",
            " -107.65606913 -193.65611573  107.43998481  435.39371062  104.34850018]\n",
            "152.03432740874825 [  20.13369779 -161.63935874  477.55886879  317.21167681  -33.44932719\n",
            " -107.73163176 -193.66179624  107.40603377  435.52947562  104.29467204]\n",
            "152.03415306585578 [  20.0847732  -161.74532452  477.681912    317.27169881  -33.50095591\n",
            " -107.80698726 -193.66742687  107.37213561  435.66502975  104.24087945]\n",
            "152.0339789652493 [  20.03593141 -161.85106205  477.80467912  317.33156874  -33.55246694\n",
            " -107.88213614 -193.6730078   107.33829024  435.80037342  104.18712249]\n",
            "152.03380510693236 [  19.98717232 -161.95657175  477.92717083  317.391287    -33.60386061\n",
            " -107.95707886 -193.67853924  107.30449757  435.93550704  104.13340124]\n",
            "152.03363149090458 [  19.9384958  -162.06185404  478.04938777  317.45085401  -33.65513727\n",
            " -108.03181593 -193.6840214   107.27075751  436.07043103  104.07971577]\n",
            "152.03345811716164 [  19.88990176 -162.16690934  478.17133061  317.51027017  -33.70629725\n",
            " -108.10634783 -193.68945446  107.23706996  436.2051458   104.02606616]\n",
            "152.03328498569525 [  19.8413901  -162.27173805  478.29299999  317.56953589  -33.7573409\n",
            " -108.18067504 -193.69483864  107.20343484  436.33965176  103.97245248]\n",
            "152.03311209649334 [  19.79296069 -162.37634059  478.41439658  317.62865156  -33.80826856\n",
            " -108.25479805 -193.70017412  107.16985206  436.47394931  103.9188748 ]\n",
            "152.03293944954 [  19.74461344 -162.48071737  478.53552102  317.68761758  -33.85908056\n",
            " -108.32871735 -193.7054611   107.13632153  436.60803888  103.86533319]\n",
            "152.0327670448156 [  19.69634824 -162.58486881  478.65637396  317.74643436  -33.90977725\n",
            " -108.40243341 -193.71069979  107.10284315  436.74192085  103.81182773]\n",
            "152.03259488229673 [  19.64816498 -162.68879531  478.77695605  317.8051023   -33.96035895\n",
            " -108.47594671 -193.71589036  107.06941683  436.87559565  103.75835849]\n",
            "152.03242296195629 [  19.60006355 -162.7924973   478.89726794  317.86362179  -34.01082601\n",
            " -108.54925775 -193.72103303  107.03604249  437.00906366  103.70492554]\n",
            "152.03225128376354 [  19.55204385 -162.89597518  479.01731027  317.92199322  -34.06117876\n",
            " -108.62236698 -193.72612798  107.00272003  437.14232531  103.65152894]\n",
            "152.03207984768414 [  19.50410577 -162.99922936  479.13708368  317.98021701  -34.11141753\n",
            " -108.69527491 -193.73117541  106.96944936  437.27538098  103.59816877]\n",
            "152.0319086536802 [  19.4562492  -163.10226025  479.25658881  318.03829352  -34.16154267\n",
            " -108.76798199 -193.7361755   106.93623039  437.40823109  103.5448451 ]\n",
            "152.03173770171028 [  19.40847403 -163.20506826  479.37582631  318.09622317  -34.21155449\n",
            " -108.84048871 -193.74112844  106.90306303  437.54087602  103.49155798]\n",
            "152.03156699172942 [  19.36078016 -163.3076538   479.49479681  318.15400634  -34.26145333\n",
            " -108.91279554 -193.74603444  106.86994719  437.67331619  103.4383075 ]\n",
            "152.03139652368927 [  19.31316747 -163.41001728  479.61350094  318.21164342  -34.31123953\n",
            " -108.98490296 -193.75089367  106.83688277  437.80555198  103.38509371]\n",
            "152.03122629753798 [  19.26563586 -163.51215911  479.73193934  318.2691348   -34.36091341\n",
            " -109.05681144 -193.75570632  106.80386969  437.9375838   103.33191668]\n",
            "152.03105631322046 [  19.21818523 -163.6140797   479.85011264  318.32648087  -34.41047531\n",
            " -109.12852145 -193.76047259  106.77090785  438.06941204  103.27877648]\n",
            "152.03088657067815 [  19.17081545 -163.71577944  479.96802148  318.38368201  -34.45992555\n",
            " -109.20003347 -193.76519265  106.73799716  438.2010371   103.22567317]\n",
            "152.03071706984923 [  19.12352643 -163.81725876  480.08566647  318.44073861  -34.50926445\n",
            " -109.27134795 -193.7698667   106.70513753  438.33245936  103.17260681]\n",
            "152.03054781066862 [  19.07631806 -163.91851804  480.20304825  318.49765105  -34.55849235\n",
            " -109.34246538 -193.77449492  106.67232887  438.46367923  103.11957748]\n",
            "152.03037879306805 [  19.02919023 -164.01955771  480.32016744  318.55441972  -34.60760958\n",
            " -109.41338622 -193.77907749  106.63957108  438.5946971   103.06658523]\n",
            "152.030210016976 [  18.98214282 -164.12037817  480.43702466  318.61104499  -34.65661645\n",
            " -109.48411093 -193.7836146   106.60686408  438.72551335  103.01363012]\n",
            "152.0300414823178 [  18.93517574 -164.22097981  480.55362055  318.66752725  -34.7055133\n",
            " -109.55463998 -193.78810642  106.57420777  438.85612837  102.96071221]\n",
            "152.02987318901572 [  18.88828886 -164.32136305  480.66995571  318.72386688  -34.75430044\n",
            " -109.62497384 -193.79255315  106.54160206  438.98654256  102.90783158]\n",
            "152.0297051369888 [  18.8414821  -164.42152829  480.78603077  318.78006426  -34.8029782\n",
            " -109.69511297 -193.79695496  106.50904685  439.1167563   102.85498827]\n",
            "152.02953732615322 [  18.79475532 -164.52147593  480.90184634  318.83611975  -34.8515469\n",
            " -109.76505783 -193.80131204  106.47654207  439.24676998  102.80218235]\n",
            "152.029369756422 [  18.74810844 -164.62120637  481.01740303  318.89203375  -34.90000687\n",
            " -109.83480888 -193.80562456  106.4440876   439.37658398  102.74941388]\n",
            "152.0292024277052 [  18.70154133 -164.72072002  481.13270147  318.94780661  -34.94835842\n",
            " -109.90436659 -193.80989269  106.41168337  439.50619869  102.69668291]\n",
            "152.02903533990997 [  18.65505389 -164.82001727  481.24774227  319.00343872  -34.99660187\n",
            " -109.97373142 -193.81411663  106.37932928  439.6356145   102.64398951]\n",
            "152.02886849294055 [  18.60864601 -164.91909853  481.36252602  319.05893045  -35.04473754\n",
            " -110.04290381 -193.81829654  106.34702524  439.76483177  102.59133373]\n",
            "152.02870188669823 [  18.56231759 -165.01796421  481.47705335  319.11428217  -35.09276575\n",
            " -110.11188424 -193.82243261  106.31477115  439.89385091  102.53871563]\n",
            "152.0285355210815 [  18.5160685  -165.11661469  481.59132486  319.16949424  -35.14068682\n",
            " -110.18067316 -193.826525    106.28256693  440.02267228  102.48613526]\n",
            "152.02836939598603 [  18.46989865 -165.21505037  481.70534115  319.22456705  -35.18850107\n",
            " -110.24927101 -193.8305739   106.25041247  440.15129627  102.43359269]\n",
            "152.02820351130467 [  18.42380793 -165.31327167  481.81910283  319.27950095  -35.2362088\n",
            " -110.31767826 -193.83457948  106.2183077   440.27972325  102.38108797]\n",
            "152.02803786692758 [  18.37779622 -165.41127897  481.9326105   319.33429631  -35.28381034\n",
            " -110.38589537 -193.8385419   106.18625251  440.4079536   102.32862114]\n",
            "152.02787246274212 [  18.33186341 -165.50907267  482.04586477  319.38895349  -35.33130599\n",
            " -110.45392277 -193.84246135  106.15424682  440.53598771  102.27619228]\n",
            "152.027707298633 [  18.28600941 -165.60665318  482.15886622  319.44347287  -35.37869608\n",
            " -110.52176093 -193.84633799  106.12229052  440.66382594  102.22380142]\n",
            "152.0275423744823 [  18.24023409 -165.70402088  482.27161546  319.49785481  -35.42598091\n",
            " -110.5894103  -193.850172    106.09038354  440.79146867  102.17144863]\n",
            "152.02737769016937 [  18.19453735 -165.80117617  482.38411308  319.55209966  -35.4731608\n",
            " -110.65687131 -193.85396355  106.05852577  440.91891627  102.11913396]\n",
            "152.02721324557106 [  18.14891908 -165.89811946  482.49635968  319.60620779  -35.52023605\n",
            " -110.72414443 -193.8577128   106.02671713  441.04616912  102.06685746]\n",
            "152.02704904056165 [  18.10337917 -165.99485113  482.60835585  319.66017956  -35.56720698\n",
            " -110.7912301  -193.86141993  105.99495752  441.17322759  102.01461917]\n",
            "152.02688507501279 [  18.05791751 -166.09137158  482.72010218  319.71401532  -35.6140739\n",
            " -110.85812876 -193.8650851   105.96324686  441.30009204  101.96241917]\n",
            "152.02672134879367 [  18.012534   -166.18768121  482.83159926  319.76771544  -35.66083711\n",
            " -110.92484087 -193.86870848  105.93158503  441.42676286  101.91025748]\n",
            "152.02655786177107 [  17.96722852 -166.2837804   482.94284768  319.82128027  -35.70749692\n",
            " -110.99136686 -193.87229025  105.89997197  441.5532404   101.85813417]\n",
            "152.02639461380917 [  17.92200096 -166.37966956  483.05384802  319.87471017  -35.75405365\n",
            " -111.05770717 -193.87583055  105.86840757  441.67952504  101.80604928]\n",
            "152.0262316047699 [  17.87685122 -166.47534906  483.16460088  319.92800549  -35.80050758\n",
            " -111.12386226 -193.87932957  105.83689173  441.80561715  101.75400287]\n",
            "152.02606883451264 [  17.83177918 -166.57081932  483.27510682  319.98116658  -35.84685904\n",
            " -111.18983256 -193.88278746  105.80542438  441.93151708  101.70199498]\n",
            "152.02590630289447 [  17.78678474 -166.66608071  483.38536644  320.0341938   -35.89310833\n",
            " -111.25561851 -193.88620439  105.77400541  442.05722521  101.65002566]\n",
            "152.02574400977016 [  17.74186779 -166.76113363  483.49538031  320.0870875   -35.93925574\n",
            " -111.32122056 -193.88958052  105.74263474  442.1827419   101.59809496]\n",
            "152.02558195499213 [  17.69702821 -166.85597847  483.60514902  320.13984803  -35.98530159\n",
            " -111.38663913 -193.89291602  105.71131227  442.30806751  101.54620292]\n",
            "152.0254201384105 [  17.6522659  -166.95061562  483.71467314  320.19247573  -36.03124617\n",
            " -111.45187467 -193.89621104  105.68003791  442.4332024   101.49434959]\n",
            "152.0252585598732 [  17.60758075 -167.04504546  483.82395324  320.24497096  -36.07708979\n",
            " -111.51692761 -193.89946575  105.64881156  442.55814694  101.44253503]\n",
            "152.0250972192259 [  17.56297264 -167.1392684   483.9329899   320.29733407  -36.12283275\n",
            " -111.58179839 -193.90268031  105.61763314  442.68290149  101.39075927]\n",
            "152.02493611631198 [  17.51844148 -167.23328481  484.0417837   320.34956539  -36.16847534\n",
            " -111.64648744 -193.90585487  105.58650255  442.80746641  101.33902236]\n",
            "152.0247752509728 [  17.47398715 -167.32709508  484.15033519  320.40166528  -36.21401786\n",
            " -111.7109952  -193.90898961  105.55541971  442.93184205  101.28732434]\n",
            "152.02461462304746 [  17.42960954 -167.42069961  484.25864497  320.45363407  -36.25946062\n",
            " -111.77532209 -193.91208466  105.52438451  443.05602878  101.23566526]\n",
            "152.02445423237296 [  17.38530854 -167.51409878  484.36671358  320.50547212  -36.30480392\n",
            " -111.83946856 -193.91514021  105.49339687  443.18002695  101.18404517]\n",
            "152.0242940787842 [  17.34108404 -167.60729297  484.4745416   320.55717976  -36.35004804\n",
            " -111.90343502 -193.91815639  105.46245669  443.30383691  101.1324641 ]\n",
            "152.02413416211408 [  17.29693594 -167.70028257  484.58212959  320.60875733  -36.39519328\n",
            " -111.96722191 -193.92113338  105.43156388  443.42745903  101.08092211]\n",
            "152.0239744821933 [  17.25286411 -167.79306796  484.68947812  320.66020518  -36.44023995\n",
            " -112.03082966 -193.92407131  105.40071836  443.55089365  101.02941922]\n",
            "152.02381503885067 [  17.20886847 -167.88564954  484.79658774  320.71152363  -36.48518832\n",
            " -112.09425869 -193.92697036  105.36992002  443.67414114  100.9779555 ]\n",
            "152.02365583191295 [  17.16494888 -167.97802768  484.90345903  320.76271304  -36.53003871\n",
            " -112.15750943 -193.92983067  105.33916878  443.79720184  100.92653096]\n",
            "152.02349686120493 [  17.12110526 -168.07020277  485.01009253  320.81377374  -36.5747914\n",
            " -112.22058231 -193.93265239  105.30846454  443.92007611  100.87514567]\n",
            "152.02333812654945 [  17.07733748 -168.16217519  485.11648882  320.86470606  -36.61944667\n",
            " -112.28347775 -193.93543569  105.27780721  444.04276429  100.82379966]\n",
            "152.02317962776743 [  17.03364543 -168.25394532  485.22264843  320.91551033  -36.66400484\n",
            " -112.34619617 -193.93818071  105.24719671  444.16526673  100.77249296]\n",
            "152.02302136467787 [  16.99002902 -168.34551355  485.32857193  320.9661869   -36.70846617\n",
            " -112.40873799 -193.94088761  105.21663293  444.2875838   100.72122562]\n",
            "152.0228633370979 [  16.94648812 -168.43688026  485.43425987  321.01673609  -36.75283098\n",
            " -112.47110365 -193.94355653  105.18611579  444.40971582  100.66999769]\n",
            "152.02270554484284 [  16.90302263 -168.52804582  485.5397128   321.06715824  -36.79709953\n",
            " -112.53329354 -193.94618763  105.1556452   444.53166316  100.61880919]\n",
            "152.02254798772609 [  16.85963244 -168.61901063  485.64493128  321.11745367  -36.84127213\n",
            " -112.59530811 -193.94878106  105.12522106  444.65342616  100.56766016]\n",
            "152.0223906655593 [  16.81631744 -168.70977505  485.74991585  321.16762273  -36.88534905\n",
            " -112.65714776 -193.95133696  105.09484328  444.77500516  100.51655065]\n",
            "152.02223357815237 [  16.77307752 -168.80033948  485.85466706  321.21766572  -36.92933059\n",
            " -112.71881292 -193.9538555   105.06451177  444.89640051  100.46548069]\n",
            "152.02207672531333 [  16.72991258 -168.89070427  485.95918545  321.26758299  -36.97321704\n",
            " -112.78030399 -193.9563368   105.03422644  445.01761255  100.41445033]\n",
            "152.02192010684854 [  16.68682249 -168.98086983  486.06347158  321.31737487  -37.01700867\n",
            " -112.8416214  -193.95878103  105.0039872   445.13864163  100.36345958]\n",
            "152.02176372256264 [  16.64380716 -169.07083652  486.16752598  321.36704166  -37.06070577\n",
            " -112.90276555 -193.96118833  104.97379395  445.25948808  100.31250851]\n",
            "152.02160757225855 [  16.60086648 -169.16060471  486.2713492   321.41658371  -37.10430863\n",
            " -112.96373687 -193.96355885  104.94364661  445.38015226  100.26159713]\n",
            "152.0214516557375 [  16.55800033 -169.2501748   486.37494177  321.46600134  -37.14781752\n",
            " -113.02453576 -193.96589272  104.91354508  445.5006345   100.21072548]\n",
            "152.02129597279915 [  16.5152086  -169.33954714  486.47830425  321.51529486  -37.19123274\n",
            " -113.08516264 -193.96819011  104.88348928  445.62093514  100.15989361]\n",
            "152.02114052324143 [  16.4724912  -169.42872213  486.58143715  321.56446461  -37.23455455\n",
            " -113.14561792 -193.97045114  104.8534791   445.74105451  100.10910154]\n",
            "152.02098530686067 [  16.429848   -169.51770013  486.68434103  321.6135109   -37.27778325\n",
            " -113.205902   -193.97267597  104.82351447  445.86099297  100.05834931]\n",
            "152.02083032345166 [  16.3872789  -169.60648152  486.78701641  321.66243405  -37.32091912\n",
            " -113.2660153  -193.97486474  104.79359528  445.98075084  100.00763695]\n",
            "152.02067557280756 [  16.34478379 -169.69506667  486.88946383  321.71123438  -37.36396242\n",
            " -113.32595823 -193.97701759  104.76372146  446.10032847   99.9569645 ]\n",
            "152.02052105472004 [  16.30236256 -169.78345595  486.99168382  321.75991221  -37.40691345\n",
            " -113.38573118 -193.97913466  104.7338929   446.21972619   99.90633199]\n",
            "152.0203667689792 [  16.26001511 -169.87164975  487.09367692  321.80846786  -37.44977247\n",
            " -113.44533457 -193.98121611  104.70410951  446.33894432   99.85573945]\n",
            "152.02021271537362 [  16.21774132 -169.95964842  487.19544365  321.85690164  -37.49253977\n",
            " -113.5047688  -193.98326205  104.67437122  446.45798322   99.80518692]\n",
            "152.0200588936904 [  16.17554108 -170.04745235  487.29698454  321.90521387  -37.53521562\n",
            " -113.56403428 -193.98527265  104.64467791  446.57684321   99.75467443]\n",
            "152.0199053037152 [  16.13341429 -170.1350619   487.39830011  321.95340487  -37.57780029\n",
            " -113.6231314  -193.98724803  104.61502951  446.69552462   99.704202  ]\n",
            "152.01975194523217 [  16.09136083 -170.22247745  487.4993909   322.00147495  -37.62029407\n",
            " -113.68206057 -193.98918834  104.58542593  446.81402779   99.65376968]\n",
            "152.01959881802412 [  16.04938061 -170.30969936  487.60025743  322.04942441  -37.66269722\n",
            " -113.7408222  -193.99109371  104.55586707  446.93235304   99.60337748]\n",
            "152.01944592187235 [  16.0074735  -170.396728    487.70090021  322.09725358  -37.70501002\n",
            " -113.79941667 -193.99296429  104.52635284  447.05050071   99.55302545]\n",
            "152.01929325655678 [  15.96563941 -170.48356375  487.80131978  322.14496276  -37.74723274\n",
            " -113.8578444  -193.99480021  104.49688315  447.16847113   99.50271361]\n",
            "152.019140821856 [  15.92387821 -170.57020697  487.90151665  322.19255227  -37.78936565\n",
            " -113.91610578 -193.99660161  104.46745792  447.28626463   99.452442  ]\n",
            "152.01898861754722 [  15.88218982 -170.65665803  488.00149134  322.24002241  -37.83140903\n",
            " -113.9742012  -193.99836863  104.43807705  447.40388153   99.40221063]\n",
            "152.01883664340633 [  15.8405741  -170.7429173   488.10124436  322.28737349  -37.87336314\n",
            " -114.03213106 -194.00010139  104.40874045  447.52132216   99.35201955]\n",
            "152.01868489920787 [  15.79903097 -170.82898514  488.20077624  322.33460582  -37.91522825\n",
            " -114.08989576 -194.00180004  104.37944803  447.63858684   99.30186877]\n",
            "152.01853338472506 [  15.7575603  -170.91486193  488.30008749  322.3817197   -37.95700464\n",
            " -114.1474957  -194.00346471  104.35019971  447.75567591   99.25175833]\n",
            "152.0183820997299 [  15.71616199 -171.00054802  488.39917862  322.42871545  -37.99869257\n",
            " -114.20493126 -194.00509554  104.32099538  447.87258969   99.20168826]\n",
            "152.0182310439931 [  15.67483594 -171.08604378  488.49805015  322.47559336  -38.0402923\n",
            " -114.26220284 -194.00669266  104.29183497  447.9893285    99.15165858]\n",
            "152.01808021728405 [  15.63358203 -171.17134958  488.59670258  322.52235374  -38.08180411\n",
            " -114.31931082 -194.0082562   104.26271839  448.10589266   99.10166931]\n",
            "152.01792961937102 [  15.59240015 -171.25646578  488.69513643  322.5689969   -38.12322826\n",
            " -114.37625561 -194.0097863   104.23364553  448.22228251   99.0517205 ]\n",
            "152.01777925002096 [  15.5512902  -171.34139275  488.7933522   322.61552312  -38.16456501\n",
            " -114.43303759 -194.01128308  104.20461633  448.33849835   99.00181216]\n",
            "152.01762910899973 [  15.51025207 -171.42613084  488.89135039  322.66193273  -38.20581464\n",
            " -114.48965715 -194.01274668  104.17563067  448.45454051   98.95194432]\n",
            "152.01747919607192 [  15.46928565 -171.51068043  488.98913153  322.70822601  -38.24697739\n",
            " -114.54611468 -194.01417724  104.14668848  448.57040932   98.902117  ]\n",
            "152.017329511001 [  15.42839084 -171.59504186  489.08669611  322.75440326  -38.28805355\n",
            " -114.60241056 -194.01557487  104.11778967  448.68610508   98.85233023]\n",
            "152.01718005354925 [  15.38756752 -171.67921551  489.18404462  322.80046479  -38.32904336\n",
            " -114.65854518 -194.01693971  104.08893414  448.80162813   98.80258404]\n",
            "152.0170308234779 [  15.34681558 -171.76320174  489.28117759  322.8464109   -38.3699471\n",
            " -114.71451893 -194.0182719   104.06012182  448.91697877   98.75287845]\n",
            "152.01688182054698 [  15.30613493 -171.8470009   489.3780955   322.89224187  -38.41076501\n",
            " -114.77033219 -194.01957155  104.0313526   449.03215733   98.70321348]\n",
            "152.01673304451543 [  15.26552545 -171.93061336  489.47479886  322.937958    -38.45149737\n",
            " -114.82598534 -194.0208388   104.0026264   449.14716412   98.65358916]\n",
            "152.0165844951412 [  15.22498703 -172.01403947  489.57128816  322.9835596   -38.49214443\n",
            " -114.88147877 -194.02207378  103.97394313  449.26199946   98.60400552]\n",
            "152.01643617218102 [  15.18451956 -172.0972796   489.6675639   323.02904695  -38.53270644\n",
            " -114.93681285 -194.02327661  103.94530271  449.37666366   98.55446257]\n",
            "152.01628807539072 [  15.14412295 -172.18033409  489.76362657  323.07442034  -38.57318368\n",
            " -114.99198798 -194.02444742  103.91670504  449.49115704   98.50496034]\n",
            "152.016140204525 [  15.10379708 -172.26320332  489.85947668  323.11968008  -38.61357639\n",
            " -115.04700452 -194.02558634  103.88815004  449.6054799    98.45549885]\n",
            "152.01599255933752 [  15.06354184 -172.34588763  489.95511471  323.16482645  -38.65388483\n",
            " -115.10186286 -194.02669349  103.85963761  449.71963258   98.40607812]\n",
            "152.01584513958105 [  15.02335712 -172.42838739  490.05054115  323.20985975  -38.69410925\n",
            " -115.15656337 -194.027769    103.83116767  449.83361537   98.35669819]\n",
            "152.01569794500725 [  14.98324283 -172.51070295  490.1457565   323.25478025  -38.73424992\n",
            " -115.21110643 -194.02881299  103.80274014  449.94742858   98.30735905]\n",
            "152.01555097536686 [  14.94319885 -172.59283466  490.24076125  323.29958826  -38.77430709\n",
            " -115.26549242 -194.02982559  103.77435492  450.06107254   98.25806075]\n",
            "152.01540423040967 [  14.90322507 -172.67478288  490.33555587  323.34428406  -38.81428101\n",
            " -115.31972172 -194.03080691  103.74601192  450.17454754   98.2088033 ]\n",
            "152.01525770988448 [  14.86332138 -172.75654796  490.43014087  323.38886794  -38.85417193\n",
            " -115.37379469 -194.03175709  103.71771106  450.28785391   98.15958672]\n",
            "152.01511141353916 [  14.82348769 -172.83813027  490.52451672  323.43334019  -38.89398011\n",
            " -115.42771171 -194.03267625  103.68945225  450.40099194   98.11041103]\n",
            "152.0149653411207 [  14.78372388 -172.91953014  490.61868392  323.47770108  -38.93370579\n",
            " -115.48147315 -194.03356451  103.6612354   450.51396194   98.06127625]\n",
            "152.01481949237518 [  14.74402985 -173.00074794  490.71264293  323.52195092  -38.97334924\n",
            " -115.53507939 -194.03442199  103.63306043  450.62676423   98.0121824 ]\n",
            "152.01467386704778 [  14.70440548 -173.08178402  490.80639425  323.56608997  -39.01291069\n",
            " -115.58853079 -194.03524882  103.60492724  450.7393991    97.9631295 ]\n",
            "152.01452846488274 [  14.66485068 -173.16263873  490.89993836  323.61011853  -39.0523904\n",
            " -115.64182773 -194.0360451   103.57683576  450.85186687   97.91411757]\n",
            "152.01438328562355 [  14.62536533 -173.24331241  490.99327573  323.65403688  -39.09178862\n",
            " -115.69497057 -194.03681097  103.54878588  450.96416784   97.86514664]\n",
            "152.0142383290128 [  14.58594934 -173.32380543  491.08640685  323.6978453   -39.13110559\n",
            " -115.74795968 -194.03754655  103.52077754  451.07630232   97.8162167 ]\n",
            "152.01409359479223 [  14.54660258 -173.40411813  491.17933218  323.74154407  -39.17034157\n",
            " -115.80079543 -194.03825195  103.49281063  451.1882706    97.7673278 ]\n",
            "152.0139490827028 [  14.50732496 -173.48425085  491.27205222  323.78513346  -39.20949679\n",
            " -115.85347819 -194.03892729  103.46488507  451.300073     97.71847994]\n",
            "152.01380479248456 [  14.46811637 -173.56420396  491.36456742  323.82861377  -39.24857151\n",
            " -115.90600831 -194.03957269  103.43700078  451.41170981   97.66967313]\n",
            "152.01366072387688 [  14.4289767  -173.64397779  491.45687827  323.87198527  -39.28756597\n",
            " -115.95838617 -194.04018827  103.40915767  451.52318133   97.62090741]\n",
            "152.01351687661833 [  14.38990585 -173.7235727   491.54898524  323.91524824  -39.32648042\n",
            " -116.01061213 -194.04077415  103.38135565  451.63448787   97.57218278]\n"
          ]
        }
      ]
    },
    {
      "cell_type": "code",
      "source": [
        "from sklearn.datasets import load_diabetes\n",
        "import numpy as np\n",
        "from sklearn.linear_model import LinearRegression\n",
        "from sklearn.metrics import r2_score\n",
        "from sklearn.model_selection import train_test_split\n",
        "import time"
      ],
      "metadata": {
        "id": "nCNAxYL5tygJ"
      },
      "execution_count": null,
      "outputs": []
    },
    {
      "cell_type": "code",
      "source": [
        "x,y=load_diabetes(return_X_y=True)"
      ],
      "metadata": {
        "id": "MAOs1McbwRYJ"
      },
      "execution_count": null,
      "outputs": []
    },
    {
      "cell_type": "code",
      "source": [
        "print(x.shape)\n",
        "print(y.shape)\n",
        "#y has 442 rows but barely 1 column while x has 442 rows and 10 columns"
      ],
      "metadata": {
        "colab": {
          "base_uri": "https://localhost:8080/"
        },
        "id": "sgvR309WwhTr",
        "outputId": "23444bec-1a06-48af-b606-a1c3343bd843"
      },
      "execution_count": null,
      "outputs": [
        {
          "output_type": "stream",
          "name": "stdout",
          "text": [
            "(442, 10)\n",
            "(442,)\n"
          ]
        }
      ]
    },
    {
      "cell_type": "code",
      "source": [
        "x_train,x_test,y_train,y_test=train_test_split(x,y,test_size=0.2,random_state=2)"
      ],
      "metadata": {
        "id": "vNc4Jo6Z0CET"
      },
      "execution_count": null,
      "outputs": []
    },
    {
      "cell_type": "code",
      "source": [
        "reg=LinearRegression()\n",
        "reg.fit(x_train,y_train)"
      ],
      "metadata": {
        "colab": {
          "base_uri": "https://localhost:8080/",
          "height": 74
        },
        "id": "FQRhsRUP0Tpw",
        "outputId": "9f6281ed-c3b4-4b54-b335-b9afce3977fe"
      },
      "execution_count": null,
      "outputs": [
        {
          "output_type": "execute_result",
          "data": {
            "text/plain": [
              "LinearRegression()"
            ],
            "text/html": [
              "<style>#sk-container-id-2 {color: black;background-color: white;}#sk-container-id-2 pre{padding: 0;}#sk-container-id-2 div.sk-toggleable {background-color: white;}#sk-container-id-2 label.sk-toggleable__label {cursor: pointer;display: block;width: 100%;margin-bottom: 0;padding: 0.3em;box-sizing: border-box;text-align: center;}#sk-container-id-2 label.sk-toggleable__label-arrow:before {content: \"▸\";float: left;margin-right: 0.25em;color: #696969;}#sk-container-id-2 label.sk-toggleable__label-arrow:hover:before {color: black;}#sk-container-id-2 div.sk-estimator:hover label.sk-toggleable__label-arrow:before {color: black;}#sk-container-id-2 div.sk-toggleable__content {max-height: 0;max-width: 0;overflow: hidden;text-align: left;background-color: #f0f8ff;}#sk-container-id-2 div.sk-toggleable__content pre {margin: 0.2em;color: black;border-radius: 0.25em;background-color: #f0f8ff;}#sk-container-id-2 input.sk-toggleable__control:checked~div.sk-toggleable__content {max-height: 200px;max-width: 100%;overflow: auto;}#sk-container-id-2 input.sk-toggleable__control:checked~label.sk-toggleable__label-arrow:before {content: \"▾\";}#sk-container-id-2 div.sk-estimator input.sk-toggleable__control:checked~label.sk-toggleable__label {background-color: #d4ebff;}#sk-container-id-2 div.sk-label input.sk-toggleable__control:checked~label.sk-toggleable__label {background-color: #d4ebff;}#sk-container-id-2 input.sk-hidden--visually {border: 0;clip: rect(1px 1px 1px 1px);clip: rect(1px, 1px, 1px, 1px);height: 1px;margin: -1px;overflow: hidden;padding: 0;position: absolute;width: 1px;}#sk-container-id-2 div.sk-estimator {font-family: monospace;background-color: #f0f8ff;border: 1px dotted black;border-radius: 0.25em;box-sizing: border-box;margin-bottom: 0.5em;}#sk-container-id-2 div.sk-estimator:hover {background-color: #d4ebff;}#sk-container-id-2 div.sk-parallel-item::after {content: \"\";width: 100%;border-bottom: 1px solid gray;flex-grow: 1;}#sk-container-id-2 div.sk-label:hover label.sk-toggleable__label {background-color: #d4ebff;}#sk-container-id-2 div.sk-serial::before {content: \"\";position: absolute;border-left: 1px solid gray;box-sizing: border-box;top: 0;bottom: 0;left: 50%;z-index: 0;}#sk-container-id-2 div.sk-serial {display: flex;flex-direction: column;align-items: center;background-color: white;padding-right: 0.2em;padding-left: 0.2em;position: relative;}#sk-container-id-2 div.sk-item {position: relative;z-index: 1;}#sk-container-id-2 div.sk-parallel {display: flex;align-items: stretch;justify-content: center;background-color: white;position: relative;}#sk-container-id-2 div.sk-item::before, #sk-container-id-2 div.sk-parallel-item::before {content: \"\";position: absolute;border-left: 1px solid gray;box-sizing: border-box;top: 0;bottom: 0;left: 50%;z-index: -1;}#sk-container-id-2 div.sk-parallel-item {display: flex;flex-direction: column;z-index: 1;position: relative;background-color: white;}#sk-container-id-2 div.sk-parallel-item:first-child::after {align-self: flex-end;width: 50%;}#sk-container-id-2 div.sk-parallel-item:last-child::after {align-self: flex-start;width: 50%;}#sk-container-id-2 div.sk-parallel-item:only-child::after {width: 0;}#sk-container-id-2 div.sk-dashed-wrapped {border: 1px dashed gray;margin: 0 0.4em 0.5em 0.4em;box-sizing: border-box;padding-bottom: 0.4em;background-color: white;}#sk-container-id-2 div.sk-label label {font-family: monospace;font-weight: bold;display: inline-block;line-height: 1.2em;}#sk-container-id-2 div.sk-label-container {text-align: center;}#sk-container-id-2 div.sk-container {/* jupyter's `normalize.less` sets `[hidden] { display: none; }` but bootstrap.min.css set `[hidden] { display: none !important; }` so we also need the `!important` here to be able to override the default hidden behavior on the sphinx rendered scikit-learn.org. See: https://github.com/scikit-learn/scikit-learn/issues/21755 */display: inline-block !important;position: relative;}#sk-container-id-2 div.sk-text-repr-fallback {display: none;}</style><div id=\"sk-container-id-2\" class=\"sk-top-container\"><div class=\"sk-text-repr-fallback\"><pre>LinearRegression()</pre><b>In a Jupyter environment, please rerun this cell to show the HTML representation or trust the notebook. <br />On GitHub, the HTML representation is unable to render, please try loading this page with nbviewer.org.</b></div><div class=\"sk-container\" hidden><div class=\"sk-item\"><div class=\"sk-estimator sk-toggleable\"><input class=\"sk-toggleable__control sk-hidden--visually\" id=\"sk-estimator-id-2\" type=\"checkbox\" checked><label for=\"sk-estimator-id-2\" class=\"sk-toggleable__label sk-toggleable__label-arrow\">LinearRegression</label><div class=\"sk-toggleable__content\"><pre>LinearRegression()</pre></div></div></div></div></div>"
            ]
          },
          "metadata": {},
          "execution_count": 12
        }
      ]
    },
    {
      "cell_type": "code",
      "source": [
        "print(reg.coef_)\n",
        "print(reg.intercept_)"
      ],
      "metadata": {
        "colab": {
          "base_uri": "https://localhost:8080/"
        },
        "id": "n1U2Q0Jd4WPS",
        "outputId": "f4cb89ec-5f00-4d42-f466-7d6432e35af2"
      },
      "execution_count": null,
      "outputs": [
        {
          "output_type": "stream",
          "name": "stdout",
          "text": [
            "[  -9.15865318 -205.45432163  516.69374454  340.61999905 -895.5520019\n",
            "  561.22067904  153.89310954  126.73139688  861.12700152   52.42112238]\n",
            "151.88331005254167\n"
          ]
        }
      ]
    },
    {
      "cell_type": "code",
      "source": [
        "y_pred=reg.predict(x_test)\n",
        "r2_score(y_test,y_pred)"
      ],
      "metadata": {
        "colab": {
          "base_uri": "https://localhost:8080/"
        },
        "id": "WulWbPbB5Rg5",
        "outputId": "7f350ceb-dad3-4f20-a3fe-fe09ab7a9049"
      },
      "execution_count": null,
      "outputs": [
        {
          "output_type": "execute_result",
          "data": {
            "text/plain": [
              "0.4399338661568968"
            ]
          },
          "metadata": {},
          "execution_count": 14
        }
      ]
    },
    {
      "cell_type": "code",
      "source": [
        "class sgdregressor:\n",
        "  def __init__(self,learning_rate=0.01,epochs=100):\n",
        "    self.lr=learning_rate\n",
        "    self.epochs=epochs\n",
        "    self.coef_=None\n",
        "    self.intercept_=0\n",
        "  def fit(self,x_train,y_train):\n",
        "    self.coef_=np.ones(x_train.shape[1])\n",
        "    self.intercept_=0\n",
        "    for i in range(self.epochs):\n",
        "      for j in range(x_train.shape[0]):\n",
        "        idx=np.random.randint(0,x_train.shape[0])\n",
        "        y_hat=np.dot(x_train[idx],self.coef_)+self.intercept_\n",
        "        intercept_der=-2*(y_train[idx]-y_hat)\n",
        "        self.intercept_=self.intercept_-(self.lr*intercept_der)\n",
        "        coef_der=-2*np.dot((y_train[idx]-y_hat),x_train[idx])\n",
        "        self.coef_=self.coef_-(self.lr*coef_der)\n",
        "    print(self.intercept_,self.coef_)\n",
        "  def predict(self,x_test):\n",
        "    return np.dot(x_test,self.coef_)+self.intercept_"
      ],
      "metadata": {
        "id": "661tPz8zOPMH"
      },
      "execution_count": null,
      "outputs": []
    },
    {
      "cell_type": "code",
      "source": [
        "sgd=sgdregressor(learning_rate=0.01,epochs=40)"
      ],
      "metadata": {
        "id": "ntLVMntQTkjV"
      },
      "execution_count": null,
      "outputs": []
    },
    {
      "cell_type": "code",
      "source": [
        "start=time.time()\n",
        "sgd.fit(x_train,y_train)\n",
        "print(\"Time taken is\", time.time()-start)"
      ],
      "metadata": {
        "colab": {
          "base_uri": "https://localhost:8080/"
        },
        "id": "QRGqyWnMTvmM",
        "outputId": "f66b2587-d40d-429d-ecf2-505209c8cb78"
      },
      "execution_count": null,
      "outputs": [
        {
          "output_type": "stream",
          "name": "stdout",
          "text": [
            "154.71103972995388 [  55.92153499  -51.04447816  315.89852847  223.12723549   27.53860582\n",
            "   -7.13201859 -162.49173817  131.96693501  282.6173574   122.76995858]\n",
            "Time taken is 0.5007903575897217\n"
          ]
        }
      ]
    },
    {
      "cell_type": "code",
      "source": [
        "y_pred=sgd.predict(x_test)"
      ],
      "metadata": {
        "id": "HtUPDagdUAwJ"
      },
      "execution_count": null,
      "outputs": []
    },
    {
      "cell_type": "code",
      "source": [
        "r2_score(y_test,y_pred)"
      ],
      "metadata": {
        "colab": {
          "base_uri": "https://localhost:8080/"
        },
        "id": "tWmr6R3vUMk8",
        "outputId": "c278e848-526b-432a-be74-3e054d8f2db9"
      },
      "execution_count": null,
      "outputs": [
        {
          "output_type": "execute_result",
          "data": {
            "text/plain": [
              "0.4214368552186991"
            ]
          },
          "metadata": {},
          "execution_count": 20
        }
      ]
    },
    {
      "cell_type": "code",
      "source": [
        "r2_score(y_test,y_pred)"
      ],
      "metadata": {
        "colab": {
          "base_uri": "https://localhost:8080/"
        },
        "id": "vNi18W75UZTl",
        "outputId": "be22ab46-00d3-4b20-d5a1-9dce06dafa09"
      },
      "execution_count": null,
      "outputs": [
        {
          "output_type": "execute_result",
          "data": {
            "text/plain": [
              "0.4214368552186991"
            ]
          },
          "metadata": {},
          "execution_count": 22
        }
      ]
    },
    {
      "cell_type": "code",
      "source": [
        "from sklearn.linear_model import SGDRegressor"
      ],
      "metadata": {
        "id": "A-EkeG7gUmaC"
      },
      "execution_count": null,
      "outputs": []
    },
    {
      "cell_type": "code",
      "source": [
        "reg1=SGDRegressor(max_iter=100,learning_rate='constant',eta0=0.01)"
      ],
      "metadata": {
        "id": "AReZJtkrViD-"
      },
      "execution_count": null,
      "outputs": []
    },
    {
      "cell_type": "code",
      "source": [
        "reg1.fit(x_train,y_train)"
      ],
      "metadata": {
        "colab": {
          "base_uri": "https://localhost:8080/",
          "height": 129
        },
        "id": "OwroPoBmV2EL",
        "outputId": "ba93a0a3-ac97-4c9c-af1c-6c1bbf4617bf"
      },
      "execution_count": null,
      "outputs": [
        {
          "output_type": "stream",
          "name": "stderr",
          "text": [
            "/usr/local/lib/python3.10/dist-packages/sklearn/linear_model/_stochastic_gradient.py:1548: ConvergenceWarning: Maximum number of iteration reached before convergence. Consider increasing max_iter to improve the fit.\n",
            "  warnings.warn(\n"
          ]
        },
        {
          "output_type": "execute_result",
          "data": {
            "text/plain": [
              "SGDRegressor(learning_rate='constant', max_iter=100)"
            ],
            "text/html": [
              "<style>#sk-container-id-3 {color: black;background-color: white;}#sk-container-id-3 pre{padding: 0;}#sk-container-id-3 div.sk-toggleable {background-color: white;}#sk-container-id-3 label.sk-toggleable__label {cursor: pointer;display: block;width: 100%;margin-bottom: 0;padding: 0.3em;box-sizing: border-box;text-align: center;}#sk-container-id-3 label.sk-toggleable__label-arrow:before {content: \"▸\";float: left;margin-right: 0.25em;color: #696969;}#sk-container-id-3 label.sk-toggleable__label-arrow:hover:before {color: black;}#sk-container-id-3 div.sk-estimator:hover label.sk-toggleable__label-arrow:before {color: black;}#sk-container-id-3 div.sk-toggleable__content {max-height: 0;max-width: 0;overflow: hidden;text-align: left;background-color: #f0f8ff;}#sk-container-id-3 div.sk-toggleable__content pre {margin: 0.2em;color: black;border-radius: 0.25em;background-color: #f0f8ff;}#sk-container-id-3 input.sk-toggleable__control:checked~div.sk-toggleable__content {max-height: 200px;max-width: 100%;overflow: auto;}#sk-container-id-3 input.sk-toggleable__control:checked~label.sk-toggleable__label-arrow:before {content: \"▾\";}#sk-container-id-3 div.sk-estimator input.sk-toggleable__control:checked~label.sk-toggleable__label {background-color: #d4ebff;}#sk-container-id-3 div.sk-label input.sk-toggleable__control:checked~label.sk-toggleable__label {background-color: #d4ebff;}#sk-container-id-3 input.sk-hidden--visually {border: 0;clip: rect(1px 1px 1px 1px);clip: rect(1px, 1px, 1px, 1px);height: 1px;margin: -1px;overflow: hidden;padding: 0;position: absolute;width: 1px;}#sk-container-id-3 div.sk-estimator {font-family: monospace;background-color: #f0f8ff;border: 1px dotted black;border-radius: 0.25em;box-sizing: border-box;margin-bottom: 0.5em;}#sk-container-id-3 div.sk-estimator:hover {background-color: #d4ebff;}#sk-container-id-3 div.sk-parallel-item::after {content: \"\";width: 100%;border-bottom: 1px solid gray;flex-grow: 1;}#sk-container-id-3 div.sk-label:hover label.sk-toggleable__label {background-color: #d4ebff;}#sk-container-id-3 div.sk-serial::before {content: \"\";position: absolute;border-left: 1px solid gray;box-sizing: border-box;top: 0;bottom: 0;left: 50%;z-index: 0;}#sk-container-id-3 div.sk-serial {display: flex;flex-direction: column;align-items: center;background-color: white;padding-right: 0.2em;padding-left: 0.2em;position: relative;}#sk-container-id-3 div.sk-item {position: relative;z-index: 1;}#sk-container-id-3 div.sk-parallel {display: flex;align-items: stretch;justify-content: center;background-color: white;position: relative;}#sk-container-id-3 div.sk-item::before, #sk-container-id-3 div.sk-parallel-item::before {content: \"\";position: absolute;border-left: 1px solid gray;box-sizing: border-box;top: 0;bottom: 0;left: 50%;z-index: -1;}#sk-container-id-3 div.sk-parallel-item {display: flex;flex-direction: column;z-index: 1;position: relative;background-color: white;}#sk-container-id-3 div.sk-parallel-item:first-child::after {align-self: flex-end;width: 50%;}#sk-container-id-3 div.sk-parallel-item:last-child::after {align-self: flex-start;width: 50%;}#sk-container-id-3 div.sk-parallel-item:only-child::after {width: 0;}#sk-container-id-3 div.sk-dashed-wrapped {border: 1px dashed gray;margin: 0 0.4em 0.5em 0.4em;box-sizing: border-box;padding-bottom: 0.4em;background-color: white;}#sk-container-id-3 div.sk-label label {font-family: monospace;font-weight: bold;display: inline-block;line-height: 1.2em;}#sk-container-id-3 div.sk-label-container {text-align: center;}#sk-container-id-3 div.sk-container {/* jupyter's `normalize.less` sets `[hidden] { display: none; }` but bootstrap.min.css set `[hidden] { display: none !important; }` so we also need the `!important` here to be able to override the default hidden behavior on the sphinx rendered scikit-learn.org. See: https://github.com/scikit-learn/scikit-learn/issues/21755 */display: inline-block !important;position: relative;}#sk-container-id-3 div.sk-text-repr-fallback {display: none;}</style><div id=\"sk-container-id-3\" class=\"sk-top-container\"><div class=\"sk-text-repr-fallback\"><pre>SGDRegressor(learning_rate=&#x27;constant&#x27;, max_iter=100)</pre><b>In a Jupyter environment, please rerun this cell to show the HTML representation or trust the notebook. <br />On GitHub, the HTML representation is unable to render, please try loading this page with nbviewer.org.</b></div><div class=\"sk-container\" hidden><div class=\"sk-item\"><div class=\"sk-estimator sk-toggleable\"><input class=\"sk-toggleable__control sk-hidden--visually\" id=\"sk-estimator-id-3\" type=\"checkbox\" checked><label for=\"sk-estimator-id-3\" class=\"sk-toggleable__label sk-toggleable__label-arrow\">SGDRegressor</label><div class=\"sk-toggleable__content\"><pre>SGDRegressor(learning_rate=&#x27;constant&#x27;, max_iter=100)</pre></div></div></div></div></div>"
            ]
          },
          "metadata": {},
          "execution_count": 25
        }
      ]
    },
    {
      "cell_type": "code",
      "source": [
        "y_pred=reg1.predict(x_test)"
      ],
      "metadata": {
        "id": "XG67FTQyV9ZQ"
      },
      "execution_count": null,
      "outputs": []
    },
    {
      "cell_type": "code",
      "source": [
        "r2_score(y_test,y_pred)"
      ],
      "metadata": {
        "colab": {
          "base_uri": "https://localhost:8080/"
        },
        "id": "t4qVU-ZIWERL",
        "outputId": "3c19bd37-0e19-44d6-c867-5ab798f8d293"
      },
      "execution_count": null,
      "outputs": [
        {
          "output_type": "execute_result",
          "data": {
            "text/plain": [
              "0.4328907923903025"
            ]
          },
          "metadata": {},
          "execution_count": 27
        }
      ]
    },
    {
      "cell_type": "code",
      "source": [
        "#perceptron\n",
        "import numpy as np\n",
        "import pandas as pd\n",
        "import seaborn as sns\n",
        "import matplotlib.pyplot as plt"
      ],
      "metadata": {
        "id": "icEYQEkA2pLm"
      },
      "execution_count": null,
      "outputs": []
    },
    {
      "cell_type": "code",
      "source": [
        "df=pd.read_csv(r\"D:\\placement.csv\")"
      ],
      "metadata": {
        "colab": {
          "base_uri": "https://localhost:8080/",
          "height": 311
        },
        "id": "cZPa-FPR3XYQ",
        "outputId": "834153bd-ae38-441d-b84b-e35cbfe0ff5f"
      },
      "execution_count": null,
      "outputs": [
        {
          "output_type": "error",
          "ename": "FileNotFoundError",
          "evalue": "ignored",
          "traceback": [
            "\u001b[0;31m---------------------------------------------------------------------------\u001b[0m",
            "\u001b[0;31mFileNotFoundError\u001b[0m                         Traceback (most recent call last)",
            "\u001b[0;32m<ipython-input-7-6b4bcd4a99ba>\u001b[0m in \u001b[0;36m<cell line: 1>\u001b[0;34m()\u001b[0m\n\u001b[0;32m----> 1\u001b[0;31m \u001b[0mdf\u001b[0m\u001b[0;34m=\u001b[0m\u001b[0mpd\u001b[0m\u001b[0;34m.\u001b[0m\u001b[0mread_csv\u001b[0m\u001b[0;34m(\u001b[0m\u001b[0;34mr\"D:\\placement.csv\"\u001b[0m\u001b[0;34m)\u001b[0m\u001b[0;34m\u001b[0m\u001b[0;34m\u001b[0m\u001b[0m\n\u001b[0m",
            "\u001b[0;32m/usr/local/lib/python3.10/dist-packages/pandas/util/_decorators.py\u001b[0m in \u001b[0;36mwrapper\u001b[0;34m(*args, **kwargs)\u001b[0m\n\u001b[1;32m    209\u001b[0m                 \u001b[0;32melse\u001b[0m\u001b[0;34m:\u001b[0m\u001b[0;34m\u001b[0m\u001b[0;34m\u001b[0m\u001b[0m\n\u001b[1;32m    210\u001b[0m                     \u001b[0mkwargs\u001b[0m\u001b[0;34m[\u001b[0m\u001b[0mnew_arg_name\u001b[0m\u001b[0;34m]\u001b[0m \u001b[0;34m=\u001b[0m \u001b[0mnew_arg_value\u001b[0m\u001b[0;34m\u001b[0m\u001b[0;34m\u001b[0m\u001b[0m\n\u001b[0;32m--> 211\u001b[0;31m             \u001b[0;32mreturn\u001b[0m \u001b[0mfunc\u001b[0m\u001b[0;34m(\u001b[0m\u001b[0;34m*\u001b[0m\u001b[0margs\u001b[0m\u001b[0;34m,\u001b[0m \u001b[0;34m**\u001b[0m\u001b[0mkwargs\u001b[0m\u001b[0;34m)\u001b[0m\u001b[0;34m\u001b[0m\u001b[0;34m\u001b[0m\u001b[0m\n\u001b[0m\u001b[1;32m    212\u001b[0m \u001b[0;34m\u001b[0m\u001b[0m\n\u001b[1;32m    213\u001b[0m         \u001b[0;32mreturn\u001b[0m \u001b[0mcast\u001b[0m\u001b[0;34m(\u001b[0m\u001b[0mF\u001b[0m\u001b[0;34m,\u001b[0m \u001b[0mwrapper\u001b[0m\u001b[0;34m)\u001b[0m\u001b[0;34m\u001b[0m\u001b[0;34m\u001b[0m\u001b[0m\n",
            "\u001b[0;32m/usr/local/lib/python3.10/dist-packages/pandas/util/_decorators.py\u001b[0m in \u001b[0;36mwrapper\u001b[0;34m(*args, **kwargs)\u001b[0m\n\u001b[1;32m    329\u001b[0m                     \u001b[0mstacklevel\u001b[0m\u001b[0;34m=\u001b[0m\u001b[0mfind_stack_level\u001b[0m\u001b[0;34m(\u001b[0m\u001b[0;34m)\u001b[0m\u001b[0;34m,\u001b[0m\u001b[0;34m\u001b[0m\u001b[0;34m\u001b[0m\u001b[0m\n\u001b[1;32m    330\u001b[0m                 )\n\u001b[0;32m--> 331\u001b[0;31m             \u001b[0;32mreturn\u001b[0m \u001b[0mfunc\u001b[0m\u001b[0;34m(\u001b[0m\u001b[0;34m*\u001b[0m\u001b[0margs\u001b[0m\u001b[0;34m,\u001b[0m \u001b[0;34m**\u001b[0m\u001b[0mkwargs\u001b[0m\u001b[0;34m)\u001b[0m\u001b[0;34m\u001b[0m\u001b[0;34m\u001b[0m\u001b[0m\n\u001b[0m\u001b[1;32m    332\u001b[0m \u001b[0;34m\u001b[0m\u001b[0m\n\u001b[1;32m    333\u001b[0m         \u001b[0;31m# error: \"Callable[[VarArg(Any), KwArg(Any)], Any]\" has no\u001b[0m\u001b[0;34m\u001b[0m\u001b[0;34m\u001b[0m\u001b[0m\n",
            "\u001b[0;32m/usr/local/lib/python3.10/dist-packages/pandas/io/parsers/readers.py\u001b[0m in \u001b[0;36mread_csv\u001b[0;34m(filepath_or_buffer, sep, delimiter, header, names, index_col, usecols, squeeze, prefix, mangle_dupe_cols, dtype, engine, converters, true_values, false_values, skipinitialspace, skiprows, skipfooter, nrows, na_values, keep_default_na, na_filter, verbose, skip_blank_lines, parse_dates, infer_datetime_format, keep_date_col, date_parser, dayfirst, cache_dates, iterator, chunksize, compression, thousands, decimal, lineterminator, quotechar, quoting, doublequote, escapechar, comment, encoding, encoding_errors, dialect, error_bad_lines, warn_bad_lines, on_bad_lines, delim_whitespace, low_memory, memory_map, float_precision, storage_options)\u001b[0m\n\u001b[1;32m    948\u001b[0m     \u001b[0mkwds\u001b[0m\u001b[0;34m.\u001b[0m\u001b[0mupdate\u001b[0m\u001b[0;34m(\u001b[0m\u001b[0mkwds_defaults\u001b[0m\u001b[0;34m)\u001b[0m\u001b[0;34m\u001b[0m\u001b[0;34m\u001b[0m\u001b[0m\n\u001b[1;32m    949\u001b[0m \u001b[0;34m\u001b[0m\u001b[0m\n\u001b[0;32m--> 950\u001b[0;31m     \u001b[0;32mreturn\u001b[0m \u001b[0m_read\u001b[0m\u001b[0;34m(\u001b[0m\u001b[0mfilepath_or_buffer\u001b[0m\u001b[0;34m,\u001b[0m \u001b[0mkwds\u001b[0m\u001b[0;34m)\u001b[0m\u001b[0;34m\u001b[0m\u001b[0;34m\u001b[0m\u001b[0m\n\u001b[0m\u001b[1;32m    951\u001b[0m \u001b[0;34m\u001b[0m\u001b[0m\n\u001b[1;32m    952\u001b[0m \u001b[0;34m\u001b[0m\u001b[0m\n",
            "\u001b[0;32m/usr/local/lib/python3.10/dist-packages/pandas/io/parsers/readers.py\u001b[0m in \u001b[0;36m_read\u001b[0;34m(filepath_or_buffer, kwds)\u001b[0m\n\u001b[1;32m    603\u001b[0m \u001b[0;34m\u001b[0m\u001b[0m\n\u001b[1;32m    604\u001b[0m     \u001b[0;31m# Create the parser.\u001b[0m\u001b[0;34m\u001b[0m\u001b[0;34m\u001b[0m\u001b[0m\n\u001b[0;32m--> 605\u001b[0;31m     \u001b[0mparser\u001b[0m \u001b[0;34m=\u001b[0m \u001b[0mTextFileReader\u001b[0m\u001b[0;34m(\u001b[0m\u001b[0mfilepath_or_buffer\u001b[0m\u001b[0;34m,\u001b[0m \u001b[0;34m**\u001b[0m\u001b[0mkwds\u001b[0m\u001b[0;34m)\u001b[0m\u001b[0;34m\u001b[0m\u001b[0;34m\u001b[0m\u001b[0m\n\u001b[0m\u001b[1;32m    606\u001b[0m \u001b[0;34m\u001b[0m\u001b[0m\n\u001b[1;32m    607\u001b[0m     \u001b[0;32mif\u001b[0m \u001b[0mchunksize\u001b[0m \u001b[0;32mor\u001b[0m \u001b[0miterator\u001b[0m\u001b[0;34m:\u001b[0m\u001b[0;34m\u001b[0m\u001b[0;34m\u001b[0m\u001b[0m\n",
            "\u001b[0;32m/usr/local/lib/python3.10/dist-packages/pandas/io/parsers/readers.py\u001b[0m in \u001b[0;36m__init__\u001b[0;34m(self, f, engine, **kwds)\u001b[0m\n\u001b[1;32m   1440\u001b[0m \u001b[0;34m\u001b[0m\u001b[0m\n\u001b[1;32m   1441\u001b[0m         \u001b[0mself\u001b[0m\u001b[0;34m.\u001b[0m\u001b[0mhandles\u001b[0m\u001b[0;34m:\u001b[0m \u001b[0mIOHandles\u001b[0m \u001b[0;34m|\u001b[0m \u001b[0;32mNone\u001b[0m \u001b[0;34m=\u001b[0m \u001b[0;32mNone\u001b[0m\u001b[0;34m\u001b[0m\u001b[0;34m\u001b[0m\u001b[0m\n\u001b[0;32m-> 1442\u001b[0;31m         \u001b[0mself\u001b[0m\u001b[0;34m.\u001b[0m\u001b[0m_engine\u001b[0m \u001b[0;34m=\u001b[0m \u001b[0mself\u001b[0m\u001b[0;34m.\u001b[0m\u001b[0m_make_engine\u001b[0m\u001b[0;34m(\u001b[0m\u001b[0mf\u001b[0m\u001b[0;34m,\u001b[0m \u001b[0mself\u001b[0m\u001b[0;34m.\u001b[0m\u001b[0mengine\u001b[0m\u001b[0;34m)\u001b[0m\u001b[0;34m\u001b[0m\u001b[0;34m\u001b[0m\u001b[0m\n\u001b[0m\u001b[1;32m   1443\u001b[0m \u001b[0;34m\u001b[0m\u001b[0m\n\u001b[1;32m   1444\u001b[0m     \u001b[0;32mdef\u001b[0m \u001b[0mclose\u001b[0m\u001b[0;34m(\u001b[0m\u001b[0mself\u001b[0m\u001b[0;34m)\u001b[0m \u001b[0;34m->\u001b[0m \u001b[0;32mNone\u001b[0m\u001b[0;34m:\u001b[0m\u001b[0;34m\u001b[0m\u001b[0;34m\u001b[0m\u001b[0m\n",
            "\u001b[0;32m/usr/local/lib/python3.10/dist-packages/pandas/io/parsers/readers.py\u001b[0m in \u001b[0;36m_make_engine\u001b[0;34m(self, f, engine)\u001b[0m\n\u001b[1;32m   1733\u001b[0m                 \u001b[0;32mif\u001b[0m \u001b[0;34m\"b\"\u001b[0m \u001b[0;32mnot\u001b[0m \u001b[0;32min\u001b[0m \u001b[0mmode\u001b[0m\u001b[0;34m:\u001b[0m\u001b[0;34m\u001b[0m\u001b[0;34m\u001b[0m\u001b[0m\n\u001b[1;32m   1734\u001b[0m                     \u001b[0mmode\u001b[0m \u001b[0;34m+=\u001b[0m \u001b[0;34m\"b\"\u001b[0m\u001b[0;34m\u001b[0m\u001b[0;34m\u001b[0m\u001b[0m\n\u001b[0;32m-> 1735\u001b[0;31m             self.handles = get_handle(\n\u001b[0m\u001b[1;32m   1736\u001b[0m                 \u001b[0mf\u001b[0m\u001b[0;34m,\u001b[0m\u001b[0;34m\u001b[0m\u001b[0;34m\u001b[0m\u001b[0m\n\u001b[1;32m   1737\u001b[0m                 \u001b[0mmode\u001b[0m\u001b[0;34m,\u001b[0m\u001b[0;34m\u001b[0m\u001b[0;34m\u001b[0m\u001b[0m\n",
            "\u001b[0;32m/usr/local/lib/python3.10/dist-packages/pandas/io/common.py\u001b[0m in \u001b[0;36mget_handle\u001b[0;34m(path_or_buf, mode, encoding, compression, memory_map, is_text, errors, storage_options)\u001b[0m\n\u001b[1;32m    854\u001b[0m         \u001b[0;32mif\u001b[0m \u001b[0mioargs\u001b[0m\u001b[0;34m.\u001b[0m\u001b[0mencoding\u001b[0m \u001b[0;32mand\u001b[0m \u001b[0;34m\"b\"\u001b[0m \u001b[0;32mnot\u001b[0m \u001b[0;32min\u001b[0m \u001b[0mioargs\u001b[0m\u001b[0;34m.\u001b[0m\u001b[0mmode\u001b[0m\u001b[0;34m:\u001b[0m\u001b[0;34m\u001b[0m\u001b[0;34m\u001b[0m\u001b[0m\n\u001b[1;32m    855\u001b[0m             \u001b[0;31m# Encoding\u001b[0m\u001b[0;34m\u001b[0m\u001b[0;34m\u001b[0m\u001b[0m\n\u001b[0;32m--> 856\u001b[0;31m             handle = open(\n\u001b[0m\u001b[1;32m    857\u001b[0m                 \u001b[0mhandle\u001b[0m\u001b[0;34m,\u001b[0m\u001b[0;34m\u001b[0m\u001b[0;34m\u001b[0m\u001b[0m\n\u001b[1;32m    858\u001b[0m                 \u001b[0mioargs\u001b[0m\u001b[0;34m.\u001b[0m\u001b[0mmode\u001b[0m\u001b[0;34m,\u001b[0m\u001b[0;34m\u001b[0m\u001b[0;34m\u001b[0m\u001b[0m\n",
            "\u001b[0;31mFileNotFoundError\u001b[0m: [Errno 2] No such file or directory: 'D:\\\\placement.csv'"
          ]
        }
      ]
    }
  ]
}